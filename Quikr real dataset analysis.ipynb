{
 "cells": [
  {
   "cell_type": "code",
   "execution_count": 1,
   "id": "54912554",
   "metadata": {},
   "outputs": [],
   "source": [
    "import pandas as pd\n",
    "import numpy as np\n",
    "import matplotlib.pyplot as plt\n",
    "%matplotlib inline\n",
    "import sklearn\n"
   ]
  },
  {
   "cell_type": "code",
   "execution_count": 2,
   "id": "66c4c82c",
   "metadata": {},
   "outputs": [
    {
     "name": "stdout",
     "output_type": "stream",
     "text": [
      "1.3.0\n"
     ]
    }
   ],
   "source": [
    "print(sklearn.__version__)\n"
   ]
  },
  {
   "cell_type": "code",
   "execution_count": 3,
   "id": "831681ac",
   "metadata": {},
   "outputs": [],
   "source": [
    "car=pd.read_csv('Quikr cars.csv')"
   ]
  },
  {
   "cell_type": "code",
   "execution_count": 4,
   "id": "473b660a",
   "metadata": {},
   "outputs": [
    {
     "data": {
      "text/html": [
       "<div>\n",
       "<style scoped>\n",
       "    .dataframe tbody tr th:only-of-type {\n",
       "        vertical-align: middle;\n",
       "    }\n",
       "\n",
       "    .dataframe tbody tr th {\n",
       "        vertical-align: top;\n",
       "    }\n",
       "\n",
       "    .dataframe thead th {\n",
       "        text-align: right;\n",
       "    }\n",
       "</style>\n",
       "<table border=\"1\" class=\"dataframe\">\n",
       "  <thead>\n",
       "    <tr style=\"text-align: right;\">\n",
       "      <th></th>\n",
       "      <th>Name</th>\n",
       "      <th>Price</th>\n",
       "      <th>Kms_driven</th>\n",
       "      <th>Fuel_type</th>\n",
       "      <th>Year</th>\n",
       "      <th>Company</th>\n",
       "    </tr>\n",
       "  </thead>\n",
       "  <tbody>\n",
       "    <tr>\n",
       "      <th>0</th>\n",
       "      <td>Ford Figo Duratec Petrol EXI 1.2 - 2015</td>\n",
       "      <td>3,80,000</td>\n",
       "      <td>35,056 kms</td>\n",
       "      <td>Petrol</td>\n",
       "      <td>2015</td>\n",
       "      <td>Ford</td>\n",
       "    </tr>\n",
       "    <tr>\n",
       "      <th>1</th>\n",
       "      <td>Maruti Suzuki Wagon R VXI BS IV - 2016</td>\n",
       "      <td>4,65,000</td>\n",
       "      <td>44,000 kms</td>\n",
       "      <td>Petrol</td>\n",
       "      <td>2016</td>\n",
       "      <td>Maruti</td>\n",
       "    </tr>\n",
       "    <tr>\n",
       "      <th>2</th>\n",
       "      <td>Hyundai Creta 1.6 SX PLUS AUTO PETROL - 2018</td>\n",
       "      <td>13,50,000</td>\n",
       "      <td>42,917 kms</td>\n",
       "      <td>Petrol</td>\n",
       "      <td>2018</td>\n",
       "      <td>Hyundai</td>\n",
       "    </tr>\n",
       "    <tr>\n",
       "      <th>3</th>\n",
       "      <td>Hyundai Venue - 2019</td>\n",
       "      <td>10,19,699</td>\n",
       "      <td>16,112 kms</td>\n",
       "      <td>Petrol</td>\n",
       "      <td>2019</td>\n",
       "      <td>Hyundai</td>\n",
       "    </tr>\n",
       "    <tr>\n",
       "      <th>4</th>\n",
       "      <td>Honda Jazz - 2017</td>\n",
       "      <td>7,13,499</td>\n",
       "      <td>30,988 kms</td>\n",
       "      <td>Petrol</td>\n",
       "      <td>2017</td>\n",
       "      <td>Honda</td>\n",
       "    </tr>\n",
       "  </tbody>\n",
       "</table>\n",
       "</div>"
      ],
      "text/plain": [
       "                                           Name      Price   Kms_driven  \\\n",
       "0       Ford Figo Duratec Petrol EXI 1.2 - 2015   3,80,000  35,056 kms    \n",
       "1        Maruti Suzuki Wagon R VXI BS IV - 2016   4,65,000  44,000 kms    \n",
       "2  Hyundai Creta 1.6 SX PLUS AUTO PETROL - 2018  13,50,000  42,917 kms    \n",
       "3                          Hyundai Venue - 2019  10,19,699  16,112 kms    \n",
       "4                             Honda Jazz - 2017   7,13,499  30,988 kms    \n",
       "\n",
       "  Fuel_type  Year  Company  \n",
       "0    Petrol  2015     Ford  \n",
       "1    Petrol  2016   Maruti  \n",
       "2    Petrol  2018  Hyundai  \n",
       "3    Petrol  2019  Hyundai  \n",
       "4    Petrol  2017    Honda  "
      ]
     },
     "execution_count": 4,
     "metadata": {},
     "output_type": "execute_result"
    }
   ],
   "source": [
    "car.head()"
   ]
  },
  {
   "cell_type": "code",
   "execution_count": 5,
   "id": "99be4c13",
   "metadata": {},
   "outputs": [
    {
     "data": {
      "text/plain": [
       "(1028, 6)"
      ]
     },
     "execution_count": 5,
     "metadata": {},
     "output_type": "execute_result"
    }
   ],
   "source": [
    "car.shape"
   ]
  },
  {
   "cell_type": "code",
   "execution_count": 6,
   "id": "33f80a12",
   "metadata": {},
   "outputs": [
    {
     "data": {
      "text/plain": [
       "array(['Petrol', 'Diesel', 'CNG'], dtype=object)"
      ]
     },
     "execution_count": 6,
     "metadata": {},
     "output_type": "execute_result"
    }
   ],
   "source": [
    "car['Fuel_type'].unique()"
   ]
  },
  {
   "cell_type": "code",
   "execution_count": 7,
   "id": "bd54c75c",
   "metadata": {},
   "outputs": [
    {
     "name": "stdout",
     "output_type": "stream",
     "text": [
      "<class 'pandas.core.frame.DataFrame'>\n",
      "RangeIndex: 1028 entries, 0 to 1027\n",
      "Data columns (total 6 columns):\n",
      " #   Column      Non-Null Count  Dtype \n",
      "---  ------      --------------  ----- \n",
      " 0   Name        1028 non-null   object\n",
      " 1   Price       1028 non-null   object\n",
      " 2   Kms_driven  1028 non-null   object\n",
      " 3   Fuel_type   1028 non-null   object\n",
      " 4   Year        1028 non-null   int64 \n",
      " 5   Company     1028 non-null   object\n",
      "dtypes: int64(1), object(5)\n",
      "memory usage: 48.3+ KB\n"
     ]
    }
   ],
   "source": [
    "car.info()"
   ]
  },
  {
   "cell_type": "markdown",
   "id": "54559b10",
   "metadata": {},
   "source": [
    "# Data Cleaning "
   ]
  },
  {
   "cell_type": "code",
   "execution_count": 8,
   "id": "f9e27fe9",
   "metadata": {},
   "outputs": [],
   "source": [
    "#Year is in int64. Change to int32.\n",
    "car['Year']=car['Year'].astype(int)"
   ]
  },
  {
   "cell_type": "code",
   "execution_count": 9,
   "id": "170d76f8",
   "metadata": {},
   "outputs": [],
   "source": [
    "#Price has Ask for Price\n",
    "car=car[car['Price']!='Ask For Price']"
   ]
  },
  {
   "cell_type": "code",
   "execution_count": 10,
   "id": "6997db66",
   "metadata": {},
   "outputs": [],
   "source": [
    "#Price has commas in its prices and is in object\n",
    "car['Price']=car['Price'].str.replace(',','').astype(int)"
   ]
  },
  {
   "cell_type": "code",
   "execution_count": 11,
   "id": "3edcb8f5",
   "metadata": {},
   "outputs": [],
   "source": [
    "#Kms_driven has object values with kms at last.\n",
    "car['Kms_driven']=car['Kms_driven'].str.split().str.get(0).str.replace(',','')"
   ]
  },
  {
   "cell_type": "code",
   "execution_count": 12,
   "id": "20252290",
   "metadata": {},
   "outputs": [],
   "source": [
    "car=car[car['Kms_driven'].str.isnumeric()]"
   ]
  },
  {
   "cell_type": "code",
   "execution_count": 13,
   "id": "15e8f0f3",
   "metadata": {},
   "outputs": [],
   "source": [
    "car['Kms_driven']=car['Kms_driven'].astype(int)"
   ]
  },
  {
   "cell_type": "code",
   "execution_count": 14,
   "id": "77f52c0d",
   "metadata": {},
   "outputs": [
    {
     "data": {
      "text/plain": [
       "(1022, 6)"
      ]
     },
     "execution_count": 14,
     "metadata": {},
     "output_type": "execute_result"
    }
   ],
   "source": [
    "car.shape"
   ]
  },
  {
   "cell_type": "code",
   "execution_count": 15,
   "id": "ed08a901",
   "metadata": {},
   "outputs": [],
   "source": [
    "#Company does not need any cleaning now. Changing car names. Keeping only the first three words\n",
    "car['Name']=car['Name'].str.split().str.slice(start=0,stop=3).str.join(' ')"
   ]
  },
  {
   "cell_type": "code",
   "execution_count": 16,
   "id": "23ac6c5c",
   "metadata": {},
   "outputs": [],
   "source": [
    "# Remove '-' from the end of strings in the 'Name' column\n",
    "car['Name'] = car['Name'].str.rstrip('- ').str.strip()"
   ]
  },
  {
   "cell_type": "code",
   "execution_count": 17,
   "id": "e8e158da",
   "metadata": {},
   "outputs": [],
   "source": [
    "#Resetting the index of the final cleaned data\n",
    "car=car.reset_index(drop=True)"
   ]
  },
  {
   "cell_type": "code",
   "execution_count": 18,
   "id": "318e75df",
   "metadata": {},
   "outputs": [
    {
     "data": {
      "text/html": [
       "<div>\n",
       "<style scoped>\n",
       "    .dataframe tbody tr th:only-of-type {\n",
       "        vertical-align: middle;\n",
       "    }\n",
       "\n",
       "    .dataframe tbody tr th {\n",
       "        vertical-align: top;\n",
       "    }\n",
       "\n",
       "    .dataframe thead th {\n",
       "        text-align: right;\n",
       "    }\n",
       "</style>\n",
       "<table border=\"1\" class=\"dataframe\">\n",
       "  <thead>\n",
       "    <tr style=\"text-align: right;\">\n",
       "      <th></th>\n",
       "      <th>Name</th>\n",
       "      <th>Price</th>\n",
       "      <th>Kms_driven</th>\n",
       "      <th>Fuel_type</th>\n",
       "      <th>Year</th>\n",
       "      <th>Company</th>\n",
       "    </tr>\n",
       "  </thead>\n",
       "  <tbody>\n",
       "    <tr>\n",
       "      <th>0</th>\n",
       "      <td>Ford Figo Duratec</td>\n",
       "      <td>380000</td>\n",
       "      <td>35056</td>\n",
       "      <td>Petrol</td>\n",
       "      <td>2015</td>\n",
       "      <td>Ford</td>\n",
       "    </tr>\n",
       "    <tr>\n",
       "      <th>1</th>\n",
       "      <td>Maruti Suzuki Wagon</td>\n",
       "      <td>465000</td>\n",
       "      <td>44000</td>\n",
       "      <td>Petrol</td>\n",
       "      <td>2016</td>\n",
       "      <td>Maruti</td>\n",
       "    </tr>\n",
       "    <tr>\n",
       "      <th>2</th>\n",
       "      <td>Hyundai Creta 1.6</td>\n",
       "      <td>1350000</td>\n",
       "      <td>42917</td>\n",
       "      <td>Petrol</td>\n",
       "      <td>2018</td>\n",
       "      <td>Hyundai</td>\n",
       "    </tr>\n",
       "    <tr>\n",
       "      <th>3</th>\n",
       "      <td>Hyundai Venue</td>\n",
       "      <td>1019699</td>\n",
       "      <td>16112</td>\n",
       "      <td>Petrol</td>\n",
       "      <td>2019</td>\n",
       "      <td>Hyundai</td>\n",
       "    </tr>\n",
       "    <tr>\n",
       "      <th>4</th>\n",
       "      <td>Honda Jazz</td>\n",
       "      <td>713499</td>\n",
       "      <td>30988</td>\n",
       "      <td>Petrol</td>\n",
       "      <td>2017</td>\n",
       "      <td>Honda</td>\n",
       "    </tr>\n",
       "  </tbody>\n",
       "</table>\n",
       "</div>"
      ],
      "text/plain": [
       "                  Name    Price  Kms_driven Fuel_type  Year  Company\n",
       "0    Ford Figo Duratec   380000       35056    Petrol  2015     Ford\n",
       "1  Maruti Suzuki Wagon   465000       44000    Petrol  2016   Maruti\n",
       "2    Hyundai Creta 1.6  1350000       42917    Petrol  2018  Hyundai\n",
       "3        Hyundai Venue  1019699       16112    Petrol  2019  Hyundai\n",
       "4           Honda Jazz   713499       30988    Petrol  2017    Honda"
      ]
     },
     "execution_count": 18,
     "metadata": {},
     "output_type": "execute_result"
    }
   ],
   "source": [
    "car.head()"
   ]
  },
  {
   "cell_type": "code",
   "execution_count": 19,
   "id": "e367c46a",
   "metadata": {},
   "outputs": [],
   "source": [
    "car.to_csv('Cleaned_Car_data.csv')"
   ]
  },
  {
   "cell_type": "code",
   "execution_count": 20,
   "id": "5bbc5b2d",
   "metadata": {},
   "outputs": [
    {
     "name": "stdout",
     "output_type": "stream",
     "text": [
      "<class 'pandas.core.frame.DataFrame'>\n",
      "RangeIndex: 1022 entries, 0 to 1021\n",
      "Data columns (total 6 columns):\n",
      " #   Column      Non-Null Count  Dtype \n",
      "---  ------      --------------  ----- \n",
      " 0   Name        1022 non-null   object\n",
      " 1   Price       1022 non-null   int32 \n",
      " 2   Kms_driven  1022 non-null   int32 \n",
      " 3   Fuel_type   1022 non-null   object\n",
      " 4   Year        1022 non-null   int32 \n",
      " 5   Company     1022 non-null   object\n",
      "dtypes: int32(3), object(3)\n",
      "memory usage: 36.1+ KB\n"
     ]
    }
   ],
   "source": [
    "car.info()"
   ]
  },
  {
   "cell_type": "markdown",
   "id": "c4759500",
   "metadata": {},
   "source": [
    "# Extracting Training Data"
   ]
  },
  {
   "cell_type": "code",
   "execution_count": 21,
   "id": "8bb415c6",
   "metadata": {},
   "outputs": [],
   "source": [
    "X=car[['Name','Company','Year','Kms_driven','Fuel_type']]\n",
    "y=car['Price']"
   ]
  },
  {
   "cell_type": "code",
   "execution_count": 22,
   "id": "09383053",
   "metadata": {},
   "outputs": [
    {
     "data": {
      "text/html": [
       "<div>\n",
       "<style scoped>\n",
       "    .dataframe tbody tr th:only-of-type {\n",
       "        vertical-align: middle;\n",
       "    }\n",
       "\n",
       "    .dataframe tbody tr th {\n",
       "        vertical-align: top;\n",
       "    }\n",
       "\n",
       "    .dataframe thead th {\n",
       "        text-align: right;\n",
       "    }\n",
       "</style>\n",
       "<table border=\"1\" class=\"dataframe\">\n",
       "  <thead>\n",
       "    <tr style=\"text-align: right;\">\n",
       "      <th></th>\n",
       "      <th>Name</th>\n",
       "      <th>Company</th>\n",
       "      <th>Year</th>\n",
       "      <th>Kms_driven</th>\n",
       "      <th>Fuel_type</th>\n",
       "    </tr>\n",
       "  </thead>\n",
       "  <tbody>\n",
       "    <tr>\n",
       "      <th>0</th>\n",
       "      <td>Ford Figo Duratec</td>\n",
       "      <td>Ford</td>\n",
       "      <td>2015</td>\n",
       "      <td>35056</td>\n",
       "      <td>Petrol</td>\n",
       "    </tr>\n",
       "    <tr>\n",
       "      <th>1</th>\n",
       "      <td>Maruti Suzuki Wagon</td>\n",
       "      <td>Maruti</td>\n",
       "      <td>2016</td>\n",
       "      <td>44000</td>\n",
       "      <td>Petrol</td>\n",
       "    </tr>\n",
       "    <tr>\n",
       "      <th>2</th>\n",
       "      <td>Hyundai Creta 1.6</td>\n",
       "      <td>Hyundai</td>\n",
       "      <td>2018</td>\n",
       "      <td>42917</td>\n",
       "      <td>Petrol</td>\n",
       "    </tr>\n",
       "    <tr>\n",
       "      <th>3</th>\n",
       "      <td>Hyundai Venue</td>\n",
       "      <td>Hyundai</td>\n",
       "      <td>2019</td>\n",
       "      <td>16112</td>\n",
       "      <td>Petrol</td>\n",
       "    </tr>\n",
       "    <tr>\n",
       "      <th>4</th>\n",
       "      <td>Honda Jazz</td>\n",
       "      <td>Honda</td>\n",
       "      <td>2017</td>\n",
       "      <td>30988</td>\n",
       "      <td>Petrol</td>\n",
       "    </tr>\n",
       "    <tr>\n",
       "      <th>...</th>\n",
       "      <td>...</td>\n",
       "      <td>...</td>\n",
       "      <td>...</td>\n",
       "      <td>...</td>\n",
       "      <td>...</td>\n",
       "    </tr>\n",
       "    <tr>\n",
       "      <th>1017</th>\n",
       "      <td>Hyundai i10 Magna</td>\n",
       "      <td>Hyundai</td>\n",
       "      <td>2014</td>\n",
       "      <td>65000</td>\n",
       "      <td>Petrol</td>\n",
       "    </tr>\n",
       "    <tr>\n",
       "      <th>1018</th>\n",
       "      <td>Maruti Suzuki Alto</td>\n",
       "      <td>Maruti</td>\n",
       "      <td>2014</td>\n",
       "      <td>60000</td>\n",
       "      <td>Petrol</td>\n",
       "    </tr>\n",
       "    <tr>\n",
       "      <th>1019</th>\n",
       "      <td>Jeep Compass Limited</td>\n",
       "      <td>Jeep</td>\n",
       "      <td>2017</td>\n",
       "      <td>31000</td>\n",
       "      <td>Diesel</td>\n",
       "    </tr>\n",
       "    <tr>\n",
       "      <th>1020</th>\n",
       "      <td>Jeep Compass Limited</td>\n",
       "      <td>Jeep</td>\n",
       "      <td>2017</td>\n",
       "      <td>31000</td>\n",
       "      <td>Diesel</td>\n",
       "    </tr>\n",
       "    <tr>\n",
       "      <th>1021</th>\n",
       "      <td>Jeep Compass Limited</td>\n",
       "      <td>Jeep</td>\n",
       "      <td>2017</td>\n",
       "      <td>31000</td>\n",
       "      <td>Diesel</td>\n",
       "    </tr>\n",
       "  </tbody>\n",
       "</table>\n",
       "<p>1022 rows × 5 columns</p>\n",
       "</div>"
      ],
      "text/plain": [
       "                      Name  Company  Year  Kms_driven Fuel_type\n",
       "0        Ford Figo Duratec     Ford  2015       35056    Petrol\n",
       "1      Maruti Suzuki Wagon   Maruti  2016       44000    Petrol\n",
       "2        Hyundai Creta 1.6  Hyundai  2018       42917    Petrol\n",
       "3            Hyundai Venue  Hyundai  2019       16112    Petrol\n",
       "4               Honda Jazz    Honda  2017       30988    Petrol\n",
       "...                    ...      ...   ...         ...       ...\n",
       "1017     Hyundai i10 Magna  Hyundai  2014       65000    Petrol\n",
       "1018    Maruti Suzuki Alto   Maruti  2014       60000    Petrol\n",
       "1019  Jeep Compass Limited     Jeep  2017       31000    Diesel\n",
       "1020  Jeep Compass Limited     Jeep  2017       31000    Diesel\n",
       "1021  Jeep Compass Limited     Jeep  2017       31000    Diesel\n",
       "\n",
       "[1022 rows x 5 columns]"
      ]
     },
     "execution_count": 22,
     "metadata": {},
     "output_type": "execute_result"
    }
   ],
   "source": [
    "X"
   ]
  },
  {
   "cell_type": "code",
   "execution_count": 23,
   "id": "f86ef06d",
   "metadata": {},
   "outputs": [
    {
     "data": {
      "text/plain": [
       "0        380000\n",
       "1        465000\n",
       "2       1350000\n",
       "3       1019699\n",
       "4        713499\n",
       "         ...   \n",
       "1017     229000\n",
       "1018     275000\n",
       "1019    1750000\n",
       "1020    1750000\n",
       "1021    1750000\n",
       "Name: Price, Length: 1022, dtype: int32"
      ]
     },
     "execution_count": 23,
     "metadata": {},
     "output_type": "execute_result"
    }
   ],
   "source": [
    "y"
   ]
  },
  {
   "cell_type": "markdown",
   "id": "0bf252cb",
   "metadata": {},
   "source": [
    "# Train Test Split"
   ]
  },
  {
   "cell_type": "code",
   "execution_count": 24,
   "id": "e65e0be3",
   "metadata": {},
   "outputs": [],
   "source": [
    "from sklearn.linear_model import LinearRegression\n",
    "from sklearn.preprocessing import OneHotEncoder\n",
    "from sklearn.compose import make_column_transformer\n",
    "from sklearn.pipeline import make_pipeline\n",
    "from sklearn.metrics import r2_score\n",
    "from sklearn.preprocessing import LabelEncoder"
   ]
  },
  {
   "cell_type": "code",
   "execution_count": 25,
   "id": "30354ffe",
   "metadata": {},
   "outputs": [],
   "source": [
    "from sklearn.model_selection import train_test_split\n",
    "X_train,X_test,y_train,y_test=train_test_split(X,y,test_size=0.2)"
   ]
  },
  {
   "cell_type": "code",
   "execution_count": 26,
   "id": "7cf1caf9",
   "metadata": {},
   "outputs": [
    {
     "data": {
      "text/html": [
       "<style>#sk-container-id-1 {color: black;}#sk-container-id-1 pre{padding: 0;}#sk-container-id-1 div.sk-toggleable {background-color: white;}#sk-container-id-1 label.sk-toggleable__label {cursor: pointer;display: block;width: 100%;margin-bottom: 0;padding: 0.3em;box-sizing: border-box;text-align: center;}#sk-container-id-1 label.sk-toggleable__label-arrow:before {content: \"▸\";float: left;margin-right: 0.25em;color: #696969;}#sk-container-id-1 label.sk-toggleable__label-arrow:hover:before {color: black;}#sk-container-id-1 div.sk-estimator:hover label.sk-toggleable__label-arrow:before {color: black;}#sk-container-id-1 div.sk-toggleable__content {max-height: 0;max-width: 0;overflow: hidden;text-align: left;background-color: #f0f8ff;}#sk-container-id-1 div.sk-toggleable__content pre {margin: 0.2em;color: black;border-radius: 0.25em;background-color: #f0f8ff;}#sk-container-id-1 input.sk-toggleable__control:checked~div.sk-toggleable__content {max-height: 200px;max-width: 100%;overflow: auto;}#sk-container-id-1 input.sk-toggleable__control:checked~label.sk-toggleable__label-arrow:before {content: \"▾\";}#sk-container-id-1 div.sk-estimator input.sk-toggleable__control:checked~label.sk-toggleable__label {background-color: #d4ebff;}#sk-container-id-1 div.sk-label input.sk-toggleable__control:checked~label.sk-toggleable__label {background-color: #d4ebff;}#sk-container-id-1 input.sk-hidden--visually {border: 0;clip: rect(1px 1px 1px 1px);clip: rect(1px, 1px, 1px, 1px);height: 1px;margin: -1px;overflow: hidden;padding: 0;position: absolute;width: 1px;}#sk-container-id-1 div.sk-estimator {font-family: monospace;background-color: #f0f8ff;border: 1px dotted black;border-radius: 0.25em;box-sizing: border-box;margin-bottom: 0.5em;}#sk-container-id-1 div.sk-estimator:hover {background-color: #d4ebff;}#sk-container-id-1 div.sk-parallel-item::after {content: \"\";width: 100%;border-bottom: 1px solid gray;flex-grow: 1;}#sk-container-id-1 div.sk-label:hover label.sk-toggleable__label {background-color: #d4ebff;}#sk-container-id-1 div.sk-serial::before {content: \"\";position: absolute;border-left: 1px solid gray;box-sizing: border-box;top: 0;bottom: 0;left: 50%;z-index: 0;}#sk-container-id-1 div.sk-serial {display: flex;flex-direction: column;align-items: center;background-color: white;padding-right: 0.2em;padding-left: 0.2em;position: relative;}#sk-container-id-1 div.sk-item {position: relative;z-index: 1;}#sk-container-id-1 div.sk-parallel {display: flex;align-items: stretch;justify-content: center;background-color: white;position: relative;}#sk-container-id-1 div.sk-item::before, #sk-container-id-1 div.sk-parallel-item::before {content: \"\";position: absolute;border-left: 1px solid gray;box-sizing: border-box;top: 0;bottom: 0;left: 50%;z-index: -1;}#sk-container-id-1 div.sk-parallel-item {display: flex;flex-direction: column;z-index: 1;position: relative;background-color: white;}#sk-container-id-1 div.sk-parallel-item:first-child::after {align-self: flex-end;width: 50%;}#sk-container-id-1 div.sk-parallel-item:last-child::after {align-self: flex-start;width: 50%;}#sk-container-id-1 div.sk-parallel-item:only-child::after {width: 0;}#sk-container-id-1 div.sk-dashed-wrapped {border: 1px dashed gray;margin: 0 0.4em 0.5em 0.4em;box-sizing: border-box;padding-bottom: 0.4em;background-color: white;}#sk-container-id-1 div.sk-label label {font-family: monospace;font-weight: bold;display: inline-block;line-height: 1.2em;}#sk-container-id-1 div.sk-label-container {text-align: center;}#sk-container-id-1 div.sk-container {/* jupyter's `normalize.less` sets `[hidden] { display: none; }` but bootstrap.min.css set `[hidden] { display: none !important; }` so we also need the `!important` here to be able to override the default hidden behavior on the sphinx rendered scikit-learn.org. See: https://github.com/scikit-learn/scikit-learn/issues/21755 */display: inline-block !important;position: relative;}#sk-container-id-1 div.sk-text-repr-fallback {display: none;}</style><div id=\"sk-container-id-1\" class=\"sk-top-container\"><div class=\"sk-text-repr-fallback\"><pre>OneHotEncoder()</pre><b>In a Jupyter environment, please rerun this cell to show the HTML representation or trust the notebook. <br />On GitHub, the HTML representation is unable to render, please try loading this page with nbviewer.org.</b></div><div class=\"sk-container\" hidden><div class=\"sk-item\"><div class=\"sk-estimator sk-toggleable\"><input class=\"sk-toggleable__control sk-hidden--visually\" id=\"sk-estimator-id-1\" type=\"checkbox\" checked><label for=\"sk-estimator-id-1\" class=\"sk-toggleable__label sk-toggleable__label-arrow\">OneHotEncoder</label><div class=\"sk-toggleable__content\"><pre>OneHotEncoder()</pre></div></div></div></div></div>"
      ],
      "text/plain": [
       "OneHotEncoder()"
      ]
     },
     "execution_count": 26,
     "metadata": {},
     "output_type": "execute_result"
    }
   ],
   "source": [
    "#Creating an OneHotEncoder object to contain all the possible categories\n",
    "ohe=OneHotEncoder()\n",
    "ohe.fit(car[['Company','Name','Fuel_type']])"
   ]
  },
  {
   "cell_type": "code",
   "execution_count": 27,
   "id": "506ca606",
   "metadata": {
    "scrolled": true
   },
   "outputs": [
    {
     "data": {
      "text/plain": [
       "[array(['Audi', 'BMW', 'Chevrolet', 'Datsun', 'Fiat', 'Ford', 'Honda',\n",
       "        'Hyundai', 'Jaguar', 'Jeep', 'Kia', 'Land', 'MG', 'Mahindra',\n",
       "        'Maruti', 'Mercedes', 'Nissan', 'Renault', 'Skoda', 'Ssangyong',\n",
       "        'Tata', 'Toyota', 'Volkswagen', 'Volvo'], dtype=object),\n",
       " array(['Audi Q3', 'Audi Q5 2.0', 'Audi Q7 3.0', 'Audi Q7 35',\n",
       "        'BMW 3 Series', 'BMW 5 Series', 'BMW X5 xDrive30d',\n",
       "        'Chevrolet Aveo', 'Chevrolet Beat', 'Chevrolet Beat LS',\n",
       "        'Chevrolet Beat LT', 'Chevrolet Cruze LTZ', 'Chevrolet Optra',\n",
       "        'Chevrolet Sail 1.2', 'Chevrolet Spark', 'Datsun GO T',\n",
       "        'Datsun Redi GO', 'Fiat Linea Dynamic', 'Fiat Linea Emotion',\n",
       "        'Fiat Punto Emotion', 'Ford EcoSport', 'Ford EcoSport Ambiente',\n",
       "        'Ford EcoSport Titanium', 'Ford EcoSport Trend', 'Ford Ecosport',\n",
       "        'Ford Ecosport 1.0', 'Ford Endeavor 4X4', 'Ford Figo',\n",
       "        'Ford Figo 1.5', 'Ford Figo Aspire', 'Ford Figo Diesel',\n",
       "        'Ford Figo Duratec', 'Ford Freestyle', 'Ford Freestyle TITANIUM',\n",
       "        'Ford Ikon', 'Honda Accord 2.4', 'Honda Amaze', 'Honda Amaze 1.2',\n",
       "        'Honda Amaze 1.5', 'Honda BRV', 'Honda Brio', 'Honda Brio S',\n",
       "        'Honda City', 'Honda City 1.5', 'Honda City SV', 'Honda City V',\n",
       "        'Honda City VX', 'Honda City ZX', 'Honda Civic 1.8V', 'Honda Jazz',\n",
       "        'Honda Jazz 1.2', 'Honda Jazz VX', 'Honda WR V', 'Honda WRV VX',\n",
       "        'Hyundai Accent', 'Hyundai Creta', 'Hyundai Creta 1.4',\n",
       "        'Hyundai Creta 1.6', 'Hyundai Creta S', 'Hyundai EON',\n",
       "        'Hyundai EON D', 'Hyundai EON Era', 'Hyundai EON Magna',\n",
       "        'Hyundai Elite i20', 'Hyundai Eon Era', 'Hyundai Fluidic Verna',\n",
       "        'Hyundai Getz', 'Hyundai Getz GLS', 'Hyundai Grand i10',\n",
       "        'Hyundai Santa Fe', 'Hyundai Santro', 'Hyundai Santro 1.1',\n",
       "        'Hyundai Santro ASTA', 'Hyundai Santro GLS',\n",
       "        'Hyundai Santro Sportz', 'Hyundai Santro Xing', 'Hyundai Venue',\n",
       "        'Hyundai Venue S', 'Hyundai Verna', 'Hyundai Verna 1.6',\n",
       "        'Hyundai Verna FLUIDIC', 'Hyundai Verna Fluidic',\n",
       "        'Hyundai Verna SX', 'Hyundai Xcent', 'Hyundai Xcent 1.2',\n",
       "        'Hyundai Xcent S', 'Hyundai i10 Asta', 'Hyundai i10 Era',\n",
       "        'Hyundai i10 Magna', 'Hyundai i10 Sportz', 'Hyundai i20',\n",
       "        'Hyundai i20 Active', 'Hyundai i20 Asta', 'Hyundai i20 Era',\n",
       "        'Hyundai i20 Magna', 'Hyundai i20 Sportz', 'Jaguar XF 2.2',\n",
       "        'Jaguar XJ L', 'Jeep Compass', 'Jeep Compass Limited',\n",
       "        'Kia Carnival', 'Kia Seltos', 'Kia Seltos GTX', 'Kia Seltos HTX',\n",
       "        'Kia Sonet', 'Land Rover Range', 'MG Motors Hector',\n",
       "        'Mahindra Bolero', 'Mahindra Bolero B6', 'Mahindra Bolero ZLX',\n",
       "        'Mahindra Jeep CL', 'Mahindra Jeep CL550', 'Mahindra KUV100 K4',\n",
       "        'Mahindra KUV100 K6', 'Mahindra Logan', 'Mahindra Marazzo M6',\n",
       "        'Mahindra Scorpio', 'Mahindra Scorpio 2.6', 'Mahindra Scorpio LX',\n",
       "        'Mahindra Scorpio S5', 'Mahindra TUV300', 'Mahindra TUV300 T8',\n",
       "        'Mahindra Thar DI', 'Mahindra Verito Executive',\n",
       "        'Mahindra XUV 500', 'Mahindra Xylo', 'Mahindra Xylo D2',\n",
       "        'Maruti Suzuki 800', 'Maruti Suzuki Alto', 'Maruti Suzuki Baleno',\n",
       "        'Maruti Suzuki Celerio', 'Maruti Suzuki Ciaz',\n",
       "        'Maruti Suzuki Dzire', 'Maruti Suzuki Eeco',\n",
       "        'Maruti Suzuki Ertiga', 'Maruti Suzuki Gypsy',\n",
       "        'Maruti Suzuki Ignis', 'Maruti Suzuki Maruti',\n",
       "        'Maruti Suzuki Omni', 'Maruti Suzuki Ritz', 'Maruti Suzuki S',\n",
       "        'Maruti Suzuki SX4', 'Maruti Suzuki Swift', 'Maruti Suzuki Vitara',\n",
       "        'Maruti Suzuki Wagon', 'Maruti Suzuki XL6', 'Maruti Suzuki Zen',\n",
       "        'Mercedes Benz C', 'Mercedes Benz E', 'Mercedes Benz GL',\n",
       "        'Mercedes Benz GLE', 'Nissan Micra', 'Nissan Micra Active',\n",
       "        'Nissan Micra XE', 'Nissan Micra XV', 'Nissan Terrano XV',\n",
       "        'Renault Captur', 'Renault Duster', 'Renault Duster 110',\n",
       "        'Renault Duster 110PS', 'Renault Kwid', 'Renault Kwid CLIMBER',\n",
       "        'Renault Kwid RXL', 'Renault Kwid RXT', 'Renault Kwid RxL',\n",
       "        'Renault Lodgy', 'Renault Pulse RxL', 'Renault Scala RxZ',\n",
       "        'Renault Triber', 'Renault Triber 1.0', 'Renault Triber RXT',\n",
       "        'Skoda Laura Ambition', 'Skoda Rapid', 'Skoda Rapid 1.5',\n",
       "        'Skoda Rapid Style', 'Ssangyong Rexton RX7', 'Tata Aria Prestige',\n",
       "        'Tata Harrier', 'Tata Harrier XZ', 'Tata Hexa', 'Tata Hexa XM',\n",
       "        'Tata Indica', 'Tata Indica Vista', 'Tata Indigo CS',\n",
       "        'Tata Indigo LX', 'Tata Indigo eCS', 'Tata Nano', 'Tata Nano CNG',\n",
       "        'Tata Nano Twist', 'Tata Nexon', 'Tata Nexon XM', 'Tata Nexon XZ',\n",
       "        'Tata Tiago', 'Tata Tiago Revotorq', 'Tata Tiago XZA',\n",
       "        'Tata Tigor', 'Tata Zest XMS', 'Toyota Corolla Altis',\n",
       "        'Toyota Corolla H5', 'Toyota Etios', 'Toyota Etios GD',\n",
       "        'Toyota Etios Liva', 'Toyota Etios V', 'Toyota Fortuner',\n",
       "        'Toyota Fortuner 2.8', 'Toyota Fortuner 3.0',\n",
       "        'Toyota Fortuner 4x4', 'Toyota Glanza', 'Toyota Glanza G',\n",
       "        'Toyota Glanza V', 'Toyota Innova', 'Toyota Innova 2.0',\n",
       "        'Toyota Innova 2.5', 'Toyota Innova Crysta', 'Toyota Yaris',\n",
       "        'Volkswagen Ameo', 'Volkswagen Ameo Comfortline',\n",
       "        'Volkswagen Polo', 'Volkswagen Polo COMFORTLINE',\n",
       "        'Volkswagen Polo Comfortline', 'Volkswagen Polo GT',\n",
       "        'Volkswagen Polo HIGHLINE1.2L', 'Volkswagen Polo Highline',\n",
       "        'Volkswagen Vento', 'Volkswagen Vento Highline', 'Volvo XC60 D3',\n",
       "        'Volvo XC90 D5'], dtype=object),\n",
       " array(['CNG', 'Diesel', 'Petrol'], dtype=object)]"
      ]
     },
     "execution_count": 27,
     "metadata": {},
     "output_type": "execute_result"
    }
   ],
   "source": [
    "ohe.categories_"
   ]
  },
  {
   "cell_type": "code",
   "execution_count": 28,
   "id": "211f5973",
   "metadata": {},
   "outputs": [
    {
     "data": {
      "text/html": [
       "<style>#sk-container-id-2 {color: black;}#sk-container-id-2 pre{padding: 0;}#sk-container-id-2 div.sk-toggleable {background-color: white;}#sk-container-id-2 label.sk-toggleable__label {cursor: pointer;display: block;width: 100%;margin-bottom: 0;padding: 0.3em;box-sizing: border-box;text-align: center;}#sk-container-id-2 label.sk-toggleable__label-arrow:before {content: \"▸\";float: left;margin-right: 0.25em;color: #696969;}#sk-container-id-2 label.sk-toggleable__label-arrow:hover:before {color: black;}#sk-container-id-2 div.sk-estimator:hover label.sk-toggleable__label-arrow:before {color: black;}#sk-container-id-2 div.sk-toggleable__content {max-height: 0;max-width: 0;overflow: hidden;text-align: left;background-color: #f0f8ff;}#sk-container-id-2 div.sk-toggleable__content pre {margin: 0.2em;color: black;border-radius: 0.25em;background-color: #f0f8ff;}#sk-container-id-2 input.sk-toggleable__control:checked~div.sk-toggleable__content {max-height: 200px;max-width: 100%;overflow: auto;}#sk-container-id-2 input.sk-toggleable__control:checked~label.sk-toggleable__label-arrow:before {content: \"▾\";}#sk-container-id-2 div.sk-estimator input.sk-toggleable__control:checked~label.sk-toggleable__label {background-color: #d4ebff;}#sk-container-id-2 div.sk-label input.sk-toggleable__control:checked~label.sk-toggleable__label {background-color: #d4ebff;}#sk-container-id-2 input.sk-hidden--visually {border: 0;clip: rect(1px 1px 1px 1px);clip: rect(1px, 1px, 1px, 1px);height: 1px;margin: -1px;overflow: hidden;padding: 0;position: absolute;width: 1px;}#sk-container-id-2 div.sk-estimator {font-family: monospace;background-color: #f0f8ff;border: 1px dotted black;border-radius: 0.25em;box-sizing: border-box;margin-bottom: 0.5em;}#sk-container-id-2 div.sk-estimator:hover {background-color: #d4ebff;}#sk-container-id-2 div.sk-parallel-item::after {content: \"\";width: 100%;border-bottom: 1px solid gray;flex-grow: 1;}#sk-container-id-2 div.sk-label:hover label.sk-toggleable__label {background-color: #d4ebff;}#sk-container-id-2 div.sk-serial::before {content: \"\";position: absolute;border-left: 1px solid gray;box-sizing: border-box;top: 0;bottom: 0;left: 50%;z-index: 0;}#sk-container-id-2 div.sk-serial {display: flex;flex-direction: column;align-items: center;background-color: white;padding-right: 0.2em;padding-left: 0.2em;position: relative;}#sk-container-id-2 div.sk-item {position: relative;z-index: 1;}#sk-container-id-2 div.sk-parallel {display: flex;align-items: stretch;justify-content: center;background-color: white;position: relative;}#sk-container-id-2 div.sk-item::before, #sk-container-id-2 div.sk-parallel-item::before {content: \"\";position: absolute;border-left: 1px solid gray;box-sizing: border-box;top: 0;bottom: 0;left: 50%;z-index: -1;}#sk-container-id-2 div.sk-parallel-item {display: flex;flex-direction: column;z-index: 1;position: relative;background-color: white;}#sk-container-id-2 div.sk-parallel-item:first-child::after {align-self: flex-end;width: 50%;}#sk-container-id-2 div.sk-parallel-item:last-child::after {align-self: flex-start;width: 50%;}#sk-container-id-2 div.sk-parallel-item:only-child::after {width: 0;}#sk-container-id-2 div.sk-dashed-wrapped {border: 1px dashed gray;margin: 0 0.4em 0.5em 0.4em;box-sizing: border-box;padding-bottom: 0.4em;background-color: white;}#sk-container-id-2 div.sk-label label {font-family: monospace;font-weight: bold;display: inline-block;line-height: 1.2em;}#sk-container-id-2 div.sk-label-container {text-align: center;}#sk-container-id-2 div.sk-container {/* jupyter's `normalize.less` sets `[hidden] { display: none; }` but bootstrap.min.css set `[hidden] { display: none !important; }` so we also need the `!important` here to be able to override the default hidden behavior on the sphinx rendered scikit-learn.org. See: https://github.com/scikit-learn/scikit-learn/issues/21755 */display: inline-block !important;position: relative;}#sk-container-id-2 div.sk-text-repr-fallback {display: none;}</style><div id=\"sk-container-id-2\" class=\"sk-top-container\"><div class=\"sk-text-repr-fallback\"><pre>ColumnTransformer(remainder=&#x27;passthrough&#x27;,\n",
       "                  transformers=[(&#x27;onehotencoder&#x27;,\n",
       "                                 OneHotEncoder(categories=[array([&#x27;Audi&#x27;, &#x27;BMW&#x27;, &#x27;Chevrolet&#x27;, &#x27;Datsun&#x27;, &#x27;Fiat&#x27;, &#x27;Ford&#x27;, &#x27;Honda&#x27;,\n",
       "       &#x27;Hyundai&#x27;, &#x27;Jaguar&#x27;, &#x27;Jeep&#x27;, &#x27;Kia&#x27;, &#x27;Land&#x27;, &#x27;MG&#x27;, &#x27;Mahindra&#x27;,\n",
       "       &#x27;Maruti&#x27;, &#x27;Mercedes&#x27;, &#x27;Nissan&#x27;, &#x27;Renault&#x27;, &#x27;Skoda&#x27;, &#x27;Ssangyong&#x27;,\n",
       "       &#x27;Tata&#x27;, &#x27;Toyota&#x27;, &#x27;Volkswagen&#x27;, &#x27;Volvo&#x27;], dtype=object),\n",
       "                                                           array([&#x27;Audi Q3&#x27;, &#x27;Audi Q...\n",
       "       &#x27;Volkswagen Ameo&#x27;, &#x27;Volkswagen Ameo Comfortline&#x27;,\n",
       "       &#x27;Volkswagen Polo&#x27;, &#x27;Volkswagen Polo COMFORTLINE&#x27;,\n",
       "       &#x27;Volkswagen Polo Comfortline&#x27;, &#x27;Volkswagen Polo GT&#x27;,\n",
       "       &#x27;Volkswagen Polo HIGHLINE1.2L&#x27;, &#x27;Volkswagen Polo Highline&#x27;,\n",
       "       &#x27;Volkswagen Vento&#x27;, &#x27;Volkswagen Vento Highline&#x27;, &#x27;Volvo XC60 D3&#x27;,\n",
       "       &#x27;Volvo XC90 D5&#x27;], dtype=object),\n",
       "                                                           array([&#x27;CNG&#x27;, &#x27;Diesel&#x27;, &#x27;Petrol&#x27;], dtype=object)]),\n",
       "                                 [&#x27;Company&#x27;, &#x27;Name&#x27;, &#x27;Fuel_type&#x27;])])</pre><b>In a Jupyter environment, please rerun this cell to show the HTML representation or trust the notebook. <br />On GitHub, the HTML representation is unable to render, please try loading this page with nbviewer.org.</b></div><div class=\"sk-container\" hidden><div class=\"sk-item sk-dashed-wrapped\"><div class=\"sk-label-container\"><div class=\"sk-label sk-toggleable\"><input class=\"sk-toggleable__control sk-hidden--visually\" id=\"sk-estimator-id-2\" type=\"checkbox\" ><label for=\"sk-estimator-id-2\" class=\"sk-toggleable__label sk-toggleable__label-arrow\">ColumnTransformer</label><div class=\"sk-toggleable__content\"><pre>ColumnTransformer(remainder=&#x27;passthrough&#x27;,\n",
       "                  transformers=[(&#x27;onehotencoder&#x27;,\n",
       "                                 OneHotEncoder(categories=[array([&#x27;Audi&#x27;, &#x27;BMW&#x27;, &#x27;Chevrolet&#x27;, &#x27;Datsun&#x27;, &#x27;Fiat&#x27;, &#x27;Ford&#x27;, &#x27;Honda&#x27;,\n",
       "       &#x27;Hyundai&#x27;, &#x27;Jaguar&#x27;, &#x27;Jeep&#x27;, &#x27;Kia&#x27;, &#x27;Land&#x27;, &#x27;MG&#x27;, &#x27;Mahindra&#x27;,\n",
       "       &#x27;Maruti&#x27;, &#x27;Mercedes&#x27;, &#x27;Nissan&#x27;, &#x27;Renault&#x27;, &#x27;Skoda&#x27;, &#x27;Ssangyong&#x27;,\n",
       "       &#x27;Tata&#x27;, &#x27;Toyota&#x27;, &#x27;Volkswagen&#x27;, &#x27;Volvo&#x27;], dtype=object),\n",
       "                                                           array([&#x27;Audi Q3&#x27;, &#x27;Audi Q...\n",
       "       &#x27;Volkswagen Ameo&#x27;, &#x27;Volkswagen Ameo Comfortline&#x27;,\n",
       "       &#x27;Volkswagen Polo&#x27;, &#x27;Volkswagen Polo COMFORTLINE&#x27;,\n",
       "       &#x27;Volkswagen Polo Comfortline&#x27;, &#x27;Volkswagen Polo GT&#x27;,\n",
       "       &#x27;Volkswagen Polo HIGHLINE1.2L&#x27;, &#x27;Volkswagen Polo Highline&#x27;,\n",
       "       &#x27;Volkswagen Vento&#x27;, &#x27;Volkswagen Vento Highline&#x27;, &#x27;Volvo XC60 D3&#x27;,\n",
       "       &#x27;Volvo XC90 D5&#x27;], dtype=object),\n",
       "                                                           array([&#x27;CNG&#x27;, &#x27;Diesel&#x27;, &#x27;Petrol&#x27;], dtype=object)]),\n",
       "                                 [&#x27;Company&#x27;, &#x27;Name&#x27;, &#x27;Fuel_type&#x27;])])</pre></div></div></div><div class=\"sk-parallel\"><div class=\"sk-parallel-item\"><div class=\"sk-item\"><div class=\"sk-label-container\"><div class=\"sk-label sk-toggleable\"><input class=\"sk-toggleable__control sk-hidden--visually\" id=\"sk-estimator-id-3\" type=\"checkbox\" ><label for=\"sk-estimator-id-3\" class=\"sk-toggleable__label sk-toggleable__label-arrow\">onehotencoder</label><div class=\"sk-toggleable__content\"><pre>[&#x27;Company&#x27;, &#x27;Name&#x27;, &#x27;Fuel_type&#x27;]</pre></div></div></div><div class=\"sk-serial\"><div class=\"sk-item\"><div class=\"sk-estimator sk-toggleable\"><input class=\"sk-toggleable__control sk-hidden--visually\" id=\"sk-estimator-id-4\" type=\"checkbox\" ><label for=\"sk-estimator-id-4\" class=\"sk-toggleable__label sk-toggleable__label-arrow\">OneHotEncoder</label><div class=\"sk-toggleable__content\"><pre>OneHotEncoder(categories=[array([&#x27;Audi&#x27;, &#x27;BMW&#x27;, &#x27;Chevrolet&#x27;, &#x27;Datsun&#x27;, &#x27;Fiat&#x27;, &#x27;Ford&#x27;, &#x27;Honda&#x27;,\n",
       "       &#x27;Hyundai&#x27;, &#x27;Jaguar&#x27;, &#x27;Jeep&#x27;, &#x27;Kia&#x27;, &#x27;Land&#x27;, &#x27;MG&#x27;, &#x27;Mahindra&#x27;,\n",
       "       &#x27;Maruti&#x27;, &#x27;Mercedes&#x27;, &#x27;Nissan&#x27;, &#x27;Renault&#x27;, &#x27;Skoda&#x27;, &#x27;Ssangyong&#x27;,\n",
       "       &#x27;Tata&#x27;, &#x27;Toyota&#x27;, &#x27;Volkswagen&#x27;, &#x27;Volvo&#x27;], dtype=object),\n",
       "                          array([&#x27;Audi Q3&#x27;, &#x27;Audi Q5 2.0&#x27;, &#x27;Audi Q7 3.0&#x27;, &#x27;Audi Q7 35&#x27;,\n",
       "       &#x27;BMW 3 Series&#x27;, &#x27;BMW 5 Series&#x27;, &#x27;BMW X5 xDrive30d&#x27;,\n",
       "       &#x27;...\n",
       "       &#x27;Toyota Innova 2.5&#x27;, &#x27;Toyota Innova Crysta&#x27;, &#x27;Toyota Yaris&#x27;,\n",
       "       &#x27;Volkswagen Ameo&#x27;, &#x27;Volkswagen Ameo Comfortline&#x27;,\n",
       "       &#x27;Volkswagen Polo&#x27;, &#x27;Volkswagen Polo COMFORTLINE&#x27;,\n",
       "       &#x27;Volkswagen Polo Comfortline&#x27;, &#x27;Volkswagen Polo GT&#x27;,\n",
       "       &#x27;Volkswagen Polo HIGHLINE1.2L&#x27;, &#x27;Volkswagen Polo Highline&#x27;,\n",
       "       &#x27;Volkswagen Vento&#x27;, &#x27;Volkswagen Vento Highline&#x27;, &#x27;Volvo XC60 D3&#x27;,\n",
       "       &#x27;Volvo XC90 D5&#x27;], dtype=object),\n",
       "                          array([&#x27;CNG&#x27;, &#x27;Diesel&#x27;, &#x27;Petrol&#x27;], dtype=object)])</pre></div></div></div></div></div></div><div class=\"sk-parallel-item\"><div class=\"sk-item\"><div class=\"sk-label-container\"><div class=\"sk-label sk-toggleable\"><input class=\"sk-toggleable__control sk-hidden--visually\" id=\"sk-estimator-id-5\" type=\"checkbox\" ><label for=\"sk-estimator-id-5\" class=\"sk-toggleable__label sk-toggleable__label-arrow\">remainder</label><div class=\"sk-toggleable__content\"><pre></pre></div></div></div><div class=\"sk-serial\"><div class=\"sk-item\"><div class=\"sk-estimator sk-toggleable\"><input class=\"sk-toggleable__control sk-hidden--visually\" id=\"sk-estimator-id-6\" type=\"checkbox\" ><label for=\"sk-estimator-id-6\" class=\"sk-toggleable__label sk-toggleable__label-arrow\">passthrough</label><div class=\"sk-toggleable__content\"><pre>passthrough</pre></div></div></div></div></div></div></div></div></div></div>"
      ],
      "text/plain": [
       "ColumnTransformer(remainder='passthrough',\n",
       "                  transformers=[('onehotencoder',\n",
       "                                 OneHotEncoder(categories=[array(['Audi', 'BMW', 'Chevrolet', 'Datsun', 'Fiat', 'Ford', 'Honda',\n",
       "       'Hyundai', 'Jaguar', 'Jeep', 'Kia', 'Land', 'MG', 'Mahindra',\n",
       "       'Maruti', 'Mercedes', 'Nissan', 'Renault', 'Skoda', 'Ssangyong',\n",
       "       'Tata', 'Toyota', 'Volkswagen', 'Volvo'], dtype=object),\n",
       "                                                           array(['Audi Q3', 'Audi Q...\n",
       "       'Volkswagen Ameo', 'Volkswagen Ameo Comfortline',\n",
       "       'Volkswagen Polo', 'Volkswagen Polo COMFORTLINE',\n",
       "       'Volkswagen Polo Comfortline', 'Volkswagen Polo GT',\n",
       "       'Volkswagen Polo HIGHLINE1.2L', 'Volkswagen Polo Highline',\n",
       "       'Volkswagen Vento', 'Volkswagen Vento Highline', 'Volvo XC60 D3',\n",
       "       'Volvo XC90 D5'], dtype=object),\n",
       "                                                           array(['CNG', 'Diesel', 'Petrol'], dtype=object)]),\n",
       "                                 ['Company', 'Name', 'Fuel_type'])])"
      ]
     },
     "execution_count": 28,
     "metadata": {},
     "output_type": "execute_result"
    }
   ],
   "source": [
    "#Creating a column transformer to transform categorical columns\n",
    "column_trans=make_column_transformer((OneHotEncoder(categories=ohe.categories_),['Company','Name','Fuel_type']),\n",
    "                                    remainder='passthrough')\n",
    "column_trans"
   ]
  },
  {
   "cell_type": "code",
   "execution_count": 29,
   "id": "56351f87",
   "metadata": {},
   "outputs": [],
   "source": [
    "#Linear Regression Model\n",
    "lr=LinearRegression()"
   ]
  },
  {
   "cell_type": "code",
   "execution_count": 30,
   "id": "47063a40",
   "metadata": {},
   "outputs": [
    {
     "data": {
      "text/html": [
       "<style>#sk-container-id-3 {color: black;}#sk-container-id-3 pre{padding: 0;}#sk-container-id-3 div.sk-toggleable {background-color: white;}#sk-container-id-3 label.sk-toggleable__label {cursor: pointer;display: block;width: 100%;margin-bottom: 0;padding: 0.3em;box-sizing: border-box;text-align: center;}#sk-container-id-3 label.sk-toggleable__label-arrow:before {content: \"▸\";float: left;margin-right: 0.25em;color: #696969;}#sk-container-id-3 label.sk-toggleable__label-arrow:hover:before {color: black;}#sk-container-id-3 div.sk-estimator:hover label.sk-toggleable__label-arrow:before {color: black;}#sk-container-id-3 div.sk-toggleable__content {max-height: 0;max-width: 0;overflow: hidden;text-align: left;background-color: #f0f8ff;}#sk-container-id-3 div.sk-toggleable__content pre {margin: 0.2em;color: black;border-radius: 0.25em;background-color: #f0f8ff;}#sk-container-id-3 input.sk-toggleable__control:checked~div.sk-toggleable__content {max-height: 200px;max-width: 100%;overflow: auto;}#sk-container-id-3 input.sk-toggleable__control:checked~label.sk-toggleable__label-arrow:before {content: \"▾\";}#sk-container-id-3 div.sk-estimator input.sk-toggleable__control:checked~label.sk-toggleable__label {background-color: #d4ebff;}#sk-container-id-3 div.sk-label input.sk-toggleable__control:checked~label.sk-toggleable__label {background-color: #d4ebff;}#sk-container-id-3 input.sk-hidden--visually {border: 0;clip: rect(1px 1px 1px 1px);clip: rect(1px, 1px, 1px, 1px);height: 1px;margin: -1px;overflow: hidden;padding: 0;position: absolute;width: 1px;}#sk-container-id-3 div.sk-estimator {font-family: monospace;background-color: #f0f8ff;border: 1px dotted black;border-radius: 0.25em;box-sizing: border-box;margin-bottom: 0.5em;}#sk-container-id-3 div.sk-estimator:hover {background-color: #d4ebff;}#sk-container-id-3 div.sk-parallel-item::after {content: \"\";width: 100%;border-bottom: 1px solid gray;flex-grow: 1;}#sk-container-id-3 div.sk-label:hover label.sk-toggleable__label {background-color: #d4ebff;}#sk-container-id-3 div.sk-serial::before {content: \"\";position: absolute;border-left: 1px solid gray;box-sizing: border-box;top: 0;bottom: 0;left: 50%;z-index: 0;}#sk-container-id-3 div.sk-serial {display: flex;flex-direction: column;align-items: center;background-color: white;padding-right: 0.2em;padding-left: 0.2em;position: relative;}#sk-container-id-3 div.sk-item {position: relative;z-index: 1;}#sk-container-id-3 div.sk-parallel {display: flex;align-items: stretch;justify-content: center;background-color: white;position: relative;}#sk-container-id-3 div.sk-item::before, #sk-container-id-3 div.sk-parallel-item::before {content: \"\";position: absolute;border-left: 1px solid gray;box-sizing: border-box;top: 0;bottom: 0;left: 50%;z-index: -1;}#sk-container-id-3 div.sk-parallel-item {display: flex;flex-direction: column;z-index: 1;position: relative;background-color: white;}#sk-container-id-3 div.sk-parallel-item:first-child::after {align-self: flex-end;width: 50%;}#sk-container-id-3 div.sk-parallel-item:last-child::after {align-self: flex-start;width: 50%;}#sk-container-id-3 div.sk-parallel-item:only-child::after {width: 0;}#sk-container-id-3 div.sk-dashed-wrapped {border: 1px dashed gray;margin: 0 0.4em 0.5em 0.4em;box-sizing: border-box;padding-bottom: 0.4em;background-color: white;}#sk-container-id-3 div.sk-label label {font-family: monospace;font-weight: bold;display: inline-block;line-height: 1.2em;}#sk-container-id-3 div.sk-label-container {text-align: center;}#sk-container-id-3 div.sk-container {/* jupyter's `normalize.less` sets `[hidden] { display: none; }` but bootstrap.min.css set `[hidden] { display: none !important; }` so we also need the `!important` here to be able to override the default hidden behavior on the sphinx rendered scikit-learn.org. See: https://github.com/scikit-learn/scikit-learn/issues/21755 */display: inline-block !important;position: relative;}#sk-container-id-3 div.sk-text-repr-fallback {display: none;}</style><div id=\"sk-container-id-3\" class=\"sk-top-container\"><div class=\"sk-text-repr-fallback\"><pre>Pipeline(steps=[(&#x27;columntransformer&#x27;,\n",
       "                 ColumnTransformer(remainder=&#x27;passthrough&#x27;,\n",
       "                                   transformers=[(&#x27;onehotencoder&#x27;,\n",
       "                                                  OneHotEncoder(categories=[array([&#x27;Audi&#x27;, &#x27;BMW&#x27;, &#x27;Chevrolet&#x27;, &#x27;Datsun&#x27;, &#x27;Fiat&#x27;, &#x27;Ford&#x27;, &#x27;Honda&#x27;,\n",
       "       &#x27;Hyundai&#x27;, &#x27;Jaguar&#x27;, &#x27;Jeep&#x27;, &#x27;Kia&#x27;, &#x27;Land&#x27;, &#x27;MG&#x27;, &#x27;Mahindra&#x27;,\n",
       "       &#x27;Maruti&#x27;, &#x27;Mercedes&#x27;, &#x27;Nissan&#x27;, &#x27;Renault&#x27;, &#x27;Skoda&#x27;, &#x27;Ssangyong&#x27;,\n",
       "       &#x27;Tata&#x27;, &#x27;Toyota&#x27;, &#x27;Volkswagen&#x27;, &#x27;Volvo&#x27;]...\n",
       "       &#x27;Volkswagen Polo&#x27;, &#x27;Volkswagen Polo COMFORTLINE&#x27;,\n",
       "       &#x27;Volkswagen Polo Comfortline&#x27;, &#x27;Volkswagen Polo GT&#x27;,\n",
       "       &#x27;Volkswagen Polo HIGHLINE1.2L&#x27;, &#x27;Volkswagen Polo Highline&#x27;,\n",
       "       &#x27;Volkswagen Vento&#x27;, &#x27;Volkswagen Vento Highline&#x27;, &#x27;Volvo XC60 D3&#x27;,\n",
       "       &#x27;Volvo XC90 D5&#x27;], dtype=object),\n",
       "                                                                            array([&#x27;CNG&#x27;, &#x27;Diesel&#x27;, &#x27;Petrol&#x27;], dtype=object)]),\n",
       "                                                  [&#x27;Company&#x27;, &#x27;Name&#x27;,\n",
       "                                                   &#x27;Fuel_type&#x27;])])),\n",
       "                (&#x27;linearregression&#x27;, LinearRegression())])</pre><b>In a Jupyter environment, please rerun this cell to show the HTML representation or trust the notebook. <br />On GitHub, the HTML representation is unable to render, please try loading this page with nbviewer.org.</b></div><div class=\"sk-container\" hidden><div class=\"sk-item sk-dashed-wrapped\"><div class=\"sk-label-container\"><div class=\"sk-label sk-toggleable\"><input class=\"sk-toggleable__control sk-hidden--visually\" id=\"sk-estimator-id-7\" type=\"checkbox\" ><label for=\"sk-estimator-id-7\" class=\"sk-toggleable__label sk-toggleable__label-arrow\">Pipeline</label><div class=\"sk-toggleable__content\"><pre>Pipeline(steps=[(&#x27;columntransformer&#x27;,\n",
       "                 ColumnTransformer(remainder=&#x27;passthrough&#x27;,\n",
       "                                   transformers=[(&#x27;onehotencoder&#x27;,\n",
       "                                                  OneHotEncoder(categories=[array([&#x27;Audi&#x27;, &#x27;BMW&#x27;, &#x27;Chevrolet&#x27;, &#x27;Datsun&#x27;, &#x27;Fiat&#x27;, &#x27;Ford&#x27;, &#x27;Honda&#x27;,\n",
       "       &#x27;Hyundai&#x27;, &#x27;Jaguar&#x27;, &#x27;Jeep&#x27;, &#x27;Kia&#x27;, &#x27;Land&#x27;, &#x27;MG&#x27;, &#x27;Mahindra&#x27;,\n",
       "       &#x27;Maruti&#x27;, &#x27;Mercedes&#x27;, &#x27;Nissan&#x27;, &#x27;Renault&#x27;, &#x27;Skoda&#x27;, &#x27;Ssangyong&#x27;,\n",
       "       &#x27;Tata&#x27;, &#x27;Toyota&#x27;, &#x27;Volkswagen&#x27;, &#x27;Volvo&#x27;]...\n",
       "       &#x27;Volkswagen Polo&#x27;, &#x27;Volkswagen Polo COMFORTLINE&#x27;,\n",
       "       &#x27;Volkswagen Polo Comfortline&#x27;, &#x27;Volkswagen Polo GT&#x27;,\n",
       "       &#x27;Volkswagen Polo HIGHLINE1.2L&#x27;, &#x27;Volkswagen Polo Highline&#x27;,\n",
       "       &#x27;Volkswagen Vento&#x27;, &#x27;Volkswagen Vento Highline&#x27;, &#x27;Volvo XC60 D3&#x27;,\n",
       "       &#x27;Volvo XC90 D5&#x27;], dtype=object),\n",
       "                                                                            array([&#x27;CNG&#x27;, &#x27;Diesel&#x27;, &#x27;Petrol&#x27;], dtype=object)]),\n",
       "                                                  [&#x27;Company&#x27;, &#x27;Name&#x27;,\n",
       "                                                   &#x27;Fuel_type&#x27;])])),\n",
       "                (&#x27;linearregression&#x27;, LinearRegression())])</pre></div></div></div><div class=\"sk-serial\"><div class=\"sk-item sk-dashed-wrapped\"><div class=\"sk-label-container\"><div class=\"sk-label sk-toggleable\"><input class=\"sk-toggleable__control sk-hidden--visually\" id=\"sk-estimator-id-8\" type=\"checkbox\" ><label for=\"sk-estimator-id-8\" class=\"sk-toggleable__label sk-toggleable__label-arrow\">columntransformer: ColumnTransformer</label><div class=\"sk-toggleable__content\"><pre>ColumnTransformer(remainder=&#x27;passthrough&#x27;,\n",
       "                  transformers=[(&#x27;onehotencoder&#x27;,\n",
       "                                 OneHotEncoder(categories=[array([&#x27;Audi&#x27;, &#x27;BMW&#x27;, &#x27;Chevrolet&#x27;, &#x27;Datsun&#x27;, &#x27;Fiat&#x27;, &#x27;Ford&#x27;, &#x27;Honda&#x27;,\n",
       "       &#x27;Hyundai&#x27;, &#x27;Jaguar&#x27;, &#x27;Jeep&#x27;, &#x27;Kia&#x27;, &#x27;Land&#x27;, &#x27;MG&#x27;, &#x27;Mahindra&#x27;,\n",
       "       &#x27;Maruti&#x27;, &#x27;Mercedes&#x27;, &#x27;Nissan&#x27;, &#x27;Renault&#x27;, &#x27;Skoda&#x27;, &#x27;Ssangyong&#x27;,\n",
       "       &#x27;Tata&#x27;, &#x27;Toyota&#x27;, &#x27;Volkswagen&#x27;, &#x27;Volvo&#x27;], dtype=object),\n",
       "                                                           array([&#x27;Audi Q3&#x27;, &#x27;Audi Q...\n",
       "       &#x27;Volkswagen Ameo&#x27;, &#x27;Volkswagen Ameo Comfortline&#x27;,\n",
       "       &#x27;Volkswagen Polo&#x27;, &#x27;Volkswagen Polo COMFORTLINE&#x27;,\n",
       "       &#x27;Volkswagen Polo Comfortline&#x27;, &#x27;Volkswagen Polo GT&#x27;,\n",
       "       &#x27;Volkswagen Polo HIGHLINE1.2L&#x27;, &#x27;Volkswagen Polo Highline&#x27;,\n",
       "       &#x27;Volkswagen Vento&#x27;, &#x27;Volkswagen Vento Highline&#x27;, &#x27;Volvo XC60 D3&#x27;,\n",
       "       &#x27;Volvo XC90 D5&#x27;], dtype=object),\n",
       "                                                           array([&#x27;CNG&#x27;, &#x27;Diesel&#x27;, &#x27;Petrol&#x27;], dtype=object)]),\n",
       "                                 [&#x27;Company&#x27;, &#x27;Name&#x27;, &#x27;Fuel_type&#x27;])])</pre></div></div></div><div class=\"sk-parallel\"><div class=\"sk-parallel-item\"><div class=\"sk-item\"><div class=\"sk-label-container\"><div class=\"sk-label sk-toggleable\"><input class=\"sk-toggleable__control sk-hidden--visually\" id=\"sk-estimator-id-9\" type=\"checkbox\" ><label for=\"sk-estimator-id-9\" class=\"sk-toggleable__label sk-toggleable__label-arrow\">onehotencoder</label><div class=\"sk-toggleable__content\"><pre>[&#x27;Company&#x27;, &#x27;Name&#x27;, &#x27;Fuel_type&#x27;]</pre></div></div></div><div class=\"sk-serial\"><div class=\"sk-item\"><div class=\"sk-estimator sk-toggleable\"><input class=\"sk-toggleable__control sk-hidden--visually\" id=\"sk-estimator-id-10\" type=\"checkbox\" ><label for=\"sk-estimator-id-10\" class=\"sk-toggleable__label sk-toggleable__label-arrow\">OneHotEncoder</label><div class=\"sk-toggleable__content\"><pre>OneHotEncoder(categories=[array([&#x27;Audi&#x27;, &#x27;BMW&#x27;, &#x27;Chevrolet&#x27;, &#x27;Datsun&#x27;, &#x27;Fiat&#x27;, &#x27;Ford&#x27;, &#x27;Honda&#x27;,\n",
       "       &#x27;Hyundai&#x27;, &#x27;Jaguar&#x27;, &#x27;Jeep&#x27;, &#x27;Kia&#x27;, &#x27;Land&#x27;, &#x27;MG&#x27;, &#x27;Mahindra&#x27;,\n",
       "       &#x27;Maruti&#x27;, &#x27;Mercedes&#x27;, &#x27;Nissan&#x27;, &#x27;Renault&#x27;, &#x27;Skoda&#x27;, &#x27;Ssangyong&#x27;,\n",
       "       &#x27;Tata&#x27;, &#x27;Toyota&#x27;, &#x27;Volkswagen&#x27;, &#x27;Volvo&#x27;], dtype=object),\n",
       "                          array([&#x27;Audi Q3&#x27;, &#x27;Audi Q5 2.0&#x27;, &#x27;Audi Q7 3.0&#x27;, &#x27;Audi Q7 35&#x27;,\n",
       "       &#x27;BMW 3 Series&#x27;, &#x27;BMW 5 Series&#x27;, &#x27;BMW X5 xDrive30d&#x27;,\n",
       "       &#x27;...\n",
       "       &#x27;Toyota Innova 2.5&#x27;, &#x27;Toyota Innova Crysta&#x27;, &#x27;Toyota Yaris&#x27;,\n",
       "       &#x27;Volkswagen Ameo&#x27;, &#x27;Volkswagen Ameo Comfortline&#x27;,\n",
       "       &#x27;Volkswagen Polo&#x27;, &#x27;Volkswagen Polo COMFORTLINE&#x27;,\n",
       "       &#x27;Volkswagen Polo Comfortline&#x27;, &#x27;Volkswagen Polo GT&#x27;,\n",
       "       &#x27;Volkswagen Polo HIGHLINE1.2L&#x27;, &#x27;Volkswagen Polo Highline&#x27;,\n",
       "       &#x27;Volkswagen Vento&#x27;, &#x27;Volkswagen Vento Highline&#x27;, &#x27;Volvo XC60 D3&#x27;,\n",
       "       &#x27;Volvo XC90 D5&#x27;], dtype=object),\n",
       "                          array([&#x27;CNG&#x27;, &#x27;Diesel&#x27;, &#x27;Petrol&#x27;], dtype=object)])</pre></div></div></div></div></div></div><div class=\"sk-parallel-item\"><div class=\"sk-item\"><div class=\"sk-label-container\"><div class=\"sk-label sk-toggleable\"><input class=\"sk-toggleable__control sk-hidden--visually\" id=\"sk-estimator-id-11\" type=\"checkbox\" ><label for=\"sk-estimator-id-11\" class=\"sk-toggleable__label sk-toggleable__label-arrow\">remainder</label><div class=\"sk-toggleable__content\"><pre></pre></div></div></div><div class=\"sk-serial\"><div class=\"sk-item\"><div class=\"sk-estimator sk-toggleable\"><input class=\"sk-toggleable__control sk-hidden--visually\" id=\"sk-estimator-id-12\" type=\"checkbox\" ><label for=\"sk-estimator-id-12\" class=\"sk-toggleable__label sk-toggleable__label-arrow\">passthrough</label><div class=\"sk-toggleable__content\"><pre>passthrough</pre></div></div></div></div></div></div></div></div><div class=\"sk-item\"><div class=\"sk-estimator sk-toggleable\"><input class=\"sk-toggleable__control sk-hidden--visually\" id=\"sk-estimator-id-13\" type=\"checkbox\" ><label for=\"sk-estimator-id-13\" class=\"sk-toggleable__label sk-toggleable__label-arrow\">LinearRegression</label><div class=\"sk-toggleable__content\"><pre>LinearRegression()</pre></div></div></div></div></div></div></div>"
      ],
      "text/plain": [
       "Pipeline(steps=[('columntransformer',\n",
       "                 ColumnTransformer(remainder='passthrough',\n",
       "                                   transformers=[('onehotencoder',\n",
       "                                                  OneHotEncoder(categories=[array(['Audi', 'BMW', 'Chevrolet', 'Datsun', 'Fiat', 'Ford', 'Honda',\n",
       "       'Hyundai', 'Jaguar', 'Jeep', 'Kia', 'Land', 'MG', 'Mahindra',\n",
       "       'Maruti', 'Mercedes', 'Nissan', 'Renault', 'Skoda', 'Ssangyong',\n",
       "       'Tata', 'Toyota', 'Volkswagen', 'Volvo']...\n",
       "       'Volkswagen Polo', 'Volkswagen Polo COMFORTLINE',\n",
       "       'Volkswagen Polo Comfortline', 'Volkswagen Polo GT',\n",
       "       'Volkswagen Polo HIGHLINE1.2L', 'Volkswagen Polo Highline',\n",
       "       'Volkswagen Vento', 'Volkswagen Vento Highline', 'Volvo XC60 D3',\n",
       "       'Volvo XC90 D5'], dtype=object),\n",
       "                                                                            array(['CNG', 'Diesel', 'Petrol'], dtype=object)]),\n",
       "                                                  ['Company', 'Name',\n",
       "                                                   'Fuel_type'])])),\n",
       "                ('linearregression', LinearRegression())])"
      ]
     },
     "execution_count": 30,
     "metadata": {},
     "output_type": "execute_result"
    }
   ],
   "source": [
    "#Making a pipeline of column_trans & lr\n",
    "pipe=make_pipeline(column_trans,lr)\n",
    "pipe"
   ]
  },
  {
   "cell_type": "code",
   "execution_count": 31,
   "id": "0baa1fd0",
   "metadata": {},
   "outputs": [
    {
     "data": {
      "text/html": [
       "<style>#sk-container-id-4 {color: black;}#sk-container-id-4 pre{padding: 0;}#sk-container-id-4 div.sk-toggleable {background-color: white;}#sk-container-id-4 label.sk-toggleable__label {cursor: pointer;display: block;width: 100%;margin-bottom: 0;padding: 0.3em;box-sizing: border-box;text-align: center;}#sk-container-id-4 label.sk-toggleable__label-arrow:before {content: \"▸\";float: left;margin-right: 0.25em;color: #696969;}#sk-container-id-4 label.sk-toggleable__label-arrow:hover:before {color: black;}#sk-container-id-4 div.sk-estimator:hover label.sk-toggleable__label-arrow:before {color: black;}#sk-container-id-4 div.sk-toggleable__content {max-height: 0;max-width: 0;overflow: hidden;text-align: left;background-color: #f0f8ff;}#sk-container-id-4 div.sk-toggleable__content pre {margin: 0.2em;color: black;border-radius: 0.25em;background-color: #f0f8ff;}#sk-container-id-4 input.sk-toggleable__control:checked~div.sk-toggleable__content {max-height: 200px;max-width: 100%;overflow: auto;}#sk-container-id-4 input.sk-toggleable__control:checked~label.sk-toggleable__label-arrow:before {content: \"▾\";}#sk-container-id-4 div.sk-estimator input.sk-toggleable__control:checked~label.sk-toggleable__label {background-color: #d4ebff;}#sk-container-id-4 div.sk-label input.sk-toggleable__control:checked~label.sk-toggleable__label {background-color: #d4ebff;}#sk-container-id-4 input.sk-hidden--visually {border: 0;clip: rect(1px 1px 1px 1px);clip: rect(1px, 1px, 1px, 1px);height: 1px;margin: -1px;overflow: hidden;padding: 0;position: absolute;width: 1px;}#sk-container-id-4 div.sk-estimator {font-family: monospace;background-color: #f0f8ff;border: 1px dotted black;border-radius: 0.25em;box-sizing: border-box;margin-bottom: 0.5em;}#sk-container-id-4 div.sk-estimator:hover {background-color: #d4ebff;}#sk-container-id-4 div.sk-parallel-item::after {content: \"\";width: 100%;border-bottom: 1px solid gray;flex-grow: 1;}#sk-container-id-4 div.sk-label:hover label.sk-toggleable__label {background-color: #d4ebff;}#sk-container-id-4 div.sk-serial::before {content: \"\";position: absolute;border-left: 1px solid gray;box-sizing: border-box;top: 0;bottom: 0;left: 50%;z-index: 0;}#sk-container-id-4 div.sk-serial {display: flex;flex-direction: column;align-items: center;background-color: white;padding-right: 0.2em;padding-left: 0.2em;position: relative;}#sk-container-id-4 div.sk-item {position: relative;z-index: 1;}#sk-container-id-4 div.sk-parallel {display: flex;align-items: stretch;justify-content: center;background-color: white;position: relative;}#sk-container-id-4 div.sk-item::before, #sk-container-id-4 div.sk-parallel-item::before {content: \"\";position: absolute;border-left: 1px solid gray;box-sizing: border-box;top: 0;bottom: 0;left: 50%;z-index: -1;}#sk-container-id-4 div.sk-parallel-item {display: flex;flex-direction: column;z-index: 1;position: relative;background-color: white;}#sk-container-id-4 div.sk-parallel-item:first-child::after {align-self: flex-end;width: 50%;}#sk-container-id-4 div.sk-parallel-item:last-child::after {align-self: flex-start;width: 50%;}#sk-container-id-4 div.sk-parallel-item:only-child::after {width: 0;}#sk-container-id-4 div.sk-dashed-wrapped {border: 1px dashed gray;margin: 0 0.4em 0.5em 0.4em;box-sizing: border-box;padding-bottom: 0.4em;background-color: white;}#sk-container-id-4 div.sk-label label {font-family: monospace;font-weight: bold;display: inline-block;line-height: 1.2em;}#sk-container-id-4 div.sk-label-container {text-align: center;}#sk-container-id-4 div.sk-container {/* jupyter's `normalize.less` sets `[hidden] { display: none; }` but bootstrap.min.css set `[hidden] { display: none !important; }` so we also need the `!important` here to be able to override the default hidden behavior on the sphinx rendered scikit-learn.org. See: https://github.com/scikit-learn/scikit-learn/issues/21755 */display: inline-block !important;position: relative;}#sk-container-id-4 div.sk-text-repr-fallback {display: none;}</style><div id=\"sk-container-id-4\" class=\"sk-top-container\"><div class=\"sk-text-repr-fallback\"><pre>Pipeline(steps=[(&#x27;columntransformer&#x27;,\n",
       "                 ColumnTransformer(remainder=&#x27;passthrough&#x27;,\n",
       "                                   transformers=[(&#x27;onehotencoder&#x27;,\n",
       "                                                  OneHotEncoder(categories=[array([&#x27;Audi&#x27;, &#x27;BMW&#x27;, &#x27;Chevrolet&#x27;, &#x27;Datsun&#x27;, &#x27;Fiat&#x27;, &#x27;Ford&#x27;, &#x27;Honda&#x27;,\n",
       "       &#x27;Hyundai&#x27;, &#x27;Jaguar&#x27;, &#x27;Jeep&#x27;, &#x27;Kia&#x27;, &#x27;Land&#x27;, &#x27;MG&#x27;, &#x27;Mahindra&#x27;,\n",
       "       &#x27;Maruti&#x27;, &#x27;Mercedes&#x27;, &#x27;Nissan&#x27;, &#x27;Renault&#x27;, &#x27;Skoda&#x27;, &#x27;Ssangyong&#x27;,\n",
       "       &#x27;Tata&#x27;, &#x27;Toyota&#x27;, &#x27;Volkswagen&#x27;, &#x27;Volvo&#x27;]...\n",
       "       &#x27;Volkswagen Polo&#x27;, &#x27;Volkswagen Polo COMFORTLINE&#x27;,\n",
       "       &#x27;Volkswagen Polo Comfortline&#x27;, &#x27;Volkswagen Polo GT&#x27;,\n",
       "       &#x27;Volkswagen Polo HIGHLINE1.2L&#x27;, &#x27;Volkswagen Polo Highline&#x27;,\n",
       "       &#x27;Volkswagen Vento&#x27;, &#x27;Volkswagen Vento Highline&#x27;, &#x27;Volvo XC60 D3&#x27;,\n",
       "       &#x27;Volvo XC90 D5&#x27;], dtype=object),\n",
       "                                                                            array([&#x27;CNG&#x27;, &#x27;Diesel&#x27;, &#x27;Petrol&#x27;], dtype=object)]),\n",
       "                                                  [&#x27;Company&#x27;, &#x27;Name&#x27;,\n",
       "                                                   &#x27;Fuel_type&#x27;])])),\n",
       "                (&#x27;linearregression&#x27;, LinearRegression())])</pre><b>In a Jupyter environment, please rerun this cell to show the HTML representation or trust the notebook. <br />On GitHub, the HTML representation is unable to render, please try loading this page with nbviewer.org.</b></div><div class=\"sk-container\" hidden><div class=\"sk-item sk-dashed-wrapped\"><div class=\"sk-label-container\"><div class=\"sk-label sk-toggleable\"><input class=\"sk-toggleable__control sk-hidden--visually\" id=\"sk-estimator-id-14\" type=\"checkbox\" ><label for=\"sk-estimator-id-14\" class=\"sk-toggleable__label sk-toggleable__label-arrow\">Pipeline</label><div class=\"sk-toggleable__content\"><pre>Pipeline(steps=[(&#x27;columntransformer&#x27;,\n",
       "                 ColumnTransformer(remainder=&#x27;passthrough&#x27;,\n",
       "                                   transformers=[(&#x27;onehotencoder&#x27;,\n",
       "                                                  OneHotEncoder(categories=[array([&#x27;Audi&#x27;, &#x27;BMW&#x27;, &#x27;Chevrolet&#x27;, &#x27;Datsun&#x27;, &#x27;Fiat&#x27;, &#x27;Ford&#x27;, &#x27;Honda&#x27;,\n",
       "       &#x27;Hyundai&#x27;, &#x27;Jaguar&#x27;, &#x27;Jeep&#x27;, &#x27;Kia&#x27;, &#x27;Land&#x27;, &#x27;MG&#x27;, &#x27;Mahindra&#x27;,\n",
       "       &#x27;Maruti&#x27;, &#x27;Mercedes&#x27;, &#x27;Nissan&#x27;, &#x27;Renault&#x27;, &#x27;Skoda&#x27;, &#x27;Ssangyong&#x27;,\n",
       "       &#x27;Tata&#x27;, &#x27;Toyota&#x27;, &#x27;Volkswagen&#x27;, &#x27;Volvo&#x27;]...\n",
       "       &#x27;Volkswagen Polo&#x27;, &#x27;Volkswagen Polo COMFORTLINE&#x27;,\n",
       "       &#x27;Volkswagen Polo Comfortline&#x27;, &#x27;Volkswagen Polo GT&#x27;,\n",
       "       &#x27;Volkswagen Polo HIGHLINE1.2L&#x27;, &#x27;Volkswagen Polo Highline&#x27;,\n",
       "       &#x27;Volkswagen Vento&#x27;, &#x27;Volkswagen Vento Highline&#x27;, &#x27;Volvo XC60 D3&#x27;,\n",
       "       &#x27;Volvo XC90 D5&#x27;], dtype=object),\n",
       "                                                                            array([&#x27;CNG&#x27;, &#x27;Diesel&#x27;, &#x27;Petrol&#x27;], dtype=object)]),\n",
       "                                                  [&#x27;Company&#x27;, &#x27;Name&#x27;,\n",
       "                                                   &#x27;Fuel_type&#x27;])])),\n",
       "                (&#x27;linearregression&#x27;, LinearRegression())])</pre></div></div></div><div class=\"sk-serial\"><div class=\"sk-item sk-dashed-wrapped\"><div class=\"sk-label-container\"><div class=\"sk-label sk-toggleable\"><input class=\"sk-toggleable__control sk-hidden--visually\" id=\"sk-estimator-id-15\" type=\"checkbox\" ><label for=\"sk-estimator-id-15\" class=\"sk-toggleable__label sk-toggleable__label-arrow\">columntransformer: ColumnTransformer</label><div class=\"sk-toggleable__content\"><pre>ColumnTransformer(remainder=&#x27;passthrough&#x27;,\n",
       "                  transformers=[(&#x27;onehotencoder&#x27;,\n",
       "                                 OneHotEncoder(categories=[array([&#x27;Audi&#x27;, &#x27;BMW&#x27;, &#x27;Chevrolet&#x27;, &#x27;Datsun&#x27;, &#x27;Fiat&#x27;, &#x27;Ford&#x27;, &#x27;Honda&#x27;,\n",
       "       &#x27;Hyundai&#x27;, &#x27;Jaguar&#x27;, &#x27;Jeep&#x27;, &#x27;Kia&#x27;, &#x27;Land&#x27;, &#x27;MG&#x27;, &#x27;Mahindra&#x27;,\n",
       "       &#x27;Maruti&#x27;, &#x27;Mercedes&#x27;, &#x27;Nissan&#x27;, &#x27;Renault&#x27;, &#x27;Skoda&#x27;, &#x27;Ssangyong&#x27;,\n",
       "       &#x27;Tata&#x27;, &#x27;Toyota&#x27;, &#x27;Volkswagen&#x27;, &#x27;Volvo&#x27;], dtype=object),\n",
       "                                                           array([&#x27;Audi Q3&#x27;, &#x27;Audi Q...\n",
       "       &#x27;Volkswagen Ameo&#x27;, &#x27;Volkswagen Ameo Comfortline&#x27;,\n",
       "       &#x27;Volkswagen Polo&#x27;, &#x27;Volkswagen Polo COMFORTLINE&#x27;,\n",
       "       &#x27;Volkswagen Polo Comfortline&#x27;, &#x27;Volkswagen Polo GT&#x27;,\n",
       "       &#x27;Volkswagen Polo HIGHLINE1.2L&#x27;, &#x27;Volkswagen Polo Highline&#x27;,\n",
       "       &#x27;Volkswagen Vento&#x27;, &#x27;Volkswagen Vento Highline&#x27;, &#x27;Volvo XC60 D3&#x27;,\n",
       "       &#x27;Volvo XC90 D5&#x27;], dtype=object),\n",
       "                                                           array([&#x27;CNG&#x27;, &#x27;Diesel&#x27;, &#x27;Petrol&#x27;], dtype=object)]),\n",
       "                                 [&#x27;Company&#x27;, &#x27;Name&#x27;, &#x27;Fuel_type&#x27;])])</pre></div></div></div><div class=\"sk-parallel\"><div class=\"sk-parallel-item\"><div class=\"sk-item\"><div class=\"sk-label-container\"><div class=\"sk-label sk-toggleable\"><input class=\"sk-toggleable__control sk-hidden--visually\" id=\"sk-estimator-id-16\" type=\"checkbox\" ><label for=\"sk-estimator-id-16\" class=\"sk-toggleable__label sk-toggleable__label-arrow\">onehotencoder</label><div class=\"sk-toggleable__content\"><pre>[&#x27;Company&#x27;, &#x27;Name&#x27;, &#x27;Fuel_type&#x27;]</pre></div></div></div><div class=\"sk-serial\"><div class=\"sk-item\"><div class=\"sk-estimator sk-toggleable\"><input class=\"sk-toggleable__control sk-hidden--visually\" id=\"sk-estimator-id-17\" type=\"checkbox\" ><label for=\"sk-estimator-id-17\" class=\"sk-toggleable__label sk-toggleable__label-arrow\">OneHotEncoder</label><div class=\"sk-toggleable__content\"><pre>OneHotEncoder(categories=[array([&#x27;Audi&#x27;, &#x27;BMW&#x27;, &#x27;Chevrolet&#x27;, &#x27;Datsun&#x27;, &#x27;Fiat&#x27;, &#x27;Ford&#x27;, &#x27;Honda&#x27;,\n",
       "       &#x27;Hyundai&#x27;, &#x27;Jaguar&#x27;, &#x27;Jeep&#x27;, &#x27;Kia&#x27;, &#x27;Land&#x27;, &#x27;MG&#x27;, &#x27;Mahindra&#x27;,\n",
       "       &#x27;Maruti&#x27;, &#x27;Mercedes&#x27;, &#x27;Nissan&#x27;, &#x27;Renault&#x27;, &#x27;Skoda&#x27;, &#x27;Ssangyong&#x27;,\n",
       "       &#x27;Tata&#x27;, &#x27;Toyota&#x27;, &#x27;Volkswagen&#x27;, &#x27;Volvo&#x27;], dtype=object),\n",
       "                          array([&#x27;Audi Q3&#x27;, &#x27;Audi Q5 2.0&#x27;, &#x27;Audi Q7 3.0&#x27;, &#x27;Audi Q7 35&#x27;,\n",
       "       &#x27;BMW 3 Series&#x27;, &#x27;BMW 5 Series&#x27;, &#x27;BMW X5 xDrive30d&#x27;,\n",
       "       &#x27;...\n",
       "       &#x27;Toyota Innova 2.5&#x27;, &#x27;Toyota Innova Crysta&#x27;, &#x27;Toyota Yaris&#x27;,\n",
       "       &#x27;Volkswagen Ameo&#x27;, &#x27;Volkswagen Ameo Comfortline&#x27;,\n",
       "       &#x27;Volkswagen Polo&#x27;, &#x27;Volkswagen Polo COMFORTLINE&#x27;,\n",
       "       &#x27;Volkswagen Polo Comfortline&#x27;, &#x27;Volkswagen Polo GT&#x27;,\n",
       "       &#x27;Volkswagen Polo HIGHLINE1.2L&#x27;, &#x27;Volkswagen Polo Highline&#x27;,\n",
       "       &#x27;Volkswagen Vento&#x27;, &#x27;Volkswagen Vento Highline&#x27;, &#x27;Volvo XC60 D3&#x27;,\n",
       "       &#x27;Volvo XC90 D5&#x27;], dtype=object),\n",
       "                          array([&#x27;CNG&#x27;, &#x27;Diesel&#x27;, &#x27;Petrol&#x27;], dtype=object)])</pre></div></div></div></div></div></div><div class=\"sk-parallel-item\"><div class=\"sk-item\"><div class=\"sk-label-container\"><div class=\"sk-label sk-toggleable\"><input class=\"sk-toggleable__control sk-hidden--visually\" id=\"sk-estimator-id-18\" type=\"checkbox\" ><label for=\"sk-estimator-id-18\" class=\"sk-toggleable__label sk-toggleable__label-arrow\">remainder</label><div class=\"sk-toggleable__content\"><pre>[&#x27;Year&#x27;, &#x27;Kms_driven&#x27;]</pre></div></div></div><div class=\"sk-serial\"><div class=\"sk-item\"><div class=\"sk-estimator sk-toggleable\"><input class=\"sk-toggleable__control sk-hidden--visually\" id=\"sk-estimator-id-19\" type=\"checkbox\" ><label for=\"sk-estimator-id-19\" class=\"sk-toggleable__label sk-toggleable__label-arrow\">passthrough</label><div class=\"sk-toggleable__content\"><pre>passthrough</pre></div></div></div></div></div></div></div></div><div class=\"sk-item\"><div class=\"sk-estimator sk-toggleable\"><input class=\"sk-toggleable__control sk-hidden--visually\" id=\"sk-estimator-id-20\" type=\"checkbox\" ><label for=\"sk-estimator-id-20\" class=\"sk-toggleable__label sk-toggleable__label-arrow\">LinearRegression</label><div class=\"sk-toggleable__content\"><pre>LinearRegression()</pre></div></div></div></div></div></div></div>"
      ],
      "text/plain": [
       "Pipeline(steps=[('columntransformer',\n",
       "                 ColumnTransformer(remainder='passthrough',\n",
       "                                   transformers=[('onehotencoder',\n",
       "                                                  OneHotEncoder(categories=[array(['Audi', 'BMW', 'Chevrolet', 'Datsun', 'Fiat', 'Ford', 'Honda',\n",
       "       'Hyundai', 'Jaguar', 'Jeep', 'Kia', 'Land', 'MG', 'Mahindra',\n",
       "       'Maruti', 'Mercedes', 'Nissan', 'Renault', 'Skoda', 'Ssangyong',\n",
       "       'Tata', 'Toyota', 'Volkswagen', 'Volvo']...\n",
       "       'Volkswagen Polo', 'Volkswagen Polo COMFORTLINE',\n",
       "       'Volkswagen Polo Comfortline', 'Volkswagen Polo GT',\n",
       "       'Volkswagen Polo HIGHLINE1.2L', 'Volkswagen Polo Highline',\n",
       "       'Volkswagen Vento', 'Volkswagen Vento Highline', 'Volvo XC60 D3',\n",
       "       'Volvo XC90 D5'], dtype=object),\n",
       "                                                                            array(['CNG', 'Diesel', 'Petrol'], dtype=object)]),\n",
       "                                                  ['Company', 'Name',\n",
       "                                                   'Fuel_type'])])),\n",
       "                ('linearregression', LinearRegression())])"
      ]
     },
     "execution_count": 31,
     "metadata": {},
     "output_type": "execute_result"
    }
   ],
   "source": [
    "#Fitting the model\n",
    "pipe.fit(X_train,y_train)"
   ]
  },
  {
   "cell_type": "code",
   "execution_count": 32,
   "id": "9a6f5b1a",
   "metadata": {},
   "outputs": [
    {
     "data": {
      "text/plain": [
       "(205,)"
      ]
     },
     "execution_count": 32,
     "metadata": {},
     "output_type": "execute_result"
    }
   ],
   "source": [
    "#prediction on X_test\n",
    "y_pred=pipe.predict(X_test)\n",
    "y_pred.shape"
   ]
  },
  {
   "cell_type": "code",
   "execution_count": 33,
   "id": "2c49fdee",
   "metadata": {},
   "outputs": [
    {
     "data": {
      "text/plain": [
       "0.7135909521982196"
      ]
     },
     "execution_count": 33,
     "metadata": {},
     "output_type": "execute_result"
    }
   ],
   "source": [
    "#Checking R2 Score\n",
    "r2_score(y_test,y_pred)"
   ]
  },
  {
   "cell_type": "code",
   "execution_count": 34,
   "id": "a7caabe1",
   "metadata": {},
   "outputs": [],
   "source": [
    "#Finding the model with a random state of TrainTestSplit where the model was found to give almost 0.91 as r2_score\n",
    "scores=[]\n",
    "for i in range(1000):\n",
    "    X_train,X_test,y_train,y_test=train_test_split(X,y,test_size=0.1,random_state=i)\n",
    "    lr=LinearRegression()\n",
    "    pipe=make_pipeline(column_trans,lr)\n",
    "    pipe.fit(X_train,y_train)\n",
    "    y_pred=pipe.predict(X_test)\n",
    "    scores.append(r2_score(y_test,y_pred))"
   ]
  },
  {
   "cell_type": "code",
   "execution_count": 35,
   "id": "854cf1eb",
   "metadata": {},
   "outputs": [
    {
     "data": {
      "text/plain": [
       "409"
      ]
     },
     "execution_count": 35,
     "metadata": {},
     "output_type": "execute_result"
    }
   ],
   "source": [
    "np.argmax(scores)"
   ]
  },
  {
   "cell_type": "code",
   "execution_count": 36,
   "id": "de87aac4",
   "metadata": {},
   "outputs": [
    {
     "data": {
      "text/plain": [
       "0.857775837099677"
      ]
     },
     "execution_count": 36,
     "metadata": {},
     "output_type": "execute_result"
    }
   ],
   "source": [
    "scores[np.argmax(scores)]"
   ]
  },
  {
   "cell_type": "code",
   "execution_count": 37,
   "id": "60774431",
   "metadata": {},
   "outputs": [],
   "source": [
    "#The best model is found at a certain random state\n",
    "X_train,X_test,y_train,y_test=train_test_split(X,y,test_size=0.1,random_state=np.argmax(scores))\n",
    "lr=LinearRegression()\n",
    "pipe=make_pipeline(column_trans,lr)\n",
    "pipe.fit(X_train,y_train)\n",
    "y_pred=pipe.predict(X_test) "
   ]
  },
  {
   "cell_type": "code",
   "execution_count": 38,
   "id": "30707f6b",
   "metadata": {},
   "outputs": [
    {
     "data": {
      "text/plain": [
       "0.857775837099677"
      ]
     },
     "execution_count": 38,
     "metadata": {},
     "output_type": "execute_result"
    }
   ],
   "source": [
    "r2_score(y_test,y_pred)"
   ]
  },
  {
   "cell_type": "code",
   "execution_count": 39,
   "id": "cc6c5a80",
   "metadata": {},
   "outputs": [
    {
     "name": "stdout",
     "output_type": "stream",
     "text": [
      "Training Error: 70228152414.3115\n",
      "Testing Error: 26579949689.65524\n"
     ]
    }
   ],
   "source": [
    "from sklearn.metrics import mean_squared_error\n",
    "\n",
    "# Predictions\n",
    "y_train_pred = pipe.predict(X_train)\n",
    "y_test_pred = pipe.predict(X_test)\n",
    "\n",
    "# Calculate training and testing errors\n",
    "train_error = mean_squared_error(y_train, y_train_pred)\n",
    "test_error = mean_squared_error(y_test, y_test_pred)\n",
    "\n",
    "print(f\"Training Error: {train_error}\")\n",
    "print(f\"Testing Error: {test_error}\")"
   ]
  },
  {
   "cell_type": "code",
   "execution_count": 40,
   "id": "8b3cae2d",
   "metadata": {},
   "outputs": [
    {
     "data": {
      "text/plain": [
       "<matplotlib.collections.PathCollection at 0x2688d7d7050>"
      ]
     },
     "execution_count": 40,
     "metadata": {},
     "output_type": "execute_result"
    },
    {
     "data": {
      "image/png": "[encoded data removed]",
      "text/plain": [
       "<Figure size 640x480 with 1 Axes>"
      ]
     },
     "metadata": {},
     "output_type": "display_data"
    }
   ],
   "source": [
    "## plot a scatter plot for the prediction\n",
    "plt.scatter(y_test,y_pred)"
   ]
  },
  {
   "cell_type": "code",
   "execution_count": 41,
   "id": "ea8d12d6",
   "metadata": {},
   "outputs": [],
   "source": [
    "## Residuals\n",
    "residuals=y_test-y_pred"
   ]
  },
  {
   "cell_type": "code",
   "execution_count": 42,
   "id": "877d5bfd",
   "metadata": {},
   "outputs": [
    {
     "data": {
      "text/plain": [
       "983   -245837.265254\n",
       "433   -163947.116452\n",
       "453    126779.524786\n",
       "697     -5384.576122\n",
       "505     98195.062632\n",
       "           ...      \n",
       "851     -4794.136966\n",
       "415    108990.163893\n",
       "467   -148816.891851\n",
       "537     15061.420091\n",
       "845    -86385.696683\n",
       "Name: Price, Length: 103, dtype: float64"
      ]
     },
     "execution_count": 42,
     "metadata": {},
     "output_type": "execute_result"
    }
   ],
   "source": [
    "residuals"
   ]
  },
  {
   "cell_type": "code",
   "execution_count": 43,
   "id": "d56e5c5f",
   "metadata": {},
   "outputs": [
    {
     "data": {
      "text/plain": [
       "<seaborn.axisgrid.FacetGrid at 0x2688ed69700>"
      ]
     },
     "execution_count": 43,
     "metadata": {},
     "output_type": "execute_result"
    },
    {
     "data": {
      "image/png": "[encoded data removed]",
      "text/plain": [
       "<Figure size 500x500 with 1 Axes>"
      ]
     },
     "metadata": {},
     "output_type": "display_data"
    }
   ],
   "source": [
    "## Plot this residuals \n",
    "import seaborn as sns\n",
    "sns.displot(residuals,kind=\"kde\")"
   ]
  },
  {
   "cell_type": "code",
   "execution_count": 44,
   "id": "9248f39d",
   "metadata": {},
   "outputs": [
    {
     "data": {
      "text/plain": [
       "<matplotlib.collections.PathCollection at 0x2688ef8ffb0>"
      ]
     },
     "execution_count": 44,
     "metadata": {},
     "output_type": "execute_result"
    },
    {
     "data": {
      "image/png": "[encoded data removed]",
      "text/plain": [
       "<Figure size 640x480 with 1 Axes>"
      ]
     },
     "metadata": {},
     "output_type": "display_data"
    }
   ],
   "source": [
    "## Scatter plot with respect to prediction and residuals\n",
    "## uniform distribution\n",
    "plt.scatter(y_pred,residuals)"
   ]
  },
  {
   "cell_type": "code",
   "execution_count": 45,
   "id": "39743a22",
   "metadata": {},
   "outputs": [
    {
     "name": "stdout",
     "output_type": "stream",
     "text": [
      "118979.82708479305\n",
      "26579949689.65524\n",
      "163033.584545195\n"
     ]
    }
   ],
   "source": [
    "from sklearn.metrics import mean_squared_error\n",
    "from sklearn.metrics import mean_absolute_error\n",
    "\n",
    "print(mean_absolute_error(y_test,y_pred))\n",
    "print(mean_squared_error(y_test,y_pred))\n",
    "print(np.sqrt(mean_squared_error(y_test,y_pred)))"
   ]
  },
  {
   "cell_type": "code",
   "execution_count": 46,
   "id": "fd5f6059",
   "metadata": {},
   "outputs": [
    {
     "name": "stdout",
     "output_type": "stream",
     "text": [
      "0.857775837099677\n"
     ]
    }
   ],
   "source": [
    "from sklearn.metrics import r2_score\n",
    "score=r2_score(y_test,y_pred)\n",
    "print(score)"
   ]
  },
  {
   "cell_type": "code",
   "execution_count": 47,
   "id": "96a80d42",
   "metadata": {},
   "outputs": [
    {
     "data": {
      "text/plain": [
       "0.8504446946821346"
      ]
     },
     "execution_count": 47,
     "metadata": {},
     "output_type": "execute_result"
    }
   ],
   "source": [
    "#display adjusted R-squared\n",
    "1 - (1-score)*(len(y_test)-1)/(len(y_test)-X_test.shape[1]-1)"
   ]
  },
  {
   "cell_type": "code",
   "execution_count": 48,
   "id": "3a50561f",
   "metadata": {},
   "outputs": [
    {
     "data": {
      "text/html": [
       "<div>\n",
       "<style scoped>\n",
       "    .dataframe tbody tr th:only-of-type {\n",
       "        vertical-align: middle;\n",
       "    }\n",
       "\n",
       "    .dataframe tbody tr th {\n",
       "        vertical-align: top;\n",
       "    }\n",
       "\n",
       "    .dataframe thead th {\n",
       "        text-align: right;\n",
       "    }\n",
       "</style>\n",
       "<table border=\"1\" class=\"dataframe\">\n",
       "  <thead>\n",
       "    <tr style=\"text-align: right;\">\n",
       "      <th></th>\n",
       "      <th>Name</th>\n",
       "      <th>Company</th>\n",
       "      <th>Year</th>\n",
       "      <th>Kms_driven</th>\n",
       "      <th>Fuel_type</th>\n",
       "    </tr>\n",
       "  </thead>\n",
       "  <tbody>\n",
       "    <tr>\n",
       "      <th>983</th>\n",
       "      <td>Ford Ecosport</td>\n",
       "      <td>Ford</td>\n",
       "      <td>2018</td>\n",
       "      <td>8925</td>\n",
       "      <td>Petrol</td>\n",
       "    </tr>\n",
       "    <tr>\n",
       "      <th>433</th>\n",
       "      <td>Maruti Suzuki Alto</td>\n",
       "      <td>Maruti</td>\n",
       "      <td>2019</td>\n",
       "      <td>14179</td>\n",
       "      <td>Petrol</td>\n",
       "    </tr>\n",
       "    <tr>\n",
       "      <th>453</th>\n",
       "      <td>Tata Nexon</td>\n",
       "      <td>Tata</td>\n",
       "      <td>2020</td>\n",
       "      <td>12978</td>\n",
       "      <td>Petrol</td>\n",
       "    </tr>\n",
       "    <tr>\n",
       "      <th>697</th>\n",
       "      <td>Maruti Suzuki Wagon</td>\n",
       "      <td>Maruti</td>\n",
       "      <td>2017</td>\n",
       "      <td>81811</td>\n",
       "      <td>Petrol</td>\n",
       "    </tr>\n",
       "    <tr>\n",
       "      <th>505</th>\n",
       "      <td>Hyundai Grand i10</td>\n",
       "      <td>Hyundai</td>\n",
       "      <td>2015</td>\n",
       "      <td>39836</td>\n",
       "      <td>Petrol</td>\n",
       "    </tr>\n",
       "    <tr>\n",
       "      <th>...</th>\n",
       "      <td>...</td>\n",
       "      <td>...</td>\n",
       "      <td>...</td>\n",
       "      <td>...</td>\n",
       "      <td>...</td>\n",
       "    </tr>\n",
       "    <tr>\n",
       "      <th>851</th>\n",
       "      <td>Maruti Suzuki Swift</td>\n",
       "      <td>Maruti</td>\n",
       "      <td>2018</td>\n",
       "      <td>35000</td>\n",
       "      <td>Petrol</td>\n",
       "    </tr>\n",
       "    <tr>\n",
       "      <th>415</th>\n",
       "      <td>Honda City</td>\n",
       "      <td>Honda</td>\n",
       "      <td>2017</td>\n",
       "      <td>33598</td>\n",
       "      <td>Petrol</td>\n",
       "    </tr>\n",
       "    <tr>\n",
       "      <th>467</th>\n",
       "      <td>Chevrolet Cruze LTZ</td>\n",
       "      <td>Chevrolet</td>\n",
       "      <td>2011</td>\n",
       "      <td>115000</td>\n",
       "      <td>Diesel</td>\n",
       "    </tr>\n",
       "    <tr>\n",
       "      <th>537</th>\n",
       "      <td>Maruti Suzuki Vitara</td>\n",
       "      <td>Maruti</td>\n",
       "      <td>2019</td>\n",
       "      <td>31803</td>\n",
       "      <td>Diesel</td>\n",
       "    </tr>\n",
       "    <tr>\n",
       "      <th>845</th>\n",
       "      <td>Hyundai Grand i10</td>\n",
       "      <td>Hyundai</td>\n",
       "      <td>2018</td>\n",
       "      <td>21790</td>\n",
       "      <td>Petrol</td>\n",
       "    </tr>\n",
       "  </tbody>\n",
       "</table>\n",
       "<p>103 rows × 5 columns</p>\n",
       "</div>"
      ],
      "text/plain": [
       "                     Name    Company  Year  Kms_driven Fuel_type\n",
       "983         Ford Ecosport       Ford  2018        8925    Petrol\n",
       "433    Maruti Suzuki Alto     Maruti  2019       14179    Petrol\n",
       "453            Tata Nexon       Tata  2020       12978    Petrol\n",
       "697   Maruti Suzuki Wagon     Maruti  2017       81811    Petrol\n",
       "505     Hyundai Grand i10    Hyundai  2015       39836    Petrol\n",
       "..                    ...        ...   ...         ...       ...\n",
       "851   Maruti Suzuki Swift     Maruti  2018       35000    Petrol\n",
       "415            Honda City      Honda  2017       33598    Petrol\n",
       "467   Chevrolet Cruze LTZ  Chevrolet  2011      115000    Diesel\n",
       "537  Maruti Suzuki Vitara     Maruti  2019       31803    Diesel\n",
       "845     Hyundai Grand i10    Hyundai  2018       21790    Petrol\n",
       "\n",
       "[103 rows x 5 columns]"
      ]
     },
     "execution_count": 48,
     "metadata": {},
     "output_type": "execute_result"
    }
   ],
   "source": [
    "X_test"
   ]
  },
  {
   "cell_type": "code",
   "execution_count": 49,
   "id": "a1b55860",
   "metadata": {},
   "outputs": [
    {
     "data": {
      "text/plain": [
       "array([712148.34776291])"
      ]
     },
     "execution_count": 49,
     "metadata": {},
     "output_type": "execute_result"
    }
   ],
   "source": [
    "pipe.predict(pd.DataFrame(columns=X_test.columns,data=np.array(['Maruti Suzuki Swift','Maruti',2019,100,'Petrol']).reshape(1,5)))"
   ]
  },
  {
   "cell_type": "code",
   "execution_count": 50,
   "id": "b5e10ade",
   "metadata": {},
   "outputs": [
    {
     "data": {
      "text/html": [
       "<div>\n",
       "<style scoped>\n",
       "    .dataframe tbody tr th:only-of-type {\n",
       "        vertical-align: middle;\n",
       "    }\n",
       "\n",
       "    .dataframe tbody tr th {\n",
       "        vertical-align: top;\n",
       "    }\n",
       "\n",
       "    .dataframe thead th {\n",
       "        text-align: right;\n",
       "    }\n",
       "</style>\n",
       "<table border=\"1\" class=\"dataframe\">\n",
       "  <thead>\n",
       "    <tr style=\"text-align: right;\">\n",
       "      <th></th>\n",
       "      <th>Name</th>\n",
       "      <th>Company</th>\n",
       "      <th>Year</th>\n",
       "      <th>Kms_driven</th>\n",
       "      <th>Fuel_type</th>\n",
       "    </tr>\n",
       "  </thead>\n",
       "  <tbody>\n",
       "    <tr>\n",
       "      <th>983</th>\n",
       "      <td>Ford Ecosport</td>\n",
       "      <td>Ford</td>\n",
       "      <td>2018</td>\n",
       "      <td>8925</td>\n",
       "      <td>Petrol</td>\n",
       "    </tr>\n",
       "    <tr>\n",
       "      <th>433</th>\n",
       "      <td>Maruti Suzuki Alto</td>\n",
       "      <td>Maruti</td>\n",
       "      <td>2019</td>\n",
       "      <td>14179</td>\n",
       "      <td>Petrol</td>\n",
       "    </tr>\n",
       "    <tr>\n",
       "      <th>453</th>\n",
       "      <td>Tata Nexon</td>\n",
       "      <td>Tata</td>\n",
       "      <td>2020</td>\n",
       "      <td>12978</td>\n",
       "      <td>Petrol</td>\n",
       "    </tr>\n",
       "    <tr>\n",
       "      <th>697</th>\n",
       "      <td>Maruti Suzuki Wagon</td>\n",
       "      <td>Maruti</td>\n",
       "      <td>2017</td>\n",
       "      <td>81811</td>\n",
       "      <td>Petrol</td>\n",
       "    </tr>\n",
       "    <tr>\n",
       "      <th>505</th>\n",
       "      <td>Hyundai Grand i10</td>\n",
       "      <td>Hyundai</td>\n",
       "      <td>2015</td>\n",
       "      <td>39836</td>\n",
       "      <td>Petrol</td>\n",
       "    </tr>\n",
       "    <tr>\n",
       "      <th>...</th>\n",
       "      <td>...</td>\n",
       "      <td>...</td>\n",
       "      <td>...</td>\n",
       "      <td>...</td>\n",
       "      <td>...</td>\n",
       "    </tr>\n",
       "    <tr>\n",
       "      <th>851</th>\n",
       "      <td>Maruti Suzuki Swift</td>\n",
       "      <td>Maruti</td>\n",
       "      <td>2018</td>\n",
       "      <td>35000</td>\n",
       "      <td>Petrol</td>\n",
       "    </tr>\n",
       "    <tr>\n",
       "      <th>415</th>\n",
       "      <td>Honda City</td>\n",
       "      <td>Honda</td>\n",
       "      <td>2017</td>\n",
       "      <td>33598</td>\n",
       "      <td>Petrol</td>\n",
       "    </tr>\n",
       "    <tr>\n",
       "      <th>467</th>\n",
       "      <td>Chevrolet Cruze LTZ</td>\n",
       "      <td>Chevrolet</td>\n",
       "      <td>2011</td>\n",
       "      <td>115000</td>\n",
       "      <td>Diesel</td>\n",
       "    </tr>\n",
       "    <tr>\n",
       "      <th>537</th>\n",
       "      <td>Maruti Suzuki Vitara</td>\n",
       "      <td>Maruti</td>\n",
       "      <td>2019</td>\n",
       "      <td>31803</td>\n",
       "      <td>Diesel</td>\n",
       "    </tr>\n",
       "    <tr>\n",
       "      <th>845</th>\n",
       "      <td>Hyundai Grand i10</td>\n",
       "      <td>Hyundai</td>\n",
       "      <td>2018</td>\n",
       "      <td>21790</td>\n",
       "      <td>Petrol</td>\n",
       "    </tr>\n",
       "  </tbody>\n",
       "</table>\n",
       "<p>103 rows × 5 columns</p>\n",
       "</div>"
      ],
      "text/plain": [
       "                     Name    Company  Year  Kms_driven Fuel_type\n",
       "983         Ford Ecosport       Ford  2018        8925    Petrol\n",
       "433    Maruti Suzuki Alto     Maruti  2019       14179    Petrol\n",
       "453            Tata Nexon       Tata  2020       12978    Petrol\n",
       "697   Maruti Suzuki Wagon     Maruti  2017       81811    Petrol\n",
       "505     Hyundai Grand i10    Hyundai  2015       39836    Petrol\n",
       "..                    ...        ...   ...         ...       ...\n",
       "851   Maruti Suzuki Swift     Maruti  2018       35000    Petrol\n",
       "415            Honda City      Honda  2017       33598    Petrol\n",
       "467   Chevrolet Cruze LTZ  Chevrolet  2011      115000    Diesel\n",
       "537  Maruti Suzuki Vitara     Maruti  2019       31803    Diesel\n",
       "845     Hyundai Grand i10    Hyundai  2018       21790    Petrol\n",
       "\n",
       "[103 rows x 5 columns]"
      ]
     },
     "execution_count": 50,
     "metadata": {},
     "output_type": "execute_result"
    }
   ],
   "source": [
    "X_test"
   ]
  },
  {
   "cell_type": "code",
   "execution_count": 51,
   "id": "641a96b9",
   "metadata": {},
   "outputs": [
    {
     "data": {
      "text/plain": [
       "array([ 973136.26525436,  662746.11645193,  916519.47521429,\n",
       "        465683.57612184,  397103.93736777,  730690.93743937,\n",
       "       1235984.37959623,  538944.6043212 ,  803575.58023861,\n",
       "        500895.18443197,  452784.92370255,   33713.94690241,\n",
       "        342816.50637423,  985656.82471898,  499591.52608295,\n",
       "       1042530.61798367,  528892.74232292,  468558.99627464,\n",
       "        805082.71002208,  559728.49542488,  272959.59359613,\n",
       "        606249.34835885,  281582.13511764,  912817.50533138,\n",
       "        446369.01540895,  476493.28913242,  511874.1080399 ,\n",
       "        921741.6716976 ,  394112.36858332, 1375294.69043934,\n",
       "        337257.70665942,  354357.62288822,  402970.50890519,\n",
       "        488621.85892436,  413014.09840964, 2307239.11040194,\n",
       "        167000.11583692,  176167.15959783,  804397.16504805,\n",
       "        647059.86442216,  332035.17741632,  453094.27810556,\n",
       "        325262.49982066, 1159299.52975592, 1170405.94323543,\n",
       "        716540.21102339,  218892.13484168, 1177606.76959679,\n",
       "        269225.33589256,  356049.48309983,  356970.97862603,\n",
       "        294660.57436463,  398075.60337801,  550542.56332462,\n",
       "        587680.09775592,  272051.72462115, 1856050.7029748 ,\n",
       "        459569.59010804,  980412.52435239,  396562.52310951,\n",
       "        402712.65391634,  504115.85078207,  241944.61152685,\n",
       "       2027720.03325303,  696513.85261971,   88205.9336067 ,\n",
       "        458480.45832914,  527350.12583812,  605292.18407562,\n",
       "         55816.80025898,  526189.09712918,  767811.38768797,\n",
       "        215150.62819546,  677361.53184138,  542568.33786246,\n",
       "        591740.62112162,  809440.05441175,  446773.85420904,\n",
       "        471490.99344389,  340337.8676769 , 1339277.34041613,\n",
       "        462829.80572283, 1239573.99234572,  499240.33269471,\n",
       "       1598092.71105058,  433107.20113172,  500428.62989989,\n",
       "       1121661.66807365,  366093.04506674, 1286901.30120508,\n",
       "        581734.58570352, 1233816.51917501,  453876.01675272,\n",
       "        782048.64704442,  854180.3857066 ,  687667.21432237,\n",
       "        522589.71929595, 1053839.96286151,  654794.13696598,\n",
       "        777008.83610657,  493816.89185101,  867137.57990871,\n",
       "        582584.69668299])"
      ]
     },
     "execution_count": 51,
     "metadata": {},
     "output_type": "execute_result"
    }
   ],
   "source": [
    "y_pred"
   ]
  },
  {
   "cell_type": "code",
   "execution_count": 52,
   "id": "bb1a6097",
   "metadata": {},
   "outputs": [
    {
     "data": {
      "text/plain": [
       "array([500372.26552893])"
      ]
     },
     "execution_count": 52,
     "metadata": {},
     "output_type": "execute_result"
    }
   ],
   "source": [
    "pipe.predict(pd.DataFrame(columns=X_test.columns,data=np.array(['Maruti Suzuki Baleno','Maruti',2016,48329,'Petrol']).reshape(1,5)))"
   ]
  },
  {
   "cell_type": "code",
   "execution_count": 53,
   "id": "36fb1953",
   "metadata": {},
   "outputs": [],
   "source": [
    "import pickle\n",
    "#open a file, where we want to store the data\n",
    "regmodel = open('regmodel.pkl', 'wb')\n",
    "\n",
    "# dump information to that file\n",
    "pickle.dump(pipe, regmodel)"
   ]
  },
  {
   "cell_type": "code",
   "execution_count": 54,
   "id": "0b4f0ae3",
   "metadata": {},
   "outputs": [
    {
     "data": {
      "text/plain": [
       "array([712148.34776291])"
      ]
     },
     "execution_count": 54,
     "metadata": {},
     "output_type": "execute_result"
    }
   ],
   "source": [
    "pipe.predict(pd.DataFrame(columns=['Name','Company','Year','Kms_driven','Fuel_type'],data=np.array(['Maruti Suzuki Swift','Maruti',2019,100,'Petrol']).reshape(1,5)))\n"
   ]
  }
 ],
 "metadata": {
  "kernelspec": {
   "display_name": "Python 3",
   "language": "python",
   "name": "python3"
  },
  "language_info": {
   "codemirror_mode": {
    "name": "ipython",
    "version": 3
   },
   "file_extension": ".py",
   "mimetype": "text/x-python",
   "name": "python",
   "nbconvert_exporter": "python",
   "pygments_lexer": "ipython3",
   "version": "3.12.2"
  }
 },
 "nbformat": 4,
 "nbformat_minor": 5
}
