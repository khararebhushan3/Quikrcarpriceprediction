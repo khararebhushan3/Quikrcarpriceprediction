{
 "cells": [
  {
   "cell_type": "code",
   "execution_count": 1,
   "id": "54912554",
   "metadata": {},
   "outputs": [],
   "source": [
    "import pandas as pd\n",
    "import numpy as np\n",
    "import matplotlib.pyplot as plt\n",
    "%matplotlib inline"
   ]
  },
  {
   "cell_type": "code",
   "execution_count": 2,
   "id": "e6edc875",
   "metadata": {},
   "outputs": [
    {
     "name": "stdout",
     "output_type": "stream",
     "text": [
      "3.8.8\n"
     ]
    }
   ],
   "source": [
    "from platform import python_version\n",
    "\n",
    "print(python_version())"
   ]
  },
  {
   "cell_type": "code",
   "execution_count": null,
   "id": "272a1bf1",
   "metadata": {},
   "outputs": [],
   "source": []
  },
  {
   "cell_type": "code",
   "execution_count": 3,
   "id": "831681ac",
   "metadata": {},
   "outputs": [],
   "source": [
    "car=pd.read_csv('C://Users//khara//Car_pred//Quikr cars.csv')"
   ]
  },
  {
   "cell_type": "code",
   "execution_count": 4,
   "id": "473b660a",
   "metadata": {},
   "outputs": [
    {
     "data": {
      "text/html": [
       "<div>\n",
       "<style scoped>\n",
       "    .dataframe tbody tr th:only-of-type {\n",
       "        vertical-align: middle;\n",
       "    }\n",
       "\n",
       "    .dataframe tbody tr th {\n",
       "        vertical-align: top;\n",
       "    }\n",
       "\n",
       "    .dataframe thead th {\n",
       "        text-align: right;\n",
       "    }\n",
       "</style>\n",
       "<table border=\"1\" class=\"dataframe\">\n",
       "  <thead>\n",
       "    <tr style=\"text-align: right;\">\n",
       "      <th></th>\n",
       "      <th>Name</th>\n",
       "      <th>Price</th>\n",
       "      <th>Kms_driven</th>\n",
       "      <th>Fuel_type</th>\n",
       "      <th>Year</th>\n",
       "      <th>Company</th>\n",
       "    </tr>\n",
       "  </thead>\n",
       "  <tbody>\n",
       "    <tr>\n",
       "      <th>0</th>\n",
       "      <td>Ford Figo Duratec Petrol EXI 1.2 - 2015</td>\n",
       "      <td>3,80,000</td>\n",
       "      <td>35,056 kms</td>\n",
       "      <td>Petrol</td>\n",
       "      <td>2015</td>\n",
       "      <td>Ford</td>\n",
       "    </tr>\n",
       "    <tr>\n",
       "      <th>1</th>\n",
       "      <td>Maruti Suzuki Wagon R VXI BS IV - 2016</td>\n",
       "      <td>4,65,000</td>\n",
       "      <td>44,000 kms</td>\n",
       "      <td>Petrol</td>\n",
       "      <td>2016</td>\n",
       "      <td>Maruti</td>\n",
       "    </tr>\n",
       "    <tr>\n",
       "      <th>2</th>\n",
       "      <td>Hyundai Creta 1.6 SX PLUS AUTO PETROL - 2018</td>\n",
       "      <td>13,50,000</td>\n",
       "      <td>42,917 kms</td>\n",
       "      <td>Petrol</td>\n",
       "      <td>2018</td>\n",
       "      <td>Hyundai</td>\n",
       "    </tr>\n",
       "    <tr>\n",
       "      <th>3</th>\n",
       "      <td>Hyundai Venue - 2019</td>\n",
       "      <td>10,19,699</td>\n",
       "      <td>16,112 kms</td>\n",
       "      <td>Petrol</td>\n",
       "      <td>2019</td>\n",
       "      <td>Hyundai</td>\n",
       "    </tr>\n",
       "    <tr>\n",
       "      <th>4</th>\n",
       "      <td>Honda Jazz - 2017</td>\n",
       "      <td>7,13,499</td>\n",
       "      <td>30,988 kms</td>\n",
       "      <td>Petrol</td>\n",
       "      <td>2017</td>\n",
       "      <td>Honda</td>\n",
       "    </tr>\n",
       "  </tbody>\n",
       "</table>\n",
       "</div>"
      ],
      "text/plain": [
       "                                           Name      Price   Kms_driven  \\\n",
       "0       Ford Figo Duratec Petrol EXI 1.2 - 2015   3,80,000  35,056 kms    \n",
       "1        Maruti Suzuki Wagon R VXI BS IV - 2016   4,65,000  44,000 kms    \n",
       "2  Hyundai Creta 1.6 SX PLUS AUTO PETROL - 2018  13,50,000  42,917 kms    \n",
       "3                          Hyundai Venue - 2019  10,19,699  16,112 kms    \n",
       "4                             Honda Jazz - 2017   7,13,499  30,988 kms    \n",
       "\n",
       "  Fuel_type  Year  Company  \n",
       "0    Petrol  2015     Ford  \n",
       "1    Petrol  2016   Maruti  \n",
       "2    Petrol  2018  Hyundai  \n",
       "3    Petrol  2019  Hyundai  \n",
       "4    Petrol  2017    Honda  "
      ]
     },
     "execution_count": 4,
     "metadata": {},
     "output_type": "execute_result"
    }
   ],
   "source": [
    "car.head()"
   ]
  },
  {
   "cell_type": "code",
   "execution_count": 5,
   "id": "99be4c13",
   "metadata": {},
   "outputs": [
    {
     "data": {
      "text/plain": [
       "(1032, 6)"
      ]
     },
     "execution_count": 5,
     "metadata": {},
     "output_type": "execute_result"
    }
   ],
   "source": [
    "car.shape"
   ]
  },
  {
   "cell_type": "code",
   "execution_count": 6,
   "id": "33f80a12",
   "metadata": {},
   "outputs": [
    {
     "data": {
      "text/plain": [
       "array(['Petrol', 'Diesel', 'Electric', 'CNG', 'LPG', 'Hybrid'],\n",
       "      dtype=object)"
      ]
     },
     "execution_count": 6,
     "metadata": {},
     "output_type": "execute_result"
    }
   ],
   "source": [
    "car['Fuel_type'].unique()"
   ]
  },
  {
   "cell_type": "code",
   "execution_count": 7,
   "id": "bd54c75c",
   "metadata": {},
   "outputs": [
    {
     "name": "stdout",
     "output_type": "stream",
     "text": [
      "<class 'pandas.core.frame.DataFrame'>\n",
      "RangeIndex: 1032 entries, 0 to 1031\n",
      "Data columns (total 6 columns):\n",
      " #   Column      Non-Null Count  Dtype \n",
      "---  ------      --------------  ----- \n",
      " 0   Name        1032 non-null   object\n",
      " 1   Price       1032 non-null   object\n",
      " 2   Kms_driven  1032 non-null   object\n",
      " 3   Fuel_type   1032 non-null   object\n",
      " 4   Year        1032 non-null   int64 \n",
      " 5   Company     1032 non-null   object\n",
      "dtypes: int64(1), object(5)\n",
      "memory usage: 48.5+ KB\n"
     ]
    }
   ],
   "source": [
    "car.info()"
   ]
  },
  {
   "cell_type": "markdown",
   "id": "54559b10",
   "metadata": {},
   "source": [
    "# Data Cleaning "
   ]
  },
  {
   "cell_type": "code",
   "execution_count": 8,
   "id": "f9e27fe9",
   "metadata": {},
   "outputs": [],
   "source": [
    "#Year is in int64. Change to int32.\n",
    "car['Year']=car['Year'].astype(int)"
   ]
  },
  {
   "cell_type": "code",
   "execution_count": 9,
   "id": "170d76f8",
   "metadata": {},
   "outputs": [],
   "source": [
    "#Price has Ask for Price\n",
    "car=car[car['Price']!='Ask For Price']"
   ]
  },
  {
   "cell_type": "code",
   "execution_count": 10,
   "id": "6997db66",
   "metadata": {},
   "outputs": [],
   "source": [
    "#Price has commas in its prices and is in object\n",
    "car['Price']=car['Price'].str.replace(',','').astype(int)"
   ]
  },
  {
   "cell_type": "code",
   "execution_count": 11,
   "id": "3edcb8f5",
   "metadata": {},
   "outputs": [],
   "source": [
    "#Kms_driven has object values with kms at last.\n",
    "car['Kms_driven']=car['Kms_driven'].str.split().str.get(0).str.replace(',','')"
   ]
  },
  {
   "cell_type": "code",
   "execution_count": 12,
   "id": "20252290",
   "metadata": {},
   "outputs": [],
   "source": [
    "car=car[car['Kms_driven'].str.isnumeric()]"
   ]
  },
  {
   "cell_type": "code",
   "execution_count": 13,
   "id": "15e8f0f3",
   "metadata": {},
   "outputs": [],
   "source": [
    "car['Kms_driven']=car['Kms_driven'].astype(int)"
   ]
  },
  {
   "cell_type": "code",
   "execution_count": 14,
   "id": "77f52c0d",
   "metadata": {},
   "outputs": [
    {
     "data": {
      "text/plain": [
       "(1026, 6)"
      ]
     },
     "execution_count": 14,
     "metadata": {},
     "output_type": "execute_result"
    }
   ],
   "source": [
    "car.shape"
   ]
  },
  {
   "cell_type": "code",
   "execution_count": 15,
   "id": "ed08a901",
   "metadata": {},
   "outputs": [],
   "source": [
    "#Company does not need any cleaning now. Changing car names. Keeping only the first three words\n",
    "car['Name']=car['Name'].str.split().str.slice(start=0,stop=3).str.join(' ')"
   ]
  },
  {
   "cell_type": "code",
   "execution_count": 16,
   "id": "e8e158da",
   "metadata": {},
   "outputs": [],
   "source": [
    "#Resetting the index of the final cleaned data\n",
    "car=car.reset_index(drop=True)"
   ]
  },
  {
   "cell_type": "code",
   "execution_count": 17,
   "id": "318e75df",
   "metadata": {},
   "outputs": [
    {
     "data": {
      "text/html": [
       "<div>\n",
       "<style scoped>\n",
       "    .dataframe tbody tr th:only-of-type {\n",
       "        vertical-align: middle;\n",
       "    }\n",
       "\n",
       "    .dataframe tbody tr th {\n",
       "        vertical-align: top;\n",
       "    }\n",
       "\n",
       "    .dataframe thead th {\n",
       "        text-align: right;\n",
       "    }\n",
       "</style>\n",
       "<table border=\"1\" class=\"dataframe\">\n",
       "  <thead>\n",
       "    <tr style=\"text-align: right;\">\n",
       "      <th></th>\n",
       "      <th>Name</th>\n",
       "      <th>Price</th>\n",
       "      <th>Kms_driven</th>\n",
       "      <th>Fuel_type</th>\n",
       "      <th>Year</th>\n",
       "      <th>Company</th>\n",
       "    </tr>\n",
       "  </thead>\n",
       "  <tbody>\n",
       "    <tr>\n",
       "      <th>0</th>\n",
       "      <td>Ford Figo Duratec</td>\n",
       "      <td>380000</td>\n",
       "      <td>35056</td>\n",
       "      <td>Petrol</td>\n",
       "      <td>2015</td>\n",
       "      <td>Ford</td>\n",
       "    </tr>\n",
       "    <tr>\n",
       "      <th>1</th>\n",
       "      <td>Maruti Suzuki Wagon</td>\n",
       "      <td>465000</td>\n",
       "      <td>44000</td>\n",
       "      <td>Petrol</td>\n",
       "      <td>2016</td>\n",
       "      <td>Maruti</td>\n",
       "    </tr>\n",
       "    <tr>\n",
       "      <th>2</th>\n",
       "      <td>Hyundai Creta 1.6</td>\n",
       "      <td>1350000</td>\n",
       "      <td>42917</td>\n",
       "      <td>Petrol</td>\n",
       "      <td>2018</td>\n",
       "      <td>Hyundai</td>\n",
       "    </tr>\n",
       "    <tr>\n",
       "      <th>3</th>\n",
       "      <td>Hyundai Venue -</td>\n",
       "      <td>1019699</td>\n",
       "      <td>16112</td>\n",
       "      <td>Petrol</td>\n",
       "      <td>2019</td>\n",
       "      <td>Hyundai</td>\n",
       "    </tr>\n",
       "    <tr>\n",
       "      <th>4</th>\n",
       "      <td>Honda Jazz -</td>\n",
       "      <td>713499</td>\n",
       "      <td>30988</td>\n",
       "      <td>Petrol</td>\n",
       "      <td>2017</td>\n",
       "      <td>Honda</td>\n",
       "    </tr>\n",
       "  </tbody>\n",
       "</table>\n",
       "</div>"
      ],
      "text/plain": [
       "                  Name    Price  Kms_driven Fuel_type  Year  Company\n",
       "0    Ford Figo Duratec   380000       35056    Petrol  2015     Ford\n",
       "1  Maruti Suzuki Wagon   465000       44000    Petrol  2016   Maruti\n",
       "2    Hyundai Creta 1.6  1350000       42917    Petrol  2018  Hyundai\n",
       "3      Hyundai Venue -  1019699       16112    Petrol  2019  Hyundai\n",
       "4         Honda Jazz -   713499       30988    Petrol  2017    Honda"
      ]
     },
     "execution_count": 17,
     "metadata": {},
     "output_type": "execute_result"
    }
   ],
   "source": [
    "car.head()"
   ]
  },
  {
   "cell_type": "code",
   "execution_count": 18,
   "id": "e367c46a",
   "metadata": {},
   "outputs": [],
   "source": [
    "#car.to_csv('Cleaned_Car_data.csv')"
   ]
  },
  {
   "cell_type": "code",
   "execution_count": 19,
   "id": "5bbc5b2d",
   "metadata": {},
   "outputs": [
    {
     "name": "stdout",
     "output_type": "stream",
     "text": [
      "<class 'pandas.core.frame.DataFrame'>\n",
      "RangeIndex: 1026 entries, 0 to 1025\n",
      "Data columns (total 6 columns):\n",
      " #   Column      Non-Null Count  Dtype \n",
      "---  ------      --------------  ----- \n",
      " 0   Name        1026 non-null   object\n",
      " 1   Price       1026 non-null   int32 \n",
      " 2   Kms_driven  1026 non-null   int32 \n",
      " 3   Fuel_type   1026 non-null   object\n",
      " 4   Year        1026 non-null   int32 \n",
      " 5   Company     1026 non-null   object\n",
      "dtypes: int32(3), object(3)\n",
      "memory usage: 36.2+ KB\n"
     ]
    }
   ],
   "source": [
    "car.info()"
   ]
  },
  {
   "cell_type": "markdown",
   "id": "c4759500",
   "metadata": {},
   "source": [
    "# Extracting Training Data"
   ]
  },
  {
   "cell_type": "code",
   "execution_count": 20,
   "id": "8bb415c6",
   "metadata": {},
   "outputs": [],
   "source": [
    "X=car[['Name','Company','Year','Kms_driven','Fuel_type']]\n",
    "y=car['Price']"
   ]
  },
  {
   "cell_type": "code",
   "execution_count": 21,
   "id": "09383053",
   "metadata": {},
   "outputs": [
    {
     "data": {
      "text/html": [
       "<div>\n",
       "<style scoped>\n",
       "    .dataframe tbody tr th:only-of-type {\n",
       "        vertical-align: middle;\n",
       "    }\n",
       "\n",
       "    .dataframe tbody tr th {\n",
       "        vertical-align: top;\n",
       "    }\n",
       "\n",
       "    .dataframe thead th {\n",
       "        text-align: right;\n",
       "    }\n",
       "</style>\n",
       "<table border=\"1\" class=\"dataframe\">\n",
       "  <thead>\n",
       "    <tr style=\"text-align: right;\">\n",
       "      <th></th>\n",
       "      <th>Name</th>\n",
       "      <th>Company</th>\n",
       "      <th>Year</th>\n",
       "      <th>Kms_driven</th>\n",
       "      <th>Fuel_type</th>\n",
       "    </tr>\n",
       "  </thead>\n",
       "  <tbody>\n",
       "    <tr>\n",
       "      <th>0</th>\n",
       "      <td>Ford Figo Duratec</td>\n",
       "      <td>Ford</td>\n",
       "      <td>2015</td>\n",
       "      <td>35056</td>\n",
       "      <td>Petrol</td>\n",
       "    </tr>\n",
       "    <tr>\n",
       "      <th>1</th>\n",
       "      <td>Maruti Suzuki Wagon</td>\n",
       "      <td>Maruti</td>\n",
       "      <td>2016</td>\n",
       "      <td>44000</td>\n",
       "      <td>Petrol</td>\n",
       "    </tr>\n",
       "    <tr>\n",
       "      <th>2</th>\n",
       "      <td>Hyundai Creta 1.6</td>\n",
       "      <td>Hyundai</td>\n",
       "      <td>2018</td>\n",
       "      <td>42917</td>\n",
       "      <td>Petrol</td>\n",
       "    </tr>\n",
       "    <tr>\n",
       "      <th>3</th>\n",
       "      <td>Hyundai Venue -</td>\n",
       "      <td>Hyundai</td>\n",
       "      <td>2019</td>\n",
       "      <td>16112</td>\n",
       "      <td>Petrol</td>\n",
       "    </tr>\n",
       "    <tr>\n",
       "      <th>4</th>\n",
       "      <td>Honda Jazz -</td>\n",
       "      <td>Honda</td>\n",
       "      <td>2017</td>\n",
       "      <td>30988</td>\n",
       "      <td>Petrol</td>\n",
       "    </tr>\n",
       "    <tr>\n",
       "      <th>...</th>\n",
       "      <td>...</td>\n",
       "      <td>...</td>\n",
       "      <td>...</td>\n",
       "      <td>...</td>\n",
       "      <td>...</td>\n",
       "    </tr>\n",
       "    <tr>\n",
       "      <th>1021</th>\n",
       "      <td>Hyundai i10 Magna</td>\n",
       "      <td>Hyundai</td>\n",
       "      <td>2014</td>\n",
       "      <td>65000</td>\n",
       "      <td>Petrol</td>\n",
       "    </tr>\n",
       "    <tr>\n",
       "      <th>1022</th>\n",
       "      <td>Maruti Suzuki Alto</td>\n",
       "      <td>Maruti</td>\n",
       "      <td>2014</td>\n",
       "      <td>60000</td>\n",
       "      <td>Petrol</td>\n",
       "    </tr>\n",
       "    <tr>\n",
       "      <th>1023</th>\n",
       "      <td>Jeep Compass Limited</td>\n",
       "      <td>Jeep</td>\n",
       "      <td>2017</td>\n",
       "      <td>31000</td>\n",
       "      <td>Diesel</td>\n",
       "    </tr>\n",
       "    <tr>\n",
       "      <th>1024</th>\n",
       "      <td>Jeep Compass Limited</td>\n",
       "      <td>Jeep</td>\n",
       "      <td>2017</td>\n",
       "      <td>31000</td>\n",
       "      <td>Diesel</td>\n",
       "    </tr>\n",
       "    <tr>\n",
       "      <th>1025</th>\n",
       "      <td>Jeep Compass Limited</td>\n",
       "      <td>Jeep</td>\n",
       "      <td>2017</td>\n",
       "      <td>31000</td>\n",
       "      <td>Diesel</td>\n",
       "    </tr>\n",
       "  </tbody>\n",
       "</table>\n",
       "<p>1026 rows × 5 columns</p>\n",
       "</div>"
      ],
      "text/plain": [
       "                      Name  Company  Year  Kms_driven Fuel_type\n",
       "0        Ford Figo Duratec     Ford  2015       35056    Petrol\n",
       "1      Maruti Suzuki Wagon   Maruti  2016       44000    Petrol\n",
       "2        Hyundai Creta 1.6  Hyundai  2018       42917    Petrol\n",
       "3          Hyundai Venue -  Hyundai  2019       16112    Petrol\n",
       "4             Honda Jazz -    Honda  2017       30988    Petrol\n",
       "...                    ...      ...   ...         ...       ...\n",
       "1021     Hyundai i10 Magna  Hyundai  2014       65000    Petrol\n",
       "1022    Maruti Suzuki Alto   Maruti  2014       60000    Petrol\n",
       "1023  Jeep Compass Limited     Jeep  2017       31000    Diesel\n",
       "1024  Jeep Compass Limited     Jeep  2017       31000    Diesel\n",
       "1025  Jeep Compass Limited     Jeep  2017       31000    Diesel\n",
       "\n",
       "[1026 rows x 5 columns]"
      ]
     },
     "execution_count": 21,
     "metadata": {},
     "output_type": "execute_result"
    }
   ],
   "source": [
    "X"
   ]
  },
  {
   "cell_type": "code",
   "execution_count": 22,
   "id": "f86ef06d",
   "metadata": {},
   "outputs": [
    {
     "data": {
      "text/plain": [
       "0        380000\n",
       "1        465000\n",
       "2       1350000\n",
       "3       1019699\n",
       "4        713499\n",
       "         ...   \n",
       "1021     229000\n",
       "1022     275000\n",
       "1023    1750000\n",
       "1024    1750000\n",
       "1025    1750000\n",
       "Name: Price, Length: 1026, dtype: int32"
      ]
     },
     "execution_count": 22,
     "metadata": {},
     "output_type": "execute_result"
    }
   ],
   "source": [
    "y"
   ]
  },
  {
   "cell_type": "markdown",
   "id": "0bf252cb",
   "metadata": {},
   "source": [
    "# Train Test Split"
   ]
  },
  {
   "cell_type": "code",
   "execution_count": 23,
   "id": "e65e0be3",
   "metadata": {},
   "outputs": [],
   "source": [
    "from sklearn.model_selection import train_test_split\n",
    "X_train,X_test,y_train,y_test=train_test_split(X,y,test_size=0.2)"
   ]
  },
  {
   "cell_type": "code",
   "execution_count": 24,
   "id": "30354ffe",
   "metadata": {},
   "outputs": [],
   "source": [
    "from sklearn.linear_model import LinearRegression"
   ]
  },
  {
   "cell_type": "code",
   "execution_count": 25,
   "id": "78ebf06d",
   "metadata": {},
   "outputs": [],
   "source": [
    "from sklearn.preprocessing import OneHotEncoder\n",
    "from sklearn.compose import make_column_transformer\n",
    "from sklearn.pipeline import make_pipeline\n",
    "from sklearn.metrics import r2_score"
   ]
  },
  {
   "cell_type": "code",
   "execution_count": 26,
   "id": "5a600346",
   "metadata": {},
   "outputs": [],
   "source": [
    "from sklearn.preprocessing import LabelEncoder"
   ]
  },
  {
   "cell_type": "code",
   "execution_count": 27,
   "id": "7cf1caf9",
   "metadata": {},
   "outputs": [
    {
     "data": {
      "text/plain": [
       "OneHotEncoder()"
      ]
     },
     "execution_count": 27,
     "metadata": {},
     "output_type": "execute_result"
    }
   ],
   "source": [
    "#Creating an OneHotEncoder object to contain all the possible categories\n",
    "ohe=OneHotEncoder()\n",
    "ohe.fit(car[['Fuel_type','Name','Company']])"
   ]
  },
  {
   "cell_type": "code",
   "execution_count": 28,
   "id": "506ca606",
   "metadata": {
    "scrolled": true
   },
   "outputs": [
    {
     "data": {
      "text/plain": [
       "[array(['CNG', 'Diesel', 'Electric', 'Hybrid', 'LPG', 'Petrol'],\n",
       "       dtype=object),\n",
       " array(['Audi Q3 -', 'Audi Q5 2.0', 'Audi Q7 3.0', 'Audi Q7 35',\n",
       "        'BMW 3 Series', 'BMW 5 Series', 'BMW X5 xDrive30d',\n",
       "        'Chevrolet Aveo -', 'Chevrolet Beat -', 'Chevrolet Beat LS',\n",
       "        'Chevrolet Beat LT', 'Chevrolet Cruze LTZ', 'Chevrolet Optra -',\n",
       "        'Chevrolet Sail 1.2', 'Chevrolet Spark -', 'Datsun GO T',\n",
       "        'Datsun Redi GO', 'Fiat Linea Dynamic', 'Fiat Linea Emotion',\n",
       "        'Fiat Punto Emotion', 'Ford EcoSport -', 'Ford EcoSport Ambiente',\n",
       "        'Ford EcoSport Titanium', 'Ford EcoSport Trend', 'Ford Ecosport -',\n",
       "        'Ford Ecosport 1.0', 'Ford Endeavor 4X4', 'Ford Figo -',\n",
       "        'Ford Figo 1.5', 'Ford Figo Aspire', 'Ford Figo Diesel',\n",
       "        'Ford Figo Duratec', 'Ford Freestyle -', 'Ford Freestyle TITANIUM',\n",
       "        'Ford Ikon -', 'Honda Accord 2.4', 'Honda Amaze -',\n",
       "        'Honda Amaze 1.2', 'Honda Amaze 1.5', 'Honda BRV -',\n",
       "        'Honda Brio -', 'Honda Brio S', 'Honda CRV -', 'Honda City -',\n",
       "        'Honda City 1.5', 'Honda City SV', 'Honda City V', 'Honda City VX',\n",
       "        'Honda City ZX', 'Honda Civic 1.8V', 'Honda Jazz -',\n",
       "        'Honda Jazz 1.2', 'Honda Jazz VX', 'Honda WR V', 'Honda WRV VX',\n",
       "        'Hyundai Accent -', 'Hyundai Creta -', 'Hyundai Creta 1.4',\n",
       "        'Hyundai Creta 1.6', 'Hyundai Creta S', 'Hyundai EON -',\n",
       "        'Hyundai EON D', 'Hyundai EON Era', 'Hyundai EON Magna',\n",
       "        'Hyundai Elite i20', 'Hyundai Eon Era', 'Hyundai Fluidic Verna',\n",
       "        'Hyundai Getz -', 'Hyundai Getz GLS', 'Hyundai Grand i10',\n",
       "        'Hyundai Santa Fe', 'Hyundai Santro -', 'Hyundai Santro 1.1',\n",
       "        'Hyundai Santro ASTA', 'Hyundai Santro GLS',\n",
       "        'Hyundai Santro Sportz', 'Hyundai Santro Xing', 'Hyundai Venue -',\n",
       "        'Hyundai Venue S', 'Hyundai Verna -', 'Hyundai Verna 1.6',\n",
       "        'Hyundai Verna FLUIDIC', 'Hyundai Verna Fluidic',\n",
       "        'Hyundai Verna SX', 'Hyundai Xcent -', 'Hyundai Xcent 1.2',\n",
       "        'Hyundai Xcent S', 'Hyundai i10 Asta', 'Hyundai i10 Era',\n",
       "        'Hyundai i10 Magna', 'Hyundai i10 Sportz', 'Hyundai i20 -',\n",
       "        'Hyundai i20 Active', 'Hyundai i20 Asta', 'Hyundai i20 Era',\n",
       "        'Hyundai i20 Magna', 'Hyundai i20 Sportz', 'Jaguar XF 2.2',\n",
       "        'Jaguar XJ L', 'Jeep Compass -', 'Jeep Compass Limited',\n",
       "        'Kia Carnival -', 'Kia Seltos -', 'Kia Seltos GTX',\n",
       "        'Kia Seltos HTX', 'Kia Sonet -', 'Land Rover Range',\n",
       "        'MG Motors Hector', 'Mahindra Bolero -', 'Mahindra Bolero B6',\n",
       "        'Mahindra Bolero ZLX', 'Mahindra Jeep CL', 'Mahindra Jeep CL550',\n",
       "        'Mahindra KUV100 K4', 'Mahindra KUV100 K6', 'Mahindra Logan -',\n",
       "        'Mahindra Marazzo M6', 'Mahindra Scorpio -',\n",
       "        'Mahindra Scorpio 2.6', 'Mahindra Scorpio LX',\n",
       "        'Mahindra Scorpio S5', 'Mahindra TUV300 -', 'Mahindra TUV300 T8',\n",
       "        'Mahindra Thar DI', 'Mahindra Verito Executive',\n",
       "        'Mahindra XUV 500', 'Mahindra Xylo -', 'Mahindra Xylo D2',\n",
       "        'Mahindra e2o T2', 'Maruti Suzuki 800', 'Maruti Suzuki Alto',\n",
       "        'Maruti Suzuki Baleno', 'Maruti Suzuki Celerio',\n",
       "        'Maruti Suzuki Ciaz', 'Maruti Suzuki Dzire', 'Maruti Suzuki Eeco',\n",
       "        'Maruti Suzuki Ertiga', 'Maruti Suzuki Gypsy',\n",
       "        'Maruti Suzuki Ignis', 'Maruti Suzuki Maruti',\n",
       "        'Maruti Suzuki Omni', 'Maruti Suzuki Ritz', 'Maruti Suzuki S',\n",
       "        'Maruti Suzuki SX4', 'Maruti Suzuki Swift', 'Maruti Suzuki Vitara',\n",
       "        'Maruti Suzuki Wagon', 'Maruti Suzuki XL6', 'Maruti Suzuki Zen',\n",
       "        'Mercedes Benz C', 'Mercedes Benz E', 'Mercedes Benz GL',\n",
       "        'Mercedes Benz GLE', 'Nissan Micra -', 'Nissan Micra Active',\n",
       "        'Nissan Micra XE', 'Nissan Micra XV', 'Nissan Terrano XV',\n",
       "        'Porsche Cayenne Select', 'Renault Captur -', 'Renault Duster -',\n",
       "        'Renault Duster 110', 'Renault Duster 110PS', 'Renault Kwid -',\n",
       "        'Renault Kwid CLIMBER', 'Renault Kwid RXL', 'Renault Kwid RXT',\n",
       "        'Renault Kwid RxL', 'Renault Lodgy -', 'Renault Pulse RxL',\n",
       "        'Renault Scala RxZ', 'Renault Triber -', 'Renault Triber 1.0',\n",
       "        'Renault Triber RXT', 'Skoda Laura Ambition', 'Skoda Rapid -',\n",
       "        'Skoda Rapid 1.5', 'Skoda Rapid Style', 'Ssangyong Rexton RX7',\n",
       "        'Tata Aria Prestige', 'Tata Harrier -', 'Tata Harrier XZ',\n",
       "        'Tata Hexa -', 'Tata Hexa XM', 'Tata Indica -',\n",
       "        'Tata Indica Vista', 'Tata Indigo CS', 'Tata Indigo LX',\n",
       "        'Tata Indigo eCS', 'Tata Nano -', 'Tata Nano CNG',\n",
       "        'Tata Nano Twist', 'Tata Nexon -', 'Tata Nexon XM',\n",
       "        'Tata Nexon XZ', 'Tata Tiago -', 'Tata Tiago Revotorq',\n",
       "        'Tata Tiago XZA', 'Tata Tigor -', 'Tata Zest XMS',\n",
       "        'Toyota Corolla Altis', 'Toyota Corolla H5', 'Toyota Etios -',\n",
       "        'Toyota Etios GD', 'Toyota Etios Liva', 'Toyota Etios V',\n",
       "        'Toyota Fortuner -', 'Toyota Fortuner 2.8', 'Toyota Fortuner 3.0',\n",
       "        'Toyota Fortuner 4x4', 'Toyota Glanza -', 'Toyota Glanza G',\n",
       "        'Toyota Glanza V', 'Toyota Innova -', 'Toyota Innova 2.0',\n",
       "        'Toyota Innova 2.5', 'Toyota Innova Crysta', 'Toyota Yaris -',\n",
       "        'Volkswagen Ameo -', 'Volkswagen Ameo Comfortline',\n",
       "        'Volkswagen Polo -', 'Volkswagen Polo COMFORTLINE',\n",
       "        'Volkswagen Polo Comfortline', 'Volkswagen Polo GT',\n",
       "        'Volkswagen Polo HIGHLINE1.2L', 'Volkswagen Polo Highline',\n",
       "        'Volkswagen Vento -', 'Volkswagen Vento Highline', 'Volvo XC60 D3',\n",
       "        'Volvo XC90 D5'], dtype=object),\n",
       " array(['Audi', 'BMW', 'Chevrolet', 'Datsun', 'Fiat', 'Ford', 'Honda',\n",
       "        'Hyundai', 'Jaguar', 'Jeep', 'Kia', 'Land', 'MG', 'Mahindra',\n",
       "        'Maruti', 'Mercedes', 'Nissan', 'Porsche', 'Renault', 'Skoda',\n",
       "        'Ssangyong', 'Tata', 'Toyota', 'Volkswagen', 'Volvo'], dtype=object)]"
      ]
     },
     "execution_count": 28,
     "metadata": {},
     "output_type": "execute_result"
    }
   ],
   "source": [
    "ohe.categories_"
   ]
  },
  {
   "cell_type": "code",
   "execution_count": 29,
   "id": "211f5973",
   "metadata": {},
   "outputs": [
    {
     "data": {
      "text/plain": [
       "ColumnTransformer(remainder='passthrough',\n",
       "                  transformers=[('onehotencoder',\n",
       "                                 OneHotEncoder(categories=[array(['CNG', 'Diesel', 'Electric', 'Hybrid', 'LPG', 'Petrol'],\n",
       "      dtype=object),\n",
       "                                                           array(['Audi Q3 -', 'Audi Q5 2.0', 'Audi Q7 3.0', 'Audi Q7 35',\n",
       "       'BMW 3 Series', 'BMW 5 Series', 'BMW X5 xDrive30d',\n",
       "       'Chevrolet Aveo -', 'Chevrolet Beat -', 'Chevrolet Beat LS',\n",
       "       'Chevrolet Beat LT', 'Chevrolet Cruz...\n",
       "       'Volkswagen Vento -', 'Volkswagen Vento Highline', 'Volvo XC60 D3',\n",
       "       'Volvo XC90 D5'], dtype=object),\n",
       "                                                           array(['Audi', 'BMW', 'Chevrolet', 'Datsun', 'Fiat', 'Ford', 'Honda',\n",
       "       'Hyundai', 'Jaguar', 'Jeep', 'Kia', 'Land', 'MG', 'Mahindra',\n",
       "       'Maruti', 'Mercedes', 'Nissan', 'Porsche', 'Renault', 'Skoda',\n",
       "       'Ssangyong', 'Tata', 'Toyota', 'Volkswagen', 'Volvo'], dtype=object)]),\n",
       "                                 ['Fuel_type', 'Name', 'Company'])])"
      ]
     },
     "execution_count": 29,
     "metadata": {},
     "output_type": "execute_result"
    }
   ],
   "source": [
    "#Creating a column transformer to transform categorical columns\n",
    "column_trans=make_column_transformer((OneHotEncoder(categories=ohe.categories_),['Fuel_type','Name','Company']),\n",
    "                                    remainder='passthrough')\n",
    "column_trans"
   ]
  },
  {
   "cell_type": "code",
   "execution_count": 30,
   "id": "56351f87",
   "metadata": {},
   "outputs": [],
   "source": [
    "#Linear Regression Model\n",
    "lr=LinearRegression()"
   ]
  },
  {
   "cell_type": "code",
   "execution_count": 31,
   "id": "47063a40",
   "metadata": {},
   "outputs": [
    {
     "data": {
      "text/plain": [
       "Pipeline(steps=[('columntransformer',\n",
       "                 ColumnTransformer(remainder='passthrough',\n",
       "                                   transformers=[('onehotencoder',\n",
       "                                                  OneHotEncoder(categories=[array(['CNG', 'Diesel', 'Electric', 'Hybrid', 'LPG', 'Petrol'],\n",
       "      dtype=object),\n",
       "                                                                            array(['Audi Q3 -', 'Audi Q5 2.0', 'Audi Q7 3.0', 'Audi Q7 35',\n",
       "       'BMW 3 Series', 'BMW 5 Series', 'BMW X5 xDrive30d',\n",
       "       'Chevrolet Aveo -', 'Chevrolet Beat -', 'Chevrolet Bea...\n",
       "       'Volkswagen Vento -', 'Volkswagen Vento Highline', 'Volvo XC60 D3',\n",
       "       'Volvo XC90 D5'], dtype=object),\n",
       "                                                                            array(['Audi', 'BMW', 'Chevrolet', 'Datsun', 'Fiat', 'Ford', 'Honda',\n",
       "       'Hyundai', 'Jaguar', 'Jeep', 'Kia', 'Land', 'MG', 'Mahindra',\n",
       "       'Maruti', 'Mercedes', 'Nissan', 'Porsche', 'Renault', 'Skoda',\n",
       "       'Ssangyong', 'Tata', 'Toyota', 'Volkswagen', 'Volvo'], dtype=object)]),\n",
       "                                                  ['Fuel_type', 'Name',\n",
       "                                                   'Company'])])),\n",
       "                ('linearregression', LinearRegression())])"
      ]
     },
     "execution_count": 31,
     "metadata": {},
     "output_type": "execute_result"
    }
   ],
   "source": [
    "#Making a pipeline of column_trans & lr\n",
    "pipe=make_pipeline(column_trans,lr)\n",
    "pipe"
   ]
  },
  {
   "cell_type": "code",
   "execution_count": 32,
   "id": "0baa1fd0",
   "metadata": {},
   "outputs": [
    {
     "data": {
      "text/plain": [
       "Pipeline(steps=[('columntransformer',\n",
       "                 ColumnTransformer(remainder='passthrough',\n",
       "                                   transformers=[('onehotencoder',\n",
       "                                                  OneHotEncoder(categories=[array(['CNG', 'Diesel', 'Electric', 'Hybrid', 'LPG', 'Petrol'],\n",
       "      dtype=object),\n",
       "                                                                            array(['Audi Q3 -', 'Audi Q5 2.0', 'Audi Q7 3.0', 'Audi Q7 35',\n",
       "       'BMW 3 Series', 'BMW 5 Series', 'BMW X5 xDrive30d',\n",
       "       'Chevrolet Aveo -', 'Chevrolet Beat -', 'Chevrolet Bea...\n",
       "       'Volkswagen Vento -', 'Volkswagen Vento Highline', 'Volvo XC60 D3',\n",
       "       'Volvo XC90 D5'], dtype=object),\n",
       "                                                                            array(['Audi', 'BMW', 'Chevrolet', 'Datsun', 'Fiat', 'Ford', 'Honda',\n",
       "       'Hyundai', 'Jaguar', 'Jeep', 'Kia', 'Land', 'MG', 'Mahindra',\n",
       "       'Maruti', 'Mercedes', 'Nissan', 'Porsche', 'Renault', 'Skoda',\n",
       "       'Ssangyong', 'Tata', 'Toyota', 'Volkswagen', 'Volvo'], dtype=object)]),\n",
       "                                                  ['Fuel_type', 'Name',\n",
       "                                                   'Company'])])),\n",
       "                ('linearregression', LinearRegression())])"
      ]
     },
     "execution_count": 32,
     "metadata": {},
     "output_type": "execute_result"
    }
   ],
   "source": [
    "#Fitting the model\n",
    "pipe.fit(X_train,y_train)"
   ]
  },
  {
   "cell_type": "code",
   "execution_count": 33,
   "id": "9a6f5b1a",
   "metadata": {},
   "outputs": [
    {
     "data": {
      "text/plain": [
       "(206,)"
      ]
     },
     "execution_count": 33,
     "metadata": {},
     "output_type": "execute_result"
    }
   ],
   "source": [
    "#prediction on X_test\n",
    "y_pred=pipe.predict(X_test)\n",
    "y_pred.shape"
   ]
  },
  {
   "cell_type": "code",
   "execution_count": 34,
   "id": "2c49fdee",
   "metadata": {},
   "outputs": [
    {
     "data": {
      "text/plain": [
       "0.43239824812188044"
      ]
     },
     "execution_count": 34,
     "metadata": {},
     "output_type": "execute_result"
    }
   ],
   "source": [
    "#Checking R2 Score\n",
    "r2_score(y_test,y_pred)"
   ]
  },
  {
   "cell_type": "code",
   "execution_count": 35,
   "id": "a7caabe1",
   "metadata": {},
   "outputs": [],
   "source": [
    "#Finding the model with a random state of TrainTestSplit where the model was found to give almost 0.91 as r2_score\n",
    "scores=[]\n",
    "for i in range(1000):\n",
    "    X_train,X_test,y_train,y_test=train_test_split(X,y,test_size=0.1,random_state=i)\n",
    "    lr=LinearRegression()\n",
    "    pipe=make_pipeline(column_trans,lr)\n",
    "    pipe.fit(X_train,y_train)\n",
    "    y_pred=pipe.predict(X_test)\n",
    "    scores.append(r2_score(y_test,y_pred))"
   ]
  },
  {
   "cell_type": "code",
   "execution_count": 36,
   "id": "854cf1eb",
   "metadata": {},
   "outputs": [
    {
     "data": {
      "text/plain": [
       "987"
      ]
     },
     "execution_count": 36,
     "metadata": {},
     "output_type": "execute_result"
    }
   ],
   "source": [
    "np.argmax(scores)"
   ]
  },
  {
   "cell_type": "code",
   "execution_count": 37,
   "id": "de87aac4",
   "metadata": {},
   "outputs": [
    {
     "data": {
      "text/plain": [
       "0.9186482723443973"
      ]
     },
     "execution_count": 37,
     "metadata": {},
     "output_type": "execute_result"
    }
   ],
   "source": [
    "scores[np.argmax(scores)]"
   ]
  },
  {
   "cell_type": "code",
   "execution_count": 38,
   "id": "60774431",
   "metadata": {},
   "outputs": [],
   "source": [
    "#The best model is found at a certain random state\n",
    "X_train,X_test,y_train,y_test=train_test_split(X,y,test_size=0.1,random_state=np.argmax(scores))\n",
    "lr=LinearRegression()\n",
    "pipe=make_pipeline(column_trans,lr)\n",
    "pipe.fit(X_train,y_train)\n",
    "y_pred=pipe.predict(X_test) "
   ]
  },
  {
   "cell_type": "code",
   "execution_count": 39,
   "id": "30707f6b",
   "metadata": {},
   "outputs": [
    {
     "data": {
      "text/plain": [
       "0.9186482723443973"
      ]
     },
     "execution_count": 39,
     "metadata": {},
     "output_type": "execute_result"
    }
   ],
   "source": [
    "r2_score(y_test,y_pred)"
   ]
  },
  {
   "cell_type": "code",
   "execution_count": 40,
   "id": "cc6c5a80",
   "metadata": {},
   "outputs": [
    {
     "name": "stdout",
     "output_type": "stream",
     "text": [
      "Training Error: 15232792165.781128\n",
      "Testing Error: 13732914182.64642\n"
     ]
    }
   ],
   "source": [
    "from sklearn.metrics import mean_squared_error\n",
    "\n",
    "# Predictions\n",
    "y_train_pred = pipe.predict(X_train)\n",
    "y_test_pred = pipe.predict(X_test)\n",
    "\n",
    "# Calculate training and testing errors\n",
    "train_error = mean_squared_error(y_train, y_train_pred)\n",
    "test_error = mean_squared_error(y_test, y_test_pred)\n",
    "\n",
    "print(f\"Training Error: {train_error}\")\n",
    "print(f\"Testing Error: {test_error}\")"
   ]
  },
  {
   "cell_type": "code",
   "execution_count": 41,
   "id": "8b3cae2d",
   "metadata": {},
   "outputs": [
    {
     "data": {
      "text/plain": [
       "<matplotlib.collections.PathCollection at 0x291dd293280>"
      ]
     },
     "execution_count": 41,
     "metadata": {},
     "output_type": "execute_result"
    },
    {
     "data": {
      "image/png": "[encoded data removed]",
      "text/plain": [
       "<Figure size 432x288 with 1 Axes>"
      ]
     },
     "metadata": {
      "needs_background": "light"
     },
     "output_type": "display_data"
    }
   ],
   "source": [
    "## plot a scatter plot for the prediction\n",
    "plt.scatter(y_test,y_pred)"
   ]
  },
  {
   "cell_type": "code",
   "execution_count": 42,
   "id": "ea8d12d6",
   "metadata": {},
   "outputs": [],
   "source": [
    "## Residuals\n",
    "residuals=y_test-y_pred"
   ]
  },
  {
   "cell_type": "code",
   "execution_count": 43,
   "id": "877d5bfd",
   "metadata": {},
   "outputs": [
    {
     "data": {
      "text/plain": [
       "400     -8375.007806\n",
       "607     57555.217579\n",
       "616      4642.529201\n",
       "498    -17728.182522\n",
       "216      4268.292926\n",
       "           ...      \n",
       "592    257243.248957\n",
       "516     -1236.091652\n",
       "807   -326482.739823\n",
       "696   -110129.049143\n",
       "112     33951.827993\n",
       "Name: Price, Length: 103, dtype: float64"
      ]
     },
     "execution_count": 43,
     "metadata": {},
     "output_type": "execute_result"
    }
   ],
   "source": [
    "residuals"
   ]
  },
  {
   "cell_type": "code",
   "execution_count": 44,
   "id": "d56e5c5f",
   "metadata": {},
   "outputs": [
    {
     "data": {
      "text/plain": [
       "<seaborn.axisgrid.FacetGrid at 0x291de69cd30>"
      ]
     },
     "execution_count": 44,
     "metadata": {},
     "output_type": "execute_result"
    },
    {
     "data": {
      "image/png": "[encoded data removed]",
      "text/plain": [
       "<Figure size 360x360 with 1 Axes>"
      ]
     },
     "metadata": {
      "needs_background": "light"
     },
     "output_type": "display_data"
    }
   ],
   "source": [
    "## Plot this residuals \n",
    "import seaborn as sns\n",
    "sns.displot(residuals,kind=\"kde\")"
   ]
  },
  {
   "cell_type": "code",
   "execution_count": 45,
   "id": "9248f39d",
   "metadata": {},
   "outputs": [
    {
     "data": {
      "text/plain": [
       "<matplotlib.collections.PathCollection at 0x291e09d8ca0>"
      ]
     },
     "execution_count": 45,
     "metadata": {},
     "output_type": "execute_result"
    },
    {
     "data": {
      "image/png": "[encoded data removed]",
      "text/plain": [
       "<Figure size 432x288 with 1 Axes>"
      ]
     },
     "metadata": {
      "needs_background": "light"
     },
     "output_type": "display_data"
    }
   ],
   "source": [
    "## Scatter plot with respect to prediction and residuals\n",
    "## uniform distribution\n",
    "plt.scatter(y_pred,residuals)"
   ]
  },
  {
   "cell_type": "code",
   "execution_count": 46,
   "id": "39743a22",
   "metadata": {},
   "outputs": [
    {
     "name": "stdout",
     "output_type": "stream",
     "text": [
      "82374.93264477534\n",
      "13732914182.64642\n",
      "117187.51717929012\n"
     ]
    }
   ],
   "source": [
    "from sklearn.metrics import mean_squared_error\n",
    "from sklearn.metrics import mean_absolute_error\n",
    "\n",
    "print(mean_absolute_error(y_test,y_pred))\n",
    "print(mean_squared_error(y_test,y_pred))\n",
    "print(np.sqrt(mean_squared_error(y_test,y_pred)))"
   ]
  },
  {
   "cell_type": "code",
   "execution_count": 47,
   "id": "fd5f6059",
   "metadata": {},
   "outputs": [
    {
     "name": "stdout",
     "output_type": "stream",
     "text": [
      "0.9186482723443973\n"
     ]
    }
   ],
   "source": [
    "from sklearn.metrics import r2_score\n",
    "score=r2_score(y_test,y_pred)\n",
    "print(score)"
   ]
  },
  {
   "cell_type": "code",
   "execution_count": 48,
   "id": "96a80d42",
   "metadata": {},
   "outputs": [
    {
     "data": {
      "text/plain": [
       "0.9144548843209126"
      ]
     },
     "execution_count": 48,
     "metadata": {},
     "output_type": "execute_result"
    }
   ],
   "source": [
    "#display adjusted R-squared\n",
    "1 - (1-score)*(len(y_test)-1)/(len(y_test)-X_test.shape[1]-1)"
   ]
  },
  {
   "cell_type": "code",
   "execution_count": 49,
   "id": "a1b55860",
   "metadata": {},
   "outputs": [
    {
     "data": {
      "text/plain": [
       "array([733866.94231476])"
      ]
     },
     "execution_count": 49,
     "metadata": {},
     "output_type": "execute_result"
    }
   ],
   "source": [
    " pipe.predict(pd.DataFrame(columns=X_test.columns,data=np.array(['Maruti Suzuki Swift','Maruti',2019,100,'Petrol']).reshape(1,5)))"
   ]
  },
  {
   "cell_type": "code",
   "execution_count": 50,
   "id": "b5e10ade",
   "metadata": {},
   "outputs": [
    {
     "data": {
      "text/html": [
       "<div>\n",
       "<style scoped>\n",
       "    .dataframe tbody tr th:only-of-type {\n",
       "        vertical-align: middle;\n",
       "    }\n",
       "\n",
       "    .dataframe tbody tr th {\n",
       "        vertical-align: top;\n",
       "    }\n",
       "\n",
       "    .dataframe thead th {\n",
       "        text-align: right;\n",
       "    }\n",
       "</style>\n",
       "<table border=\"1\" class=\"dataframe\">\n",
       "  <thead>\n",
       "    <tr style=\"text-align: right;\">\n",
       "      <th></th>\n",
       "      <th>Name</th>\n",
       "      <th>Company</th>\n",
       "      <th>Year</th>\n",
       "      <th>Kms_driven</th>\n",
       "      <th>Fuel_type</th>\n",
       "    </tr>\n",
       "  </thead>\n",
       "  <tbody>\n",
       "    <tr>\n",
       "      <th>400</th>\n",
       "      <td>Hyundai Santro -</td>\n",
       "      <td>Hyundai</td>\n",
       "      <td>2002</td>\n",
       "      <td>85000</td>\n",
       "      <td>Petrol</td>\n",
       "    </tr>\n",
       "    <tr>\n",
       "      <th>607</th>\n",
       "      <td>Maruti Suzuki Wagon</td>\n",
       "      <td>Maruti</td>\n",
       "      <td>2014</td>\n",
       "      <td>30418</td>\n",
       "      <td>Petrol</td>\n",
       "    </tr>\n",
       "    <tr>\n",
       "      <th>616</th>\n",
       "      <td>Kia Seltos HTX</td>\n",
       "      <td>Kia</td>\n",
       "      <td>2021</td>\n",
       "      <td>5600</td>\n",
       "      <td>Diesel</td>\n",
       "    </tr>\n",
       "    <tr>\n",
       "      <th>498</th>\n",
       "      <td>Maruti Suzuki Wagon</td>\n",
       "      <td>Maruti</td>\n",
       "      <td>2016</td>\n",
       "      <td>27000</td>\n",
       "      <td>Petrol</td>\n",
       "    </tr>\n",
       "    <tr>\n",
       "      <th>216</th>\n",
       "      <td>Maruti Suzuki Baleno</td>\n",
       "      <td>Maruti</td>\n",
       "      <td>2016</td>\n",
       "      <td>48329</td>\n",
       "      <td>Petrol</td>\n",
       "    </tr>\n",
       "    <tr>\n",
       "      <th>...</th>\n",
       "      <td>...</td>\n",
       "      <td>...</td>\n",
       "      <td>...</td>\n",
       "      <td>...</td>\n",
       "      <td>...</td>\n",
       "    </tr>\n",
       "    <tr>\n",
       "      <th>592</th>\n",
       "      <td>Honda City ZX</td>\n",
       "      <td>Honda</td>\n",
       "      <td>2019</td>\n",
       "      <td>29000</td>\n",
       "      <td>Petrol</td>\n",
       "    </tr>\n",
       "    <tr>\n",
       "      <th>516</th>\n",
       "      <td>Maruti Suzuki Baleno</td>\n",
       "      <td>Maruti</td>\n",
       "      <td>2019</td>\n",
       "      <td>28188</td>\n",
       "      <td>Petrol</td>\n",
       "    </tr>\n",
       "    <tr>\n",
       "      <th>807</th>\n",
       "      <td>BMW 3 Series</td>\n",
       "      <td>BMW</td>\n",
       "      <td>2013</td>\n",
       "      <td>8000</td>\n",
       "      <td>Diesel</td>\n",
       "    </tr>\n",
       "    <tr>\n",
       "      <th>696</th>\n",
       "      <td>Volkswagen Polo -</td>\n",
       "      <td>Volkswagen</td>\n",
       "      <td>2016</td>\n",
       "      <td>27995</td>\n",
       "      <td>Petrol</td>\n",
       "    </tr>\n",
       "    <tr>\n",
       "      <th>112</th>\n",
       "      <td>Volkswagen Polo HIGHLINE1.2L</td>\n",
       "      <td>Volkswagen</td>\n",
       "      <td>2010</td>\n",
       "      <td>89000</td>\n",
       "      <td>Petrol</td>\n",
       "    </tr>\n",
       "  </tbody>\n",
       "</table>\n",
       "<p>103 rows × 5 columns</p>\n",
       "</div>"
      ],
      "text/plain": [
       "                             Name     Company  Year  Kms_driven Fuel_type\n",
       "400              Hyundai Santro -     Hyundai  2002       85000    Petrol\n",
       "607           Maruti Suzuki Wagon      Maruti  2014       30418    Petrol\n",
       "616                Kia Seltos HTX         Kia  2021        5600    Diesel\n",
       "498           Maruti Suzuki Wagon      Maruti  2016       27000    Petrol\n",
       "216          Maruti Suzuki Baleno      Maruti  2016       48329    Petrol\n",
       "..                            ...         ...   ...         ...       ...\n",
       "592                 Honda City ZX       Honda  2019       29000    Petrol\n",
       "516          Maruti Suzuki Baleno      Maruti  2019       28188    Petrol\n",
       "807                  BMW 3 Series         BMW  2013        8000    Diesel\n",
       "696             Volkswagen Polo -  Volkswagen  2016       27995    Petrol\n",
       "112  Volkswagen Polo HIGHLINE1.2L  Volkswagen  2010       89000    Petrol\n",
       "\n",
       "[103 rows x 5 columns]"
      ]
     },
     "execution_count": 50,
     "metadata": {},
     "output_type": "execute_result"
    }
   ],
   "source": [
    "X_test"
   ]
  },
  {
   "cell_type": "code",
   "execution_count": 51,
   "id": "641a96b9",
   "metadata": {},
   "outputs": [
    {
     "data": {
      "text/plain": [
       "array([  97375.00780571,  361443.78242125, 1496357.47079901,\n",
       "        452728.18252163,  576330.70707387,  396195.96964233,\n",
       "        562058.62446488,  440773.52206407, 1287657.01323758,\n",
       "        582991.1700009 , 1793427.33897997,  809730.25234789,\n",
       "        704509.07106175,  445201.33996505,  355183.12078345,\n",
       "       1769408.80943784,  153072.44904146,  609423.5293474 ,\n",
       "       1316833.25181367,  448123.63256671,  554456.26735206,\n",
       "        574668.12837529,  318124.74293602,  347995.66485219,\n",
       "        836748.21564488,  322826.04675806,  351900.98725003,\n",
       "        476130.50923373,  524630.10620126,  737504.46453975,\n",
       "        475611.23807856, 1755612.4683425 ,  850928.68596292,\n",
       "        525974.54473755,  942663.30829276,  353857.97394268,\n",
       "        378430.51912124,  268941.28590553, 1745887.52170834,\n",
       "        497644.96924776, 1081873.38615067,  640431.63018741,\n",
       "        252336.25210561,  750141.39584401,   32158.76024869,\n",
       "        653947.07284547,  187824.75364456,  733767.60685173,\n",
       "        689677.51690949,  763017.80761568,  361939.47292082,\n",
       "        583822.22630662,  108431.19498114,  245795.64951807,\n",
       "        499662.18614316,  443370.48726918, 2064085.27659579,\n",
       "        572453.74450186,  945180.40689231,  748534.12456372,\n",
       "        455542.92307301, 1500438.28464912,  777786.84130532,\n",
       "        739060.66170055,  223358.81958938,  359481.48675351,\n",
       "       1054904.99883479,  680787.85665788,  552773.13481493,\n",
       "        155523.44103695,  555301.72243346,  388321.26812424,\n",
       "        726328.91642544,  488121.91761748,  679109.76390168,\n",
       "        426640.1471806 ,  705367.77348803,  477853.04917471,\n",
       "        588718.51263183, 1749533.35181886,  485761.34120992,\n",
       "        239486.0494817 ,  411901.64458123,  208913.64510322,\n",
       "        197110.70269898,  489213.29804538,  683773.9267066 ,\n",
       "        362798.6875909 ,  976440.45646136,  625457.75192916,\n",
       "        202071.7586215 ,  976440.45646136, 1026056.06110179,\n",
       "        620436.42329137, 1117028.5587291 ,  584109.96205042,\n",
       "        555230.21120749,  569603.52498823,  892756.75104268,\n",
       "        726935.0916521 , 1475370.73982264,  640828.04914317,\n",
       "        256048.17200692])"
      ]
     },
     "execution_count": 51,
     "metadata": {},
     "output_type": "execute_result"
    }
   ],
   "source": [
    "y_pred"
   ]
  },
  {
   "cell_type": "code",
   "execution_count": 52,
   "id": "bb1a6097",
   "metadata": {},
   "outputs": [
    {
     "data": {
      "text/plain": [
       "array([576330.70707387])"
      ]
     },
     "execution_count": 52,
     "metadata": {},
     "output_type": "execute_result"
    }
   ],
   "source": [
    "pipe.predict(pd.DataFrame(columns=X_test.columns,data=np.array(['Maruti Suzuki Baleno','Maruti',2016,48329,'Petrol']).reshape(1,5)))"
   ]
  },
  {
   "cell_type": "code",
   "execution_count": null,
   "id": "d7f10a0b",
   "metadata": {},
   "outputs": [],
   "source": []
  },
  {
   "cell_type": "code",
   "execution_count": 54,
   "id": "36fb1953",
   "metadata": {},
   "outputs": [],
   "source": [
    "import pickle\n",
    "#open a file, where we want to store the data\n",
    "file = open('linear_regression_model.pkl', 'wb')\n",
    "\n",
    "# dump information to that file\n",
    "pickle.dump(pipe, file)"
   ]
  },
  {
   "cell_type": "code",
   "execution_count": 56,
   "id": "0b4f0ae3",
   "metadata": {},
   "outputs": [
    {
     "data": {
      "text/plain": [
       "array([733866.94231476])"
      ]
     },
     "execution_count": 56,
     "metadata": {},
     "output_type": "execute_result"
    }
   ],
   "source": [
    "pipe.predict(pd.DataFrame(columns=['Name','Company','Year','Kms_driven','Fuel_type'],data=np.array(['Maruti Suzuki Swift','Maruti',2019,100,'Petrol']).reshape(1,5)))\n"
   ]
  },
  {
   "cell_type": "code",
   "execution_count": null,
   "id": "33b5b37f",
   "metadata": {},
   "outputs": [],
   "source": [
    "#import pickle"
   ]
  },
  {
   "cell_type": "code",
   "execution_count": null,
   "id": "61bdc5a1",
   "metadata": {},
   "outputs": [],
   "source": [
    "#pickle.dump(pipe,open('LinearRegressionModel.pkl','wb'))"
   ]
  },
  {
   "cell_type": "code",
   "execution_count": null,
   "id": "a9127822",
   "metadata": {},
   "outputs": [],
   "source": [
    "#X_test"
   ]
  },
  {
   "cell_type": "code",
   "execution_count": null,
   "id": "16e22966",
   "metadata": {},
   "outputs": [],
   "source": [
    "#y_pred.shape"
   ]
  },
  {
   "cell_type": "code",
   "execution_count": null,
   "id": "596ee64f",
   "metadata": {},
   "outputs": [],
   "source": [
    "#pipe.predict(pd.DataFrame(columns=['Name','Company','Year','Kms_driven','Fuel_type'],data=np.array(['Volkswagen Polo HIGHLINE1.2L','Volkswagen',2010,89000,'Petrol',]).reshape(1,5)))\n"
   ]
  },
  {
   "cell_type": "code",
   "execution_count": null,
   "id": "b898edc0",
   "metadata": {},
   "outputs": [],
   "source": []
  },
  {
   "cell_type": "code",
   "execution_count": null,
   "id": "c0a94ab9",
   "metadata": {},
   "outputs": [],
   "source": []
  }
 ],
 "metadata": {
  "kernelspec": {
   "display_name": "Python 3",
   "language": "python",
   "name": "python3"
  },
  "language_info": {
   "codemirror_mode": {
    "name": "ipython",
    "version": 3
   },
   "file_extension": ".py",
   "mimetype": "text/x-python",
   "name": "python",
   "nbconvert_exporter": "python",
   "pygments_lexer": "ipython3",
   "version": "3.8.8"
  }
 },
 "nbformat": 4,
 "nbformat_minor": 5
}
