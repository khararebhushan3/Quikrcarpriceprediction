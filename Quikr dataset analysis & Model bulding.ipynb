{
 "cells": [
  {
   "cell_type": "code",
   "execution_count": 28,
   "id": "54912554",
   "metadata": {},
   "outputs": [],
   "source": [
    "import pandas as pd\n",
    "import numpy as np\n",
    "import pandas as pd\n",
    "import numpy as np\n",
    "from sklearn.compose import ColumnTransformer, make_column_transformer\n",
    "from sklearn.pipeline import Pipeline, make_pipeline\n",
    "from sklearn.preprocessing import OneHotEncoder, StandardScaler\n",
    "from sklearn.ensemble import GradientBoostingRegressor\n",
    "from sklearn.linear_model import LinearRegression\n",
    "from sklearn.model_selection import train_test_split\n",
    "import pickle\n",
    "import matplotlib.pyplot as plt\n",
    "%matplotlib inline\n",
    "import sklearn"
   ]
  },
  {
   "cell_type": "code",
   "execution_count": 29,
   "id": "66c4c82c",
   "metadata": {},
   "outputs": [
    {
     "name": "stdout",
     "output_type": "stream",
     "text": [
      "1.3.0\n"
     ]
    }
   ],
   "source": [
    "print(sklearn.__version__)\n"
   ]
  },
  {
   "cell_type": "code",
   "execution_count": 30,
   "id": "831681ac",
   "metadata": {},
   "outputs": [],
   "source": [
    "car = pd.read_csv('Quikr cars.csv') "
   ]
  },
  {
   "cell_type": "code",
   "execution_count": 31,
   "id": "473b660a",
   "metadata": {},
   "outputs": [
    {
     "data": {
      "text/html": [
       "<div>\n",
       "<style scoped>\n",
       "    .dataframe tbody tr th:only-of-type {\n",
       "        vertical-align: middle;\n",
       "    }\n",
       "\n",
       "    .dataframe tbody tr th {\n",
       "        vertical-align: top;\n",
       "    }\n",
       "\n",
       "    .dataframe thead th {\n",
       "        text-align: right;\n",
       "    }\n",
       "</style>\n",
       "<table border=\"1\" class=\"dataframe\">\n",
       "  <thead>\n",
       "    <tr style=\"text-align: right;\">\n",
       "      <th></th>\n",
       "      <th>Name</th>\n",
       "      <th>Price</th>\n",
       "      <th>Kms_driven</th>\n",
       "      <th>Fuel_type</th>\n",
       "      <th>Year</th>\n",
       "      <th>Company</th>\n",
       "    </tr>\n",
       "  </thead>\n",
       "  <tbody>\n",
       "    <tr>\n",
       "      <th>0</th>\n",
       "      <td>Ford Figo Duratec Petrol EXI 1.2 - 2015</td>\n",
       "      <td>3,80,000</td>\n",
       "      <td>35,056 kms</td>\n",
       "      <td>Petrol</td>\n",
       "      <td>2015</td>\n",
       "      <td>Ford</td>\n",
       "    </tr>\n",
       "    <tr>\n",
       "      <th>1</th>\n",
       "      <td>Maruti Suzuki Wagon R VXI BS IV - 2016</td>\n",
       "      <td>4,65,000</td>\n",
       "      <td>44,000 kms</td>\n",
       "      <td>Petrol</td>\n",
       "      <td>2016</td>\n",
       "      <td>Maruti</td>\n",
       "    </tr>\n",
       "    <tr>\n",
       "      <th>2</th>\n",
       "      <td>Hyundai Creta 1.6 SX PLUS AUTO PETROL - 2018</td>\n",
       "      <td>13,50,000</td>\n",
       "      <td>42,917 kms</td>\n",
       "      <td>Petrol</td>\n",
       "      <td>2018</td>\n",
       "      <td>Hyundai</td>\n",
       "    </tr>\n",
       "    <tr>\n",
       "      <th>3</th>\n",
       "      <td>Hyundai Venue - 2019</td>\n",
       "      <td>10,19,699</td>\n",
       "      <td>16,112 kms</td>\n",
       "      <td>Petrol</td>\n",
       "      <td>2019</td>\n",
       "      <td>Hyundai</td>\n",
       "    </tr>\n",
       "    <tr>\n",
       "      <th>4</th>\n",
       "      <td>Honda Jazz - 2017</td>\n",
       "      <td>7,13,499</td>\n",
       "      <td>30,988 kms</td>\n",
       "      <td>Petrol</td>\n",
       "      <td>2017</td>\n",
       "      <td>Honda</td>\n",
       "    </tr>\n",
       "  </tbody>\n",
       "</table>\n",
       "</div>"
      ],
      "text/plain": [
       "                                           Name      Price   Kms_driven  \\\n",
       "0       Ford Figo Duratec Petrol EXI 1.2 - 2015   3,80,000  35,056 kms    \n",
       "1        Maruti Suzuki Wagon R VXI BS IV - 2016   4,65,000  44,000 kms    \n",
       "2  Hyundai Creta 1.6 SX PLUS AUTO PETROL - 2018  13,50,000  42,917 kms    \n",
       "3                          Hyundai Venue - 2019  10,19,699  16,112 kms    \n",
       "4                             Honda Jazz - 2017   7,13,499  30,988 kms    \n",
       "\n",
       "  Fuel_type  Year  Company  \n",
       "0    Petrol  2015     Ford  \n",
       "1    Petrol  2016   Maruti  \n",
       "2    Petrol  2018  Hyundai  \n",
       "3    Petrol  2019  Hyundai  \n",
       "4    Petrol  2017    Honda  "
      ]
     },
     "execution_count": 31,
     "metadata": {},
     "output_type": "execute_result"
    }
   ],
   "source": [
    "car.head()"
   ]
  },
  {
   "cell_type": "code",
   "execution_count": 32,
   "id": "99be4c13",
   "metadata": {},
   "outputs": [
    {
     "data": {
      "text/plain": [
       "(1028, 6)"
      ]
     },
     "execution_count": 32,
     "metadata": {},
     "output_type": "execute_result"
    }
   ],
   "source": [
    "car.shape"
   ]
  },
  {
   "cell_type": "code",
   "execution_count": 33,
   "id": "bd54c75c",
   "metadata": {},
   "outputs": [
    {
     "name": "stdout",
     "output_type": "stream",
     "text": [
      "<class 'pandas.core.frame.DataFrame'>\n",
      "RangeIndex: 1028 entries, 0 to 1027\n",
      "Data columns (total 6 columns):\n",
      " #   Column      Non-Null Count  Dtype \n",
      "---  ------      --------------  ----- \n",
      " 0   Name        1028 non-null   object\n",
      " 1   Price       1028 non-null   object\n",
      " 2   Kms_driven  1028 non-null   object\n",
      " 3   Fuel_type   1028 non-null   object\n",
      " 4   Year        1028 non-null   int64 \n",
      " 5   Company     1028 non-null   object\n",
      "dtypes: int64(1), object(5)\n",
      "memory usage: 48.3+ KB\n"
     ]
    }
   ],
   "source": [
    "car.info()"
   ]
  },
  {
   "cell_type": "markdown",
   "id": "54559b10",
   "metadata": {},
   "source": [
    "# Data Cleaning "
   ]
  },
  {
   "cell_type": "code",
   "execution_count": 34,
   "id": "f9e27fe9",
   "metadata": {},
   "outputs": [],
   "source": [
    "#Year is in int64. Change to int32.\n",
    "car['Year']=car['Year'].astype(int)"
   ]
  },
  {
   "cell_type": "code",
   "execution_count": 35,
   "id": "170d76f8",
   "metadata": {},
   "outputs": [],
   "source": [
    "#Price has Ask for Price\n",
    "car=car[car['Price']!='Ask For Price']"
   ]
  },
  {
   "cell_type": "code",
   "execution_count": 36,
   "id": "6997db66",
   "metadata": {},
   "outputs": [],
   "source": [
    "#Price has commas in its prices and is in object\n",
    "car['Price']=car['Price'].str.replace(',','').astype(int)"
   ]
  },
  {
   "cell_type": "code",
   "execution_count": 37,
   "id": "3edcb8f5",
   "metadata": {},
   "outputs": [],
   "source": [
    "#Kms_driven has object values with kms at last.\n",
    "car['Kms_driven']=car['Kms_driven'].str.split().str.get(0).str.replace(',','')"
   ]
  },
  {
   "cell_type": "code",
   "execution_count": 38,
   "id": "20252290",
   "metadata": {},
   "outputs": [],
   "source": [
    "car=car[car['Kms_driven'].str.isnumeric()]"
   ]
  },
  {
   "cell_type": "code",
   "execution_count": 39,
   "id": "15e8f0f3",
   "metadata": {},
   "outputs": [],
   "source": [
    "car['Kms_driven']=car['Kms_driven'].astype(int)"
   ]
  },
  {
   "cell_type": "code",
   "execution_count": 40,
   "id": "77f52c0d",
   "metadata": {},
   "outputs": [
    {
     "data": {
      "text/plain": [
       "(1022, 6)"
      ]
     },
     "execution_count": 40,
     "metadata": {},
     "output_type": "execute_result"
    }
   ],
   "source": [
    "car.shape"
   ]
  },
  {
   "cell_type": "code",
   "execution_count": 41,
   "id": "ed08a901",
   "metadata": {},
   "outputs": [],
   "source": [
    "#Company does not need any cleaning now. Changing car names. Keeping only the first three words\n",
    "car['Name']=car['Name'].str.split().str.slice(start=0,stop=3).str.join(' ')"
   ]
  },
  {
   "cell_type": "code",
   "execution_count": 42,
   "id": "23ac6c5c",
   "metadata": {},
   "outputs": [],
   "source": [
    "# Remove '-' from the end of strings in the 'Name' column\n",
    "car['Name'] = car['Name'].str.rstrip('- ').str.strip()"
   ]
  },
  {
   "cell_type": "code",
   "execution_count": 43,
   "id": "e8e158da",
   "metadata": {},
   "outputs": [],
   "source": [
    "#Resetting the index of the final cleaned data\n",
    "car=car.reset_index(drop=True)"
   ]
  },
  {
   "cell_type": "code",
   "execution_count": 44,
   "id": "318e75df",
   "metadata": {},
   "outputs": [
    {
     "data": {
      "text/html": [
       "<div>\n",
       "<style scoped>\n",
       "    .dataframe tbody tr th:only-of-type {\n",
       "        vertical-align: middle;\n",
       "    }\n",
       "\n",
       "    .dataframe tbody tr th {\n",
       "        vertical-align: top;\n",
       "    }\n",
       "\n",
       "    .dataframe thead th {\n",
       "        text-align: right;\n",
       "    }\n",
       "</style>\n",
       "<table border=\"1\" class=\"dataframe\">\n",
       "  <thead>\n",
       "    <tr style=\"text-align: right;\">\n",
       "      <th></th>\n",
       "      <th>Name</th>\n",
       "      <th>Price</th>\n",
       "      <th>Kms_driven</th>\n",
       "      <th>Fuel_type</th>\n",
       "      <th>Year</th>\n",
       "      <th>Company</th>\n",
       "    </tr>\n",
       "  </thead>\n",
       "  <tbody>\n",
       "    <tr>\n",
       "      <th>0</th>\n",
       "      <td>Ford Figo Duratec</td>\n",
       "      <td>380000</td>\n",
       "      <td>35056</td>\n",
       "      <td>Petrol</td>\n",
       "      <td>2015</td>\n",
       "      <td>Ford</td>\n",
       "    </tr>\n",
       "    <tr>\n",
       "      <th>1</th>\n",
       "      <td>Maruti Suzuki Wagon</td>\n",
       "      <td>465000</td>\n",
       "      <td>44000</td>\n",
       "      <td>Petrol</td>\n",
       "      <td>2016</td>\n",
       "      <td>Maruti</td>\n",
       "    </tr>\n",
       "    <tr>\n",
       "      <th>2</th>\n",
       "      <td>Hyundai Creta 1.6</td>\n",
       "      <td>1350000</td>\n",
       "      <td>42917</td>\n",
       "      <td>Petrol</td>\n",
       "      <td>2018</td>\n",
       "      <td>Hyundai</td>\n",
       "    </tr>\n",
       "    <tr>\n",
       "      <th>3</th>\n",
       "      <td>Hyundai Venue</td>\n",
       "      <td>1019699</td>\n",
       "      <td>16112</td>\n",
       "      <td>Petrol</td>\n",
       "      <td>2019</td>\n",
       "      <td>Hyundai</td>\n",
       "    </tr>\n",
       "    <tr>\n",
       "      <th>4</th>\n",
       "      <td>Honda Jazz</td>\n",
       "      <td>713499</td>\n",
       "      <td>30988</td>\n",
       "      <td>Petrol</td>\n",
       "      <td>2017</td>\n",
       "      <td>Honda</td>\n",
       "    </tr>\n",
       "  </tbody>\n",
       "</table>\n",
       "</div>"
      ],
      "text/plain": [
       "                  Name    Price  Kms_driven Fuel_type  Year  Company\n",
       "0    Ford Figo Duratec   380000       35056    Petrol  2015     Ford\n",
       "1  Maruti Suzuki Wagon   465000       44000    Petrol  2016   Maruti\n",
       "2    Hyundai Creta 1.6  1350000       42917    Petrol  2018  Hyundai\n",
       "3        Hyundai Venue  1019699       16112    Petrol  2019  Hyundai\n",
       "4           Honda Jazz   713499       30988    Petrol  2017    Honda"
      ]
     },
     "execution_count": 44,
     "metadata": {},
     "output_type": "execute_result"
    }
   ],
   "source": [
    "car.head()"
   ]
  },
  {
   "cell_type": "code",
   "execution_count": 45,
   "id": "e367c46a",
   "metadata": {},
   "outputs": [],
   "source": [
    "car.to_csv('Cleaned_Car_data.csv')"
   ]
  },
  {
   "cell_type": "code",
   "execution_count": 46,
   "id": "5bbc5b2d",
   "metadata": {},
   "outputs": [
    {
     "name": "stdout",
     "output_type": "stream",
     "text": [
      "<class 'pandas.core.frame.DataFrame'>\n",
      "RangeIndex: 1022 entries, 0 to 1021\n",
      "Data columns (total 6 columns):\n",
      " #   Column      Non-Null Count  Dtype \n",
      "---  ------      --------------  ----- \n",
      " 0   Name        1022 non-null   object\n",
      " 1   Price       1022 non-null   int32 \n",
      " 2   Kms_driven  1022 non-null   int32 \n",
      " 3   Fuel_type   1022 non-null   object\n",
      " 4   Year        1022 non-null   int32 \n",
      " 5   Company     1022 non-null   object\n",
      "dtypes: int32(3), object(3)\n",
      "memory usage: 36.1+ KB\n"
     ]
    }
   ],
   "source": [
    "car.info()"
   ]
  },
  {
   "cell_type": "markdown",
   "id": "c4759500",
   "metadata": {},
   "source": [
    "# Extracting Training Data"
   ]
  },
  {
   "cell_type": "code",
   "execution_count": 47,
   "id": "8bb415c6",
   "metadata": {},
   "outputs": [],
   "source": [
    "# Define features (X) and target (y) for both models\n",
    "\n",
    "X_model1 = car[['Company', 'Name', 'Year', 'Kms_driven', 'Fuel_type']]\n",
    "y_model1 = car['Price']\n",
    "\n",
    "X_model2 = car[['Company', 'Name', 'Year', 'Kms_driven', 'Fuel_type']]\n",
    "y_model2 = car['Price']"
   ]
  },
  {
   "cell_type": "code",
   "execution_count": 48,
   "id": "09383053",
   "metadata": {},
   "outputs": [],
   "source": [
    "# Preprocessing pipeline for both models\n",
    "categorical_features = ['Company', 'Name', 'Fuel_type']\n",
    "numerical_features = ['Year', 'Kms_driven']\n",
    "\n",
    "numerical_pipeline = Pipeline([\n",
    "    ('scaler', StandardScaler())\n",
    "])\n",
    "\n",
    "categorical_pipeline = Pipeline([\n",
    "    ('onehot', OneHotEncoder())\n",
    "])\n",
    "\n",
    "preprocessor = ColumnTransformer([\n",
    "    ('num', numerical_pipeline, numerical_features),\n",
    "    ('cat', categorical_pipeline, categorical_features)\n",
    "])"
   ]
  },
  {
   "cell_type": "code",
   "execution_count": 49,
   "id": "e65e0be3",
   "metadata": {},
   "outputs": [],
   "source": [
    "# Train model 1\n",
    "quantiles = [0.05, 0.95]\n",
    "quantile_regressors = {}\n",
    "for quantile in quantiles:\n",
    "    pipeline = Pipeline([\n",
    "        ('preprocessor', preprocessor),\n",
    "        ('model', GradientBoostingRegressor(loss='quantile', alpha=quantile))\n",
    "    ])\n",
    "    pipeline.fit(X_model1, y_model1)\n",
    "    quantile_regressors[quantile] = pipeline"
   ]
  },
  {
   "cell_type": "code",
   "execution_count": 50,
   "id": "30354ffe",
   "metadata": {},
   "outputs": [
    {
     "data": {
      "text/html": [
       "<style>#sk-container-id-2 {color: black;}#sk-container-id-2 pre{padding: 0;}#sk-container-id-2 div.sk-toggleable {background-color: white;}#sk-container-id-2 label.sk-toggleable__label {cursor: pointer;display: block;width: 100%;margin-bottom: 0;padding: 0.3em;box-sizing: border-box;text-align: center;}#sk-container-id-2 label.sk-toggleable__label-arrow:before {content: \"▸\";float: left;margin-right: 0.25em;color: #696969;}#sk-container-id-2 label.sk-toggleable__label-arrow:hover:before {color: black;}#sk-container-id-2 div.sk-estimator:hover label.sk-toggleable__label-arrow:before {color: black;}#sk-container-id-2 div.sk-toggleable__content {max-height: 0;max-width: 0;overflow: hidden;text-align: left;background-color: #f0f8ff;}#sk-container-id-2 div.sk-toggleable__content pre {margin: 0.2em;color: black;border-radius: 0.25em;background-color: #f0f8ff;}#sk-container-id-2 input.sk-toggleable__control:checked~div.sk-toggleable__content {max-height: 200px;max-width: 100%;overflow: auto;}#sk-container-id-2 input.sk-toggleable__control:checked~label.sk-toggleable__label-arrow:before {content: \"▾\";}#sk-container-id-2 div.sk-estimator input.sk-toggleable__control:checked~label.sk-toggleable__label {background-color: #d4ebff;}#sk-container-id-2 div.sk-label input.sk-toggleable__control:checked~label.sk-toggleable__label {background-color: #d4ebff;}#sk-container-id-2 input.sk-hidden--visually {border: 0;clip: rect(1px 1px 1px 1px);clip: rect(1px, 1px, 1px, 1px);height: 1px;margin: -1px;overflow: hidden;padding: 0;position: absolute;width: 1px;}#sk-container-id-2 div.sk-estimator {font-family: monospace;background-color: #f0f8ff;border: 1px dotted black;border-radius: 0.25em;box-sizing: border-box;margin-bottom: 0.5em;}#sk-container-id-2 div.sk-estimator:hover {background-color: #d4ebff;}#sk-container-id-2 div.sk-parallel-item::after {content: \"\";width: 100%;border-bottom: 1px solid gray;flex-grow: 1;}#sk-container-id-2 div.sk-label:hover label.sk-toggleable__label {background-color: #d4ebff;}#sk-container-id-2 div.sk-serial::before {content: \"\";position: absolute;border-left: 1px solid gray;box-sizing: border-box;top: 0;bottom: 0;left: 50%;z-index: 0;}#sk-container-id-2 div.sk-serial {display: flex;flex-direction: column;align-items: center;background-color: white;padding-right: 0.2em;padding-left: 0.2em;position: relative;}#sk-container-id-2 div.sk-item {position: relative;z-index: 1;}#sk-container-id-2 div.sk-parallel {display: flex;align-items: stretch;justify-content: center;background-color: white;position: relative;}#sk-container-id-2 div.sk-item::before, #sk-container-id-2 div.sk-parallel-item::before {content: \"\";position: absolute;border-left: 1px solid gray;box-sizing: border-box;top: 0;bottom: 0;left: 50%;z-index: -1;}#sk-container-id-2 div.sk-parallel-item {display: flex;flex-direction: column;z-index: 1;position: relative;background-color: white;}#sk-container-id-2 div.sk-parallel-item:first-child::after {align-self: flex-end;width: 50%;}#sk-container-id-2 div.sk-parallel-item:last-child::after {align-self: flex-start;width: 50%;}#sk-container-id-2 div.sk-parallel-item:only-child::after {width: 0;}#sk-container-id-2 div.sk-dashed-wrapped {border: 1px dashed gray;margin: 0 0.4em 0.5em 0.4em;box-sizing: border-box;padding-bottom: 0.4em;background-color: white;}#sk-container-id-2 div.sk-label label {font-family: monospace;font-weight: bold;display: inline-block;line-height: 1.2em;}#sk-container-id-2 div.sk-label-container {text-align: center;}#sk-container-id-2 div.sk-container {/* jupyter's `normalize.less` sets `[hidden] { display: none; }` but bootstrap.min.css set `[hidden] { display: none !important; }` so we also need the `!important` here to be able to override the default hidden behavior on the sphinx rendered scikit-learn.org. See: https://github.com/scikit-learn/scikit-learn/issues/21755 */display: inline-block !important;position: relative;}#sk-container-id-2 div.sk-text-repr-fallback {display: none;}</style><div id=\"sk-container-id-2\" class=\"sk-top-container\"><div class=\"sk-text-repr-fallback\"><pre>Pipeline(steps=[(&#x27;columntransformer&#x27;,\n",
       "                 ColumnTransformer(remainder=&#x27;passthrough&#x27;,\n",
       "                                   transformers=[(&#x27;onehotencoder&#x27;,\n",
       "                                                  OneHotEncoder(categories=[array([&#x27;Audi&#x27;, &#x27;BMW&#x27;, &#x27;Chevrolet&#x27;, &#x27;Datsun&#x27;, &#x27;Fiat&#x27;, &#x27;Ford&#x27;, &#x27;Honda&#x27;,\n",
       "       &#x27;Hyundai&#x27;, &#x27;Jaguar&#x27;, &#x27;Jeep&#x27;, &#x27;Kia&#x27;, &#x27;Land&#x27;, &#x27;MG&#x27;, &#x27;Mahindra&#x27;,\n",
       "       &#x27;Maruti&#x27;, &#x27;Mercedes&#x27;, &#x27;Nissan&#x27;, &#x27;Renault&#x27;, &#x27;Skoda&#x27;, &#x27;Ssangyong&#x27;,\n",
       "       &#x27;Tata&#x27;, &#x27;Toyota&#x27;, &#x27;Volkswagen&#x27;, &#x27;Volvo&#x27;]...\n",
       "       &#x27;Volkswagen Ameo&#x27;, &#x27;Volkswagen Ameo Comfortline&#x27;,\n",
       "       &#x27;Volkswagen Polo&#x27;, &#x27;Volkswagen Polo COMFORTLINE&#x27;,\n",
       "       &#x27;Volkswagen Polo Comfortline&#x27;, &#x27;Volkswagen Polo GT&#x27;,\n",
       "       &#x27;Volkswagen Polo HIGHLINE1.2L&#x27;, &#x27;Volkswagen Polo Highline&#x27;,\n",
       "       &#x27;Volkswagen Vento&#x27;, &#x27;Volkswagen Vento Highline&#x27;, &#x27;Volvo XC60 D3&#x27;,\n",
       "       &#x27;Volvo XC90 D5&#x27;], dtype=object)]),\n",
       "                                                  [&#x27;Company&#x27;, &#x27;Fuel_type&#x27;,\n",
       "                                                   &#x27;Name&#x27;])])),\n",
       "                (&#x27;linearregression&#x27;, LinearRegression())])</pre><b>In a Jupyter environment, please rerun this cell to show the HTML representation or trust the notebook. <br />On GitHub, the HTML representation is unable to render, please try loading this page with nbviewer.org.</b></div><div class=\"sk-container\" hidden><div class=\"sk-item sk-dashed-wrapped\"><div class=\"sk-label-container\"><div class=\"sk-label sk-toggleable\"><input class=\"sk-toggleable__control sk-hidden--visually\" id=\"sk-estimator-id-8\" type=\"checkbox\" ><label for=\"sk-estimator-id-8\" class=\"sk-toggleable__label sk-toggleable__label-arrow\">Pipeline</label><div class=\"sk-toggleable__content\"><pre>Pipeline(steps=[(&#x27;columntransformer&#x27;,\n",
       "                 ColumnTransformer(remainder=&#x27;passthrough&#x27;,\n",
       "                                   transformers=[(&#x27;onehotencoder&#x27;,\n",
       "                                                  OneHotEncoder(categories=[array([&#x27;Audi&#x27;, &#x27;BMW&#x27;, &#x27;Chevrolet&#x27;, &#x27;Datsun&#x27;, &#x27;Fiat&#x27;, &#x27;Ford&#x27;, &#x27;Honda&#x27;,\n",
       "       &#x27;Hyundai&#x27;, &#x27;Jaguar&#x27;, &#x27;Jeep&#x27;, &#x27;Kia&#x27;, &#x27;Land&#x27;, &#x27;MG&#x27;, &#x27;Mahindra&#x27;,\n",
       "       &#x27;Maruti&#x27;, &#x27;Mercedes&#x27;, &#x27;Nissan&#x27;, &#x27;Renault&#x27;, &#x27;Skoda&#x27;, &#x27;Ssangyong&#x27;,\n",
       "       &#x27;Tata&#x27;, &#x27;Toyota&#x27;, &#x27;Volkswagen&#x27;, &#x27;Volvo&#x27;]...\n",
       "       &#x27;Volkswagen Ameo&#x27;, &#x27;Volkswagen Ameo Comfortline&#x27;,\n",
       "       &#x27;Volkswagen Polo&#x27;, &#x27;Volkswagen Polo COMFORTLINE&#x27;,\n",
       "       &#x27;Volkswagen Polo Comfortline&#x27;, &#x27;Volkswagen Polo GT&#x27;,\n",
       "       &#x27;Volkswagen Polo HIGHLINE1.2L&#x27;, &#x27;Volkswagen Polo Highline&#x27;,\n",
       "       &#x27;Volkswagen Vento&#x27;, &#x27;Volkswagen Vento Highline&#x27;, &#x27;Volvo XC60 D3&#x27;,\n",
       "       &#x27;Volvo XC90 D5&#x27;], dtype=object)]),\n",
       "                                                  [&#x27;Company&#x27;, &#x27;Fuel_type&#x27;,\n",
       "                                                   &#x27;Name&#x27;])])),\n",
       "                (&#x27;linearregression&#x27;, LinearRegression())])</pre></div></div></div><div class=\"sk-serial\"><div class=\"sk-item sk-dashed-wrapped\"><div class=\"sk-label-container\"><div class=\"sk-label sk-toggleable\"><input class=\"sk-toggleable__control sk-hidden--visually\" id=\"sk-estimator-id-9\" type=\"checkbox\" ><label for=\"sk-estimator-id-9\" class=\"sk-toggleable__label sk-toggleable__label-arrow\">columntransformer: ColumnTransformer</label><div class=\"sk-toggleable__content\"><pre>ColumnTransformer(remainder=&#x27;passthrough&#x27;,\n",
       "                  transformers=[(&#x27;onehotencoder&#x27;,\n",
       "                                 OneHotEncoder(categories=[array([&#x27;Audi&#x27;, &#x27;BMW&#x27;, &#x27;Chevrolet&#x27;, &#x27;Datsun&#x27;, &#x27;Fiat&#x27;, &#x27;Ford&#x27;, &#x27;Honda&#x27;,\n",
       "       &#x27;Hyundai&#x27;, &#x27;Jaguar&#x27;, &#x27;Jeep&#x27;, &#x27;Kia&#x27;, &#x27;Land&#x27;, &#x27;MG&#x27;, &#x27;Mahindra&#x27;,\n",
       "       &#x27;Maruti&#x27;, &#x27;Mercedes&#x27;, &#x27;Nissan&#x27;, &#x27;Renault&#x27;, &#x27;Skoda&#x27;, &#x27;Ssangyong&#x27;,\n",
       "       &#x27;Tata&#x27;, &#x27;Toyota&#x27;, &#x27;Volkswagen&#x27;, &#x27;Volvo&#x27;], dtype=object),\n",
       "                                                           array([&#x27;CNG&#x27;, &#x27;Diesel&#x27;,...\n",
       "       &#x27;Toyota Innova 2.5&#x27;, &#x27;Toyota Innova Crysta&#x27;, &#x27;Toyota Yaris&#x27;,\n",
       "       &#x27;Volkswagen Ameo&#x27;, &#x27;Volkswagen Ameo Comfortline&#x27;,\n",
       "       &#x27;Volkswagen Polo&#x27;, &#x27;Volkswagen Polo COMFORTLINE&#x27;,\n",
       "       &#x27;Volkswagen Polo Comfortline&#x27;, &#x27;Volkswagen Polo GT&#x27;,\n",
       "       &#x27;Volkswagen Polo HIGHLINE1.2L&#x27;, &#x27;Volkswagen Polo Highline&#x27;,\n",
       "       &#x27;Volkswagen Vento&#x27;, &#x27;Volkswagen Vento Highline&#x27;, &#x27;Volvo XC60 D3&#x27;,\n",
       "       &#x27;Volvo XC90 D5&#x27;], dtype=object)]),\n",
       "                                 [&#x27;Company&#x27;, &#x27;Fuel_type&#x27;, &#x27;Name&#x27;])])</pre></div></div></div><div class=\"sk-parallel\"><div class=\"sk-parallel-item\"><div class=\"sk-item\"><div class=\"sk-label-container\"><div class=\"sk-label sk-toggleable\"><input class=\"sk-toggleable__control sk-hidden--visually\" id=\"sk-estimator-id-10\" type=\"checkbox\" ><label for=\"sk-estimator-id-10\" class=\"sk-toggleable__label sk-toggleable__label-arrow\">onehotencoder</label><div class=\"sk-toggleable__content\"><pre>[&#x27;Company&#x27;, &#x27;Fuel_type&#x27;, &#x27;Name&#x27;]</pre></div></div></div><div class=\"sk-serial\"><div class=\"sk-item\"><div class=\"sk-estimator sk-toggleable\"><input class=\"sk-toggleable__control sk-hidden--visually\" id=\"sk-estimator-id-11\" type=\"checkbox\" ><label for=\"sk-estimator-id-11\" class=\"sk-toggleable__label sk-toggleable__label-arrow\">OneHotEncoder</label><div class=\"sk-toggleable__content\"><pre>OneHotEncoder(categories=[array([&#x27;Audi&#x27;, &#x27;BMW&#x27;, &#x27;Chevrolet&#x27;, &#x27;Datsun&#x27;, &#x27;Fiat&#x27;, &#x27;Ford&#x27;, &#x27;Honda&#x27;,\n",
       "       &#x27;Hyundai&#x27;, &#x27;Jaguar&#x27;, &#x27;Jeep&#x27;, &#x27;Kia&#x27;, &#x27;Land&#x27;, &#x27;MG&#x27;, &#x27;Mahindra&#x27;,\n",
       "       &#x27;Maruti&#x27;, &#x27;Mercedes&#x27;, &#x27;Nissan&#x27;, &#x27;Renault&#x27;, &#x27;Skoda&#x27;, &#x27;Ssangyong&#x27;,\n",
       "       &#x27;Tata&#x27;, &#x27;Toyota&#x27;, &#x27;Volkswagen&#x27;, &#x27;Volvo&#x27;], dtype=object),\n",
       "                          array([&#x27;CNG&#x27;, &#x27;Diesel&#x27;, &#x27;Petrol&#x27;], dtype=object),\n",
       "                          array([&#x27;Audi Q3&#x27;, &#x27;Audi Q5 2.0&#x27;, &#x27;Audi Q7 3.0&#x27;, &#x27;Audi Q7 35...\n",
       "       &#x27;Toyota Glanza V&#x27;, &#x27;Toyota Innova&#x27;, &#x27;Toyota Innova 2.0&#x27;,\n",
       "       &#x27;Toyota Innova 2.5&#x27;, &#x27;Toyota Innova Crysta&#x27;, &#x27;Toyota Yaris&#x27;,\n",
       "       &#x27;Volkswagen Ameo&#x27;, &#x27;Volkswagen Ameo Comfortline&#x27;,\n",
       "       &#x27;Volkswagen Polo&#x27;, &#x27;Volkswagen Polo COMFORTLINE&#x27;,\n",
       "       &#x27;Volkswagen Polo Comfortline&#x27;, &#x27;Volkswagen Polo GT&#x27;,\n",
       "       &#x27;Volkswagen Polo HIGHLINE1.2L&#x27;, &#x27;Volkswagen Polo Highline&#x27;,\n",
       "       &#x27;Volkswagen Vento&#x27;, &#x27;Volkswagen Vento Highline&#x27;, &#x27;Volvo XC60 D3&#x27;,\n",
       "       &#x27;Volvo XC90 D5&#x27;], dtype=object)])</pre></div></div></div></div></div></div><div class=\"sk-parallel-item\"><div class=\"sk-item\"><div class=\"sk-label-container\"><div class=\"sk-label sk-toggleable\"><input class=\"sk-toggleable__control sk-hidden--visually\" id=\"sk-estimator-id-12\" type=\"checkbox\" ><label for=\"sk-estimator-id-12\" class=\"sk-toggleable__label sk-toggleable__label-arrow\">remainder</label><div class=\"sk-toggleable__content\"><pre>[&#x27;Year&#x27;, &#x27;Kms_driven&#x27;]</pre></div></div></div><div class=\"sk-serial\"><div class=\"sk-item\"><div class=\"sk-estimator sk-toggleable\"><input class=\"sk-toggleable__control sk-hidden--visually\" id=\"sk-estimator-id-13\" type=\"checkbox\" ><label for=\"sk-estimator-id-13\" class=\"sk-toggleable__label sk-toggleable__label-arrow\">passthrough</label><div class=\"sk-toggleable__content\"><pre>passthrough</pre></div></div></div></div></div></div></div></div><div class=\"sk-item\"><div class=\"sk-estimator sk-toggleable\"><input class=\"sk-toggleable__control sk-hidden--visually\" id=\"sk-estimator-id-14\" type=\"checkbox\" ><label for=\"sk-estimator-id-14\" class=\"sk-toggleable__label sk-toggleable__label-arrow\">LinearRegression</label><div class=\"sk-toggleable__content\"><pre>LinearRegression()</pre></div></div></div></div></div></div></div>"
      ],
      "text/plain": [
       "Pipeline(steps=[('columntransformer',\n",
       "                 ColumnTransformer(remainder='passthrough',\n",
       "                                   transformers=[('onehotencoder',\n",
       "                                                  OneHotEncoder(categories=[array(['Audi', 'BMW', 'Chevrolet', 'Datsun', 'Fiat', 'Ford', 'Honda',\n",
       "       'Hyundai', 'Jaguar', 'Jeep', 'Kia', 'Land', 'MG', 'Mahindra',\n",
       "       'Maruti', 'Mercedes', 'Nissan', 'Renault', 'Skoda', 'Ssangyong',\n",
       "       'Tata', 'Toyota', 'Volkswagen', 'Volvo']...\n",
       "       'Volkswagen Ameo', 'Volkswagen Ameo Comfortline',\n",
       "       'Volkswagen Polo', 'Volkswagen Polo COMFORTLINE',\n",
       "       'Volkswagen Polo Comfortline', 'Volkswagen Polo GT',\n",
       "       'Volkswagen Polo HIGHLINE1.2L', 'Volkswagen Polo Highline',\n",
       "       'Volkswagen Vento', 'Volkswagen Vento Highline', 'Volvo XC60 D3',\n",
       "       'Volvo XC90 D5'], dtype=object)]),\n",
       "                                                  ['Company', 'Fuel_type',\n",
       "                                                   'Name'])])),\n",
       "                ('linearregression', LinearRegression())])"
      ]
     },
     "execution_count": 50,
     "metadata": {},
     "output_type": "execute_result"
    }
   ],
   "source": [
    "# Train model 2\n",
    "X_train, X_test, y_train, y_test = train_test_split(X_model2, y_model2, test_size=0.1)\n",
    "ohe = OneHotEncoder()\n",
    "ohe.fit(car[['Company', 'Fuel_type', 'Name']])\n",
    "column_trans = make_column_transformer(\n",
    "    (OneHotEncoder(categories=ohe.categories_), ['Company', 'Fuel_type', 'Name']),\n",
    "    remainder='passthrough')\n",
    "lr = LinearRegression()\n",
    "pipe = make_pipeline(column_trans, lr)\n",
    "pipe.fit(X_train, y_train)"
   ]
  },
  {
   "cell_type": "code",
   "execution_count": 51,
   "id": "7cf1caf9",
   "metadata": {},
   "outputs": [
    {
     "name": "stdout",
     "output_type": "stream",
     "text": [
      "Optimal Random State: 409\n",
      "R2 Score: 0.8578132565626091\n"
     ]
    }
   ],
   "source": [
    "from sklearn.metrics import r2_score\n",
    "max_score = 0\n",
    "optimal_random_state = None\n",
    "for i in range(1000):\n",
    "    X_train, X_test, y_train, y_test = train_test_split(X_model2,y_model2, test_size=0.1, random_state=i)\n",
    "    lr = LinearRegression()\n",
    "    pipe = make_pipeline(column_trans, lr)\n",
    "    pipe.fit(X_train, y_train)\n",
    "    y_pred = pipe.predict(X_test)\n",
    "    score = r2_score(y_test, y_pred)\n",
    "    if score > max_score:\n",
    "        max_score = score\n",
    "        optimal_random_state = i\n",
    "\n",
    "print(\"Optimal Random State:\", optimal_random_state)\n",
    "print(\"R2 Score:\", max_score)"
   ]
  },
  {
   "cell_type": "code",
   "execution_count": 52,
   "id": "211f5973",
   "metadata": {},
   "outputs": [
    {
     "name": "stdout",
     "output_type": "stream",
     "text": [
      "Optimal Random State: 409\n",
      "R2 Score: 0.8578132565626091\n"
     ]
    }
   ],
   "source": [
    "# Use the optimal random state to split the data\n",
    "X_train, X_test, y_train, y_test = train_test_split(X_model2,y_model2, test_size=0.1, random_state=optimal_random_state)\n",
    "\n",
    "# Create and train the linear regression model\n",
    "lr = LinearRegression()\n",
    "pipe = make_pipeline(column_trans, lr)\n",
    "pipe.fit(X_train, y_train)\n",
    "\n",
    "# Evaluate the model\n",
    "y_pred = pipe.predict(X_test)\n",
    "score = r2_score(y_test, y_pred)\n",
    "\n",
    "print(\"Optimal Random State:\", optimal_random_state)\n",
    "print(\"R2 Score:\", score)"
   ]
  },
  {
   "cell_type": "code",
   "execution_count": 53,
   "id": "56351f87",
   "metadata": {},
   "outputs": [
    {
     "name": "stdout",
     "output_type": "stream",
     "text": [
      "Optimal Random State: 409\n",
      "R2 Score: 0.8578132565626091\n"
     ]
    }
   ],
   "source": [
    "# Use the optimal random state to split the data\n",
    "X_train, X_test, y_train, y_test = train_test_split(X_model2,y_model2, test_size=0.1, random_state=optimal_random_state)\n",
    "\n",
    "# Create and train the linear regression model\n",
    "lr = LinearRegression()\n",
    "pipe = make_pipeline(column_trans, lr)\n",
    "pipe.fit(X_train, y_train)\n",
    "\n",
    "# Evaluate the model\n",
    "y_pred = pipe.predict(X_test)\n",
    "score = r2_score(y_test, y_pred)\n",
    "\n",
    "print(\"Optimal Random State:\", optimal_random_state)\n",
    "print(\"R2 Score:\", score)"
   ]
  },
  {
   "cell_type": "code",
   "execution_count": 54,
   "id": "47063a40",
   "metadata": {},
   "outputs": [],
   "source": [
    "# Save both models\n",
    "with open('model1.pkl', 'wb') as f:\n",
    "    pickle.dump(quantile_regressors, f)\n",
    "\n",
    "with open('model2.pkl', 'wb') as f:\n",
    "    pickle.dump(pipe, f)"
   ]
  },
  {
   "cell_type": "code",
   "execution_count": 55,
   "id": "0baa1fd0",
   "metadata": {},
   "outputs": [],
   "source": [
    "# Function to predict price and estimated price for a given input\n",
    "def predict_prices(new_data):\n",
    "    # Load model 1\n",
    "    with open('model1.pkl', 'rb') as f:\n",
    "        quantile_regressors = pickle.load(f)\n",
    "    \n",
    "    # Load model 2\n",
    "    with open('model2.pkl', 'rb') as f:\n",
    "        pipe = pickle.load(f)\n",
    "\n",
    "    # Predict price using model 1\n",
    "    predictions_model1 = {}\n",
    "    for quantile, regressor in quantile_regressors.items():\n",
    "        predictions_model1[quantile] = regressor.predict(new_data)[0]\n",
    "\n",
    "    # Predict estimated price using model 2\n",
    "    predicted_price = pipe.predict(new_data)[0]\n",
    "\n",
    "    return predictions_model1, predicted_price\n"
   ]
  },
  {
   "cell_type": "code",
   "execution_count": 56,
   "id": "9a6f5b1a",
   "metadata": {},
   "outputs": [
    {
     "name": "stdout",
     "output_type": "stream",
     "text": [
      "Quantile 0.05: Quantile Loss = 18205.520486716297\n",
      "Quantile 0.95: Quantile Loss = 24340.340292267756\n",
      "Model 2 Metrics:\n",
      "MAE: 118925.2440355005\n",
      "MSE: 26572956451.503113\n",
      "R2 Score: 0.8578132565626091\n"
     ]
    }
   ],
   "source": [
    "from sklearn.metrics import mean_absolute_error, mean_squared_error, r2_score\n",
    "\n",
    "# Evaluate Model 1 (Quantile Regression)\n",
    "quantile_losses = {}\n",
    "for quantile, regressor in quantile_regressors.items():\n",
    "    predictions = regressor.predict(X_test)\n",
    "    quantile_loss = np.mean(np.maximum(quantile * (y_test - predictions), (quantile - 1) * (y_test - predictions)))\n",
    "    quantile_losses[quantile] = quantile_loss\n",
    "\n",
    "# Print quantile losses\n",
    "for quantile, loss in quantile_losses.items():\n",
    "    print(f'Quantile {quantile}: Quantile Loss = {loss}')\n",
    "\n",
    "# Evaluate Model 2 (Linear Regression)\n",
    "y_pred_model2 = pipe.predict(X_test)\n",
    "mae_model2 = mean_absolute_error(y_test, y_pred_model2)\n",
    "mse_model2 = mean_squared_error(y_test, y_pred_model2)\n",
    "r2_model2 = r2_score(y_test, y_pred_model2)\n",
    "\n",
    "print(f'Model 2 Metrics:')\n",
    "print(f'MAE: {mae_model2}')\n",
    "print(f'MSE: {mse_model2}')\n",
    "print(f'R2 Score: {r2_model2}')\n"
   ]
  },
  {
   "cell_type": "code",
   "execution_count": 57,
   "id": "2c49fdee",
   "metadata": {},
   "outputs": [
    {
     "data": {
      "image/png": "[encoded data removed]",
      "text/plain": [
       "<Figure size 1000x600 with 1 Axes>"
      ]
     },
     "metadata": {},
     "output_type": "display_data"
    }
   ],
   "source": [
    "import matplotlib.pyplot as plt\n",
    "\n",
    "# Plotting the graph\n",
    "plt.figure(figsize=(10, 6))\n",
    "plt.scatter(y_test, y_pred, color='blue', label='Predicted vs. Actual')\n",
    "plt.plot([min(y_test), max(y_test)], [min(y_test), max(y_test)], color='red', linestyle='--', label='Perfect Prediction')\n",
    "plt.title('Actual vs. Predicted Car Prices')\n",
    "plt.xlabel('Actual Price')\n",
    "plt.ylabel('Predicted Price')\n",
    "plt.legend()\n",
    "plt.grid(True)\n",
    "plt.show()\n"
   ]
  },
  {
   "cell_type": "code",
   "execution_count": 58,
   "id": "a7caabe1",
   "metadata": {},
   "outputs": [
    {
     "data": {
      "image/png": "[encoded data removed]",
      "text/plain": [
       "<Figure size 1000x600 with 1 Axes>"
      ]
     },
     "metadata": {},
     "output_type": "display_data"
    }
   ],
   "source": [
    "# Calculate residuals\n",
    "residuals = y_test - y_pred\n",
    "\n",
    "# Plotting the residuals\n",
    "plt.figure(figsize=(10, 6))\n",
    "plt.scatter(y_pred, residuals, color='blue')\n",
    "plt.axhline(y=0, color='red', linestyle='--')\n",
    "plt.title('Residuals Plot')\n",
    "plt.xlabel('Predicted Price')\n",
    "plt.ylabel('Residuals')\n",
    "plt.grid(True)\n",
    "plt.show()\n"
   ]
  },
  {
   "cell_type": "code",
   "execution_count": 59,
   "id": "0b4f0ae3",
   "metadata": {},
   "outputs": [
    {
     "name": "stdout",
     "output_type": "stream",
     "text": [
      "Model 1 Predictions (Quantile Regression): {0.05: 372774.6227448903, 0.95: 1236708.6958553346}\n",
      "Model 2 Predicted Price (Linear Regression): 858242.1099038422\n"
     ]
    }
   ],
   "source": [
    "new_data = pd.DataFrame({'Company': ['Maruti'], 'Name': ['Maruti Suzuki Swift'], 'Year': [2020], 'Kms_driven': [554750], 'Fuel_type': ['CNG']})\n",
    "predictions_model1, predicted_price = predict_prices(new_data)\n",
    "print(\"Model 1 Predictions (Quantile Regression):\", predictions_model1)\n",
    "print(\"Model 2 Predicted Price (Linear Regression):\", predicted_price)"
   ]
  }
 ],
 "metadata": {
  "kernelspec": {
   "display_name": "Python 3",
   "language": "python",
   "name": "python3"
  },
  "language_info": {
   "codemirror_mode": {
    "name": "ipython",
    "version": 3
   },
   "file_extension": ".py",
   "mimetype": "text/x-python",
   "name": "python",
   "nbconvert_exporter": "python",
   "pygments_lexer": "ipython3",
   "version": "3.12.2"
  }
 },
 "nbformat": 4,
 "nbformat_minor": 5
}
